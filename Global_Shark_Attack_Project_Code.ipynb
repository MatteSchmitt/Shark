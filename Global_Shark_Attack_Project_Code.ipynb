{
 "cells": [
  {
   "cell_type": "markdown",
   "id": "cc459441",
   "metadata": {
    "ExecuteTime": {
     "end_time": "2023-11-26T21:46:09.157602Z",
     "start_time": "2023-11-26T21:46:09.152227Z"
    },
    "id": "cc459441"
   },
   "source": [
    "# Global Shark Attacks - Final Code Notebook"
   ]
  },
  {
   "cell_type": "markdown",
   "id": "2dd16822",
   "metadata": {},
   "source": [
    "### Installations"
   ]
  },
  {
   "cell_type": "code",
   "execution_count": 3,
   "id": "bc5d9bd2",
   "metadata": {},
   "outputs": [],
   "source": [
    "# !pip install nltk\n",
    "# nltk.download('all')"
   ]
  },
  {
   "cell_type": "markdown",
   "id": "565e7c4d",
   "metadata": {},
   "source": [
    "### Imports"
   ]
  },
  {
   "cell_type": "code",
   "execution_count": 225,
   "id": "7bd3ea6c",
   "metadata": {
    "ExecuteTime": {
     "end_time": "2023-11-26T21:46:09.513451Z",
     "start_time": "2023-11-26T21:46:09.501020Z"
    },
    "colab": {
     "base_uri": "https://localhost:8080/"
    },
    "id": "7bd3ea6c",
    "outputId": "ede784dd-0e27-473f-de34-c669a17443de"
   },
   "outputs": [],
   "source": [
    "# Importing the ability to use 'RegEx' which allows us to choose certain words\n",
    "import re\n",
    "# Importing the ability to use 'Pandas' which allows for data manipulation\n",
    "import pandas as pd\n",
    "# Importing the ability to use 'Numpy' to work with arrays\n",
    "import numpy as np\n",
    "# Importing the ability to use 'Matplotlib' for data visualization\n",
    "import matplotlib.pyplot as plt\n",
    "# Importing the ability to use 'Seaborn' for data visualization\n",
    "import seaborn as sns\n",
    "#import folium\n",
    "import random\n",
    "#from folium import plugins\n",
    "#import geopandas as gpd\n",
    "#import geoviews as gv\n",
    "#from geopandas import GeoDataFrame\n",
    "#import shapefile\n",
    "import difflib\n",
    "# Importing the ability to use 'NLTK' for getting rid of stop words.\n",
    "import nltk\n",
    "from nltk.stem import WordNetLemmatizer\n",
    "from nltk.corpus import stopwords\n",
    "import warnings\n",
    "warnings.filterwarnings('ignore')\n",
    "\n",
    "# Allowing us to see the max amount of columns and rows, this helps with analyses\n",
    "pd.set_option('display.max_columns',None,'display.max_rows',None)"
   ]
  },
  {
   "cell_type": "code",
   "execution_count": 226,
   "id": "6cf5b385",
   "metadata": {
    "ExecuteTime": {
     "end_time": "2023-11-26T21:46:10.509146Z",
     "start_time": "2023-11-26T21:46:10.014702Z"
    },
    "id": "6cf5b385"
   },
   "outputs": [
    {
     "data": {
      "text/plain": [
       "Date                                                   13 Oct-2023\n",
       "Year                                                        2023.0\n",
       "Type                                                  Questionable\n",
       "Country                                                        USA\n",
       "State                                                   California\n",
       "Location          Linda Mar, Pacific State Beach, San Mateo County\n",
       "Activity                                                   Surfing\n",
       "Name                                                          male\n",
       "Sex                                                              M\n",
       "Age                                                             52\n",
       "Injury                            Minor linjury to left lower leg \n",
       "Unnamed: 11                                                    NaN\n",
       "Time                                                         15h45\n",
       "Species                                                        NaN\n",
       "Source                                        CBS News. 10/13/2023\n",
       "pdf                                                            NaN\n",
       "href formula                                                   NaN\n",
       "href                                                           NaN\n",
       "Case Number                                                    NaN\n",
       "Case Number.1                                                  NaN\n",
       "original order                                                 NaN\n",
       "Unnamed: 21                                                    NaN\n",
       "Unnamed: 22                                                    NaN\n",
       "Name: 1, dtype: object"
      ]
     },
     "execution_count": 226,
     "metadata": {},
     "output_type": "execute_result"
    }
   ],
   "source": [
    "# Readining in the dataset\n",
    "sharks = pd.read_excel(\"GSAF5.xls\")\n",
    "# Looking at the first observation from our dataset\n",
    "sharks.iloc[1]"
   ]
  },
  {
   "cell_type": "code",
   "execution_count": 227,
   "id": "56011ac7",
   "metadata": {
    "ExecuteTime": {
     "end_time": "2023-11-26T21:46:10.605708Z",
     "start_time": "2023-11-26T21:46:10.597217Z"
    },
    "id": "56011ac7"
   },
   "outputs": [],
   "source": [
    "# Selecting the columns that we want to keep and renaming a few columns\n",
    "sharks = sharks[['Date', 'Year', 'Type', 'Country', 'State', 'Location', 'Activity', 'Name',\n",
    "                  'Sex', 'Age', 'Injury', 'Unnamed: 11', 'Time', 'Species ']]\n",
    "sharks.rename(columns={'Unnamed: 11': 'Fatality'}, inplace=True)\n",
    "sharks.rename(columns={'Species ': 'Species'}, inplace=True)"
   ]
  },
  {
   "cell_type": "code",
   "execution_count": 228,
   "id": "a0c14745",
   "metadata": {
    "ExecuteTime": {
     "end_time": "2023-11-26T21:46:11.081629Z",
     "start_time": "2023-11-26T21:46:11.047481Z"
    },
    "colab": {
     "base_uri": "https://localhost:8080/"
    },
    "id": "a0c14745",
    "outputId": "314931a1-9a47-4c3e-ab57-dffa90f3d7b8"
   },
   "outputs": [
    {
     "name": "stdout",
     "output_type": "stream",
     "text": [
      "<class 'pandas.core.frame.DataFrame'>\n",
      "RangeIndex: 6931 entries, 0 to 6930\n",
      "Data columns (total 14 columns):\n",
      " #   Column    Non-Null Count  Dtype  \n",
      "---  ------    --------------  -----  \n",
      " 0   Date      6906 non-null   object \n",
      " 1   Year      6904 non-null   float64\n",
      " 2   Type      6888 non-null   object \n",
      " 3   Country   6856 non-null   object \n",
      " 4   State     6425 non-null   object \n",
      " 5   Location  6342 non-null   object \n",
      " 6   Activity  6322 non-null   object \n",
      " 7   Name      6687 non-null   object \n",
      " 8   Sex       6327 non-null   object \n",
      " 9   Age       3920 non-null   object \n",
      " 10  Injury    6871 non-null   object \n",
      " 11  Fatality  6344 non-null   object \n",
      " 12  Time      3388 non-null   object \n",
      " 13  Species   3786 non-null   object \n",
      "dtypes: float64(1), object(13)\n",
      "memory usage: 758.2+ KB\n"
     ]
    }
   ],
   "source": [
    "# Using the info method to look at what we are working with\n",
    "sharks.info()"
   ]
  },
  {
   "cell_type": "code",
   "execution_count": 229,
   "id": "04a2ae96",
   "metadata": {
    "ExecuteTime": {
     "end_time": "2023-11-26T21:46:11.365156Z",
     "start_time": "2023-11-26T21:46:11.342291Z"
    },
    "colab": {
     "base_uri": "https://localhost:8080/",
     "height": 81
    },
    "id": "04a2ae96",
    "outputId": "b63a0fa9-40df-4d17-9b78-39c568881eec",
    "scrolled": true
   },
   "outputs": [
    {
     "data": {
      "text/html": [
       "<div>\n",
       "<style scoped>\n",
       "    .dataframe tbody tr th:only-of-type {\n",
       "        vertical-align: middle;\n",
       "    }\n",
       "\n",
       "    .dataframe tbody tr th {\n",
       "        vertical-align: top;\n",
       "    }\n",
       "\n",
       "    .dataframe thead th {\n",
       "        text-align: right;\n",
       "    }\n",
       "</style>\n",
       "<table border=\"1\" class=\"dataframe\">\n",
       "  <thead>\n",
       "    <tr style=\"text-align: right;\">\n",
       "      <th></th>\n",
       "      <th>Date</th>\n",
       "      <th>Year</th>\n",
       "      <th>Type</th>\n",
       "      <th>Country</th>\n",
       "      <th>State</th>\n",
       "      <th>Location</th>\n",
       "      <th>Activity</th>\n",
       "      <th>Name</th>\n",
       "      <th>Sex</th>\n",
       "      <th>Age</th>\n",
       "      <th>Injury</th>\n",
       "      <th>Fatality</th>\n",
       "      <th>Time</th>\n",
       "      <th>Species</th>\n",
       "    </tr>\n",
       "  </thead>\n",
       "  <tbody>\n",
       "    <tr>\n",
       "      <th>0</th>\n",
       "      <td>15 Oct-2023</td>\n",
       "      <td>2023.0</td>\n",
       "      <td>Unprovoked</td>\n",
       "      <td>USA</td>\n",
       "      <td>Hawaii</td>\n",
       "      <td>Hanalei Bay, Kauai</td>\n",
       "      <td>Surfing</td>\n",
       "      <td>Kevin Kanehe</td>\n",
       "      <td>M</td>\n",
       "      <td>50</td>\n",
       "      <td>Left leg and hand injured</td>\n",
       "      <td>N</td>\n",
       "      <td>16h00</td>\n",
       "      <td>Tiger shark, 12' to 15'</td>\n",
       "    </tr>\n",
       "  </tbody>\n",
       "</table>\n",
       "</div>"
      ],
      "text/plain": [
       "          Date    Year        Type Country   State            Location  \\\n",
       "0  15 Oct-2023  2023.0  Unprovoked     USA  Hawaii  Hanalei Bay, Kauai   \n",
       "\n",
       "  Activity          Name Sex Age                     Injury Fatality   Time  \\\n",
       "0  Surfing  Kevin Kanehe   M  50  Left leg and hand injured        N  16h00   \n",
       "\n",
       "                   Species  \n",
       "0  Tiger shark, 12' to 15'  "
      ]
     },
     "execution_count": 229,
     "metadata": {},
     "output_type": "execute_result"
    }
   ],
   "source": [
    "# Removes anything over row 6905 --> Those rows contained missing data\n",
    "sharks = sharks.iloc[:6905]\n",
    "# Looking at the first observation in dataframe form\n",
    "sharks.head(1)"
   ]
  },
  {
   "cell_type": "markdown",
   "id": "6a6908e9",
   "metadata": {},
   "source": [
    "### Matthew Schmitt - Code"
   ]
  },
  {
   "cell_type": "markdown",
   "id": "cba935e3",
   "metadata": {
    "ExecuteTime": {
     "end_time": "2023-11-26T21:46:11.566237Z",
     "start_time": "2023-11-26T21:46:11.561059Z"
    },
    "id": "cba935e3"
   },
   "source": [
    "# Cleaning the \"Species\" Column"
   ]
  },
  {
   "cell_type": "code",
   "execution_count": 230,
   "id": "129e7db1",
   "metadata": {
    "ExecuteTime": {
     "end_time": "2023-11-26T21:46:12.679909Z",
     "start_time": "2023-11-26T21:46:12.606542Z"
    },
    "id": "129e7db1"
   },
   "outputs": [],
   "source": [
    "# Creating anything that is labeled as 'unknown' to be 'unidentified'\n",
    "sharks['Species'].fillna('unidentified', inplace=True)\n",
    "# Making random unknown labels to be 'unidentified'\n",
    "sharks['Species'] = sharks['Species'].replace(['Unkown', 'questionable', 'NaN', 'Unidentified species','Shark involvement suspected but not confirmed','Shark involvement prior to death suspected but not confirmed','Shark involvement unconfirmed but considered probable','Shark was said to “have a very rough ½”-thick skin','\"Shark caught later\"','Remains recovered from shark caught days later','Fishermen recovered partial remains from shark a week later','Remains recovered 5 days later','Comrades saw shark\\'s tail appear about 5\\' away','Shark involvement prior to deaths was not confirmed','Unknown','Shark seen feeding on turtle scraps thrown overboard prior to incident.','Two shark\\'s teeth recovered from canoe','\"small brown-colored shark\"','Tooth fragments recovered from hull','Salmon shark suspected, but unlikely','a small reef shark','Shark involvement prior to death still to be determined','shark pup',' ','Some drowned but other may have been killed by blue sharks','\"a young shark\"','\"juvenile shark\"','Shark involvement prior to death could not be determined','Unidentified shark','Unknown, but it was reported that a shark tooth was recovered from the wound','Reported by media as shark attack, but shark involvement prior to death was not confirmed','Shark involvement prior to death unconfired','Species unidentified','Said to involve a grey nurse shark that leapt out of the water and seized the boy but species identification is questionable',' ','Shark involvement prior to death not confirmed','','Questionable Incident','','Unidentified','Unidentified ',''], 'unidentified')\n",
    "# Making anything that was only focused on size and no name to be 'unidentified\n",
    "sharks['Species'] = sharks['Species'].replace([\"Said to involve a 6 m to 7.3 m [20' to 24'] shark\",\"Said to be a 7.6 m [25'] shark\", \"According to Carlsmith, the shark's mouth was 3' wide\",\"a small shark\",'\"a very large shark\"','Said to be a “small shark”','Questionable, 2m shark suspected','Allegedly a 33-foot shark','18-foot shark','5.5\\' to 6\\' shark','A 20\\' shark known as \"Old Tom\"','Said to involve a 2.7 m [9\\'] shark','3.7 m to 4.3 m [12\\' to 14\\']  shark','15\\'','0.7 m [2.5\\'] shark','> 3 m shark','2.4 m  [8\\'] shark','2.7 m [9\\']  shark','3 m to 4.3 m [10\\' to 14\\'] shark','4.9 m [16\\'] shark','3.5 m [11\\'6\"] shark captured','1.2 m [4\\'], possibly  larger shark','4.9 m [16\\']shark','2.7 m to 3 m [9\\' to 10\\'] sharks','\"A long thin brown-colored shark\"','<1.5 m shark','60 cm  shark','Said to involve a 4.9 m [16\\'] \"red shark\"','43\" shark','1.5 m to 1.8 m  [5\\' to 6\\'] shark','Next morning a 3 m [10\\'] shark was caught that had Andrews\\' leg in its gut','36\"  shark','5m shark','\"a little shark\"','4 m [13\\'] shark x 6','Said to involve a >4 m [13\\'] shark','3.7 [12\\'] shark','a \"small slim brown shark\"','>6.7 m [22\\']  shark','2 m [6\\'9\"] shark','3 m [10\\'] shark seen in vicinity','3.7 m [12\\'] shark & may have been another shark nearby','1.8 to 2.1 m [6\\' to 7\\'] shark','1.4 m [4.5\\'] shark','1.5 m to 1.8 m [5\\' to 6\\'] sharks','3.7 m [12\\'] shark','>3 m [10\\'] shark','<1 m shark','14\\' to 18\\'shark','4.5 m shark','3.5 to 4 m shark','3- to 4-foot shark','1m to 1.2 m shark','1.8 metre shark','4\\' tp 5\\' shark','80 kg shark','2.6 m shark','2\\' to 3\\' reef shark','2\\'  shark','2\\' to 3\\' juvenile shark','+3\\' shark','1\\' to 2\\' shark','4m shark','8\" shark','6.5\\' shark','1+ m shark','1.3m shark','5m to 6m shark','5.5 ft shark','8 ft shark','4\\' shark?','3+ m shark','4.5 to 5\\' shark','4.5\\' to 5\\' shark','A \"small shark\"','1.7 m shark','1.2 m to 1.8 m [4\\' to 6\\'] shark','60 cm to 90 cm [2\\' to 3\\'] shark','A 2\\' shark was seen in the area by witnesses','2.1 to 2.4 m [7\\' to 8\\'] shark','1.8 m to 2.4 m [6\\' to 8\\'] \"black finned shark\"','1.2 m to 1.5 m [4.5\\' to 5\\'] shark','>2 m shark','Two sharks seen in vicinity: 2.4 m & 4.25 m  [8\\' & 14\\'] TL','\"Shark had a very large girth\"','7\\' female shark','Small shark','1.5 to 1.8 m [5\\' to 6\\'] shark','1.2 m to 1.5 m [4\\' to 5\\']   shark','1.3 m [4\\'3\"] shark','1.8 m to 2.4 m [6\\' to 8\\'] shark, tooth fragments recovered','12\\' to 18\\' shark','5\\' to 7\\' shark','1\\' to 4\\' shark','Said to involve a 1.5 m shark','12\\' to 14\\' white shark','18\" to 36\" shark','[4\\' to 5\\']','3.5 m [11.5\\']shark','3\\' to 3.5\\' shark','1.5 to 2 m shark','2.27 m shark','2.5\\' shark','1.5\\' to 2\\' shark','9.5\\' shark?','2 to 3 m shark','24\" to 30\" shark','2.4 m shark','0.9 m  [3\\'] shark','0.9 m  to 1.2 m [3\\' to 4\\'] shark','3 m to 3.7 m [10\\' to 12\\'] shark','60 cm [2\\'] captive shark','2.4 m to 3 m [8\\' to 10\\'] grey colored shark','0.9 m to 1.2 m [3\\' to 4\\'] shark; Tooth fragment recovered from hand','1 m  shark','2\\' to 3.5\\' shark','2.1 m to 2.4 m [7\\' to 8\\'] shark','2.4 m to 3.7 m [8\\' to 12\\'] shark','15 cm to 20 cm [6\" to 8\"] bite diameter just below left knee','1.8 m [6\\'] reef shark - or a 2.1 m to 2.4 m [7\\' to 8\\'] grey-colored shark','3.7 m to 4.3 m [12\\' to 14\\'] shark','“small brown shark”','106 cm [3.5\\']  shark','1.2 m [4\\'] \"grey-colored shark\"','6\\' shark','4\\' shark','1.8 m [6\\'] shark','1.5 m [5\\'] shark','1.2 m [4\\'] shark','4\\' to 5\\' shark','3\\' shark','2 m shark','3 m [10\\'] shark','3\\' to 4\\' shark','2.4 m [8\\'] shark','7\\' shark','1.2 m to 1.5 m [4\\' to 5\\'] shark','1.5 m shark','\"a small shark\"','10\\' shark','8\\' shark','2\\' to 3\\' shark','1 m shark','a small shark','2.1 m [7\\'] shark','9\\' shark','2.5 m shark','\"small shark\"','5\\' to 6\\' shark','1.8 m shark','6\\' to 8\\' shark','14\\' shark','0.9 m [3\\'] shark','13\\' shark','4.6 m [15\\'] shark','15\\' shark','small shark','5\\' shark','12\\' shark','2\\' shark','4 m [13\\'] shark','4\\' to 6\\' shark','2m shark','10\\' to 12\\' shark','1m shark','4 m shark','A small shark','5.5 m [18\\'] shark','18\\' shark','3.5 m shark','2 m to 3 m shark','5 m shark','6\\' to 7\\' shark','2 sharks, 4.5 m & 3 m','5 m [16.5\\'] shark','1.8 m grey shark',''], 'unidentified')\n",
    "# Making anything that was only focused on weight and no name to be 'unidentified'\n",
    "sharks['Species'] = sharks['Species'].replace(['234-lb shark','80-lb hooked shark','2.4 m [8\\'], 600-lb shark','1,100-lb shark','2 m [6\\'9\"], 87.5-kg [193-lb]  shark','193-lb shark','8-lb shark','136-kg [300-lb] shark','20 kg shark','200 to 300 kg shark','3 m [10\\'], 270- kg [595-lb] shark','170-kg, 2.8 m shark','150-lb shark','6 m, 600-kg shark','3 m, 600-kg shark','On 8/13/2005 anglers from New Zealand caught a 2.8 m [9\\'3\"], 140-kg [309-lb] shark at the same spot. It was believed this was the same shark that killed Alysha','2 m [6.75\\'] shark, 200-kg shark T' ], 'unidentified')\n",
    "# Packs of Sharks with no name will be labeled as 'unidentified'\n",
    "sharks['Species'] = sharks['Species'].replace(['\"A pack of 6 sharks\"','\"A pack of sharks\"','Said to involve 2 sharks','a school of sharks','Remains recovered from 3 sharks','Two 2.1 m [7\\'] sharks','\"Attacked by a number of sharks\"','Said to involve 2 sharks: 5.2 m & 6 m [17\\' & 20\\']','Bitten by several 1.8 m [6\\'] sharks','Several sharks involved','Two 1.2 m to 1.5 m [4\\' to 5\\'] sharks','2 sharks, 4.5 m & 3 m','3 sharks','\"small sharks\"','a small shark',''], 'unidentified')\n",
    "\n",
    "# Getting all the 'nonconfirmed' to be labeled as 'Non confirmed'\n",
    "sharks['Species'] = sharks['Species'].replace(['Shark involvement prior to death unconfirmed', 'Shark involvement not confirmed', 'Shark involvement prior to death was not confirmed','Shark involvement questionable','Shark involvement not cofirmed','Shark involvement unconfirmed','Shark involvement prior to death remains unconfirmed','Not authenticated','Shark involvement prior to deaths unconfirmed',\"shark involvement not confirmed\",\"Shark involvement not confirmed & highly unlikely\",'Shark involvement probable, but not confirmed','Thought to involve a 3\\' to 4\\' shark, but shark involvement not confirmed','Shark involvement not confirmes','Said to involve an 8\\' shark but more likely damage caused by debris','Shark involvement  not confirmed','Shark involvement  questionable','Shark involvement not confirmed; thought to be a barracuda bite','Questionable incident - shark bite may have precipitated drowning'], 'Non confirmed')\n",
    "\n",
    "#Getting all the false reports to be one name\n",
    "sharks['Species'] = sharks['Species'].replace(['Questionable incident', 'Invalid', 'No shark involvement','No shark invovlement','Shark involvement not confirmed; officials considered barracua','Dooley believed his Injury was caused by stingray (Dasyatidae family)','no injury proof and no species identified','Considered a \"Doubtful\" incident','Reported as a shark attack, the story was a hoax','Questionable incident; reported as shark attack but thought to involve a pinniped instead'], 'false report')\n",
    "sharks['Species'] = sharks['Species'].replace(['\"The fish was harpooned, dried, and presented to the sailor, who went round Europe exhibiting it  It was said to be 20 feet long.','According to Benjamin, the injury was inflicted by a barracuda, not a shark','Shovelnose \"shark\" which is a ray, not a shark)','Authorities report injury caused bya barracuda','No shark invovlement - it ws a publicity stunt','Shark involvement highly doubtful','Injury most likely caused by barracuda, not a shark','Reported as shark attacks but injuries caused by toadfish','Reported as shark bite but injury caused by stingray','Injury believed caused by an eel, not a shark','Shark involvement not confirmed, injury may have been caused by a bluefish','Thought to involve a mako shark, but possibly a sea lion','Mr. Burgess of ISAF announced the injury was the bite of a 1.8 m [6\\', 2- to 3-year old white shark. Subsequent investigation revealed there was  no shark involvement in this incident','Not a shark attack; it was a hoax','Shark involvement not confirmed, injury may be due to a stingray','Mr. Burgess of ISAF announced the injury was the bite of a 1.8 m [6\\'], 2- to 3-year old white shark. Subsequent investigation revealed there was  no shark involvement in this incident'], 'false report')"
   ]
  },
  {
   "cell_type": "code",
   "execution_count": 231,
   "id": "0a633ec2",
   "metadata": {
    "ExecuteTime": {
     "end_time": "2023-11-26T21:46:12.987859Z",
     "start_time": "2023-11-26T21:46:12.969776Z"
    },
    "id": "0a633ec2"
   },
   "outputs": [],
   "source": [
    "# Getting all the 'nonconfirmed' to be labeled as 'Non confirmed'\n",
    "sharks['Species'] = sharks['Species'].replace(['Shark involvement prior to death unconfirmed', 'Shark involvement not confirmed', 'Shark involvement prior to death was not confirmed','Shark involvement questionable','Shark involvement not cofirmed','Shark involvement unconfirmed','Shark involvement prior to death remains unconfirmed','Not authenticated','Shark involvement prior to deaths unconfirmed',\"shark involvement not confirmed\",\"Shark involvement not confirmed & highly unlikely\",'Shark involvement probable, but not confirmed','Thought to involve a 3\\' to 4\\' shark, but shark involvement not confirmed','Shark involvement not confirmes','Said to involve an 8\\' shark but more likely damage caused by debris','Shark involvement  not confirmed','Shark involvement  questionable','Shark involvement not confirmed; thought to be a barracuda bite','Questionable incident - shark bite may have precipitated drowning'], 'Non confirmed')"
   ]
  },
  {
   "cell_type": "code",
   "execution_count": 232,
   "id": "db5d43ff",
   "metadata": {
    "ExecuteTime": {
     "end_time": "2023-11-26T21:46:18.324466Z",
     "start_time": "2023-11-26T21:46:18.132639Z"
    },
    "id": "db5d43ff"
   },
   "outputs": [],
   "source": [
    "def clean_species(species):\n",
    "    '''\n",
    "    This function cleans up the text data in each observation.\n",
    "    Returns: Cleaner species string.\n",
    "    '''\n",
    "    species = re.sub(r'[\\'\\\"\\[\\],&.<>()\\d\\?:]', '', species, flags=re.IGNORECASE)  # Remove quotation marks and ampersand as well\n",
    "    species = re.sub(r'\\b\\w{1,2}\\b', '', species, flags=re.IGNORECASE)  # Remove words with 1 or 2 characters\n",
    "    species = re.sub(r'\\bto\\b', '', species, flags=re.IGNORECASE)\n",
    "    species = re.sub(r'[-]|these', '', species, flags=re.IGNORECASE)\n",
    "    species = re.sub(r'(?<!\\w)m(?!\\w)', '', species, flags=re.IGNORECASE)\n",
    "    species = re.sub(r'\\s+', ' ', species, flags=re.IGNORECASE)\n",
    "    species = re.sub(r'\\b(kg|lb)\\b', '', species, flags=re.IGNORECASE)\n",
    "    species = re.sub(r'/', '', species, flags=re.IGNORECASE)\n",
    "    species = re.sub(r'\\bsmall\\b|\\blarge\\b', '', species, flags=re.IGNORECASE)\n",
    "    species = re.sub(r'\\bcm\\b', '', species, flags=re.IGNORECASE)  # Removes 'cm'\n",
    "    species = re.sub(r'\\bpossibly\\b', '', species, flags=re.IGNORECASE)  # Removes 'possibly'\n",
    "    species = re.sub(r'\\bbelieved\\b', '', species, flags=re.IGNORECASE)  # Removes 'believed'\n",
    "    species = re.sub(r'\\bthough\\b', '', species, flags=re.IGNORECASE)  # Removes 'though'\n",
    "    species = re.sub(r'\\binvolve\\b', '', species, flags=re.IGNORECASE)  # Removes 'involve'\n",
    "    species = re.sub(r'\\bsaid\\b', '', species, flags=re.IGNORECASE)  # Removes 'said'\n",
    "    species = re.sub(r'\\bthoughtinvolve\\b', '', species, flags=re.IGNORECASE)  # Removes 'thoughtinvolve'\n",
    "    species = re.sub(r'\\bMiami\\b', '', species, flags=re.IGNORECASE)  # Removes 'Miami'\n",
    "    species = re.sub(r'\\btooth\\b', '', species, flags=re.IGNORECASE)  # Removes 'tooth'\n",
    "    species = re.sub(r'\\bfragment\\b', '', species, flags=re.IGNORECASE)  # Removes 'fragment'\n",
    "    species = re.sub(r'\\bfemale\\b', '', species, flags=re.IGNORECASE)  # Removes 'female'\n",
    "    species = re.sub(r'\\bjuvenile\\b', '', species, flags=re.IGNORECASE)  # Removes 'juvenile'\n",
    "    species = re.sub(r'\\bfrom\\b', '', species, flags=re.IGNORECASE)  # Removes 'from'\n",
    "    species = re.sub(r'\\bpossiby\\b', '', species, flags=re.IGNORECASE)  # Removes 'possiby'\n",
    "    species = re.sub(r'\\bpossibly\\b', '', species, flags=re.IGNORECASE)  # Removes 'possibly'\n",
    "    species = re.sub(r'\\bpossibily\\b', '', species, flags=re.IGNORECASE)  # Removes 'possibily'\n",
    "    species = re.sub(r'\\breported\\b', '', species, flags=re.IGNORECASE)  # Removes 'reported'\n",
    "    species = re.sub(r'\\bmost likely\\b', '', species, flags=re.IGNORECASE)  # Removes 'most likely'\n",
    "    species = re.sub(r'\\ballegedly\\b', '', species, flags=re.IGNORECASE)  # Removes 'allegedly'\n",
    "\n",
    "    # Add 'shark' to the end of the text if it doesn't contain 'shark' and doesn't match certain conditions\n",
    "    if 'shark' not in species.lower() and species.lower() not in ['unidentified', 'non confirmed', 'false report']:\n",
    "        species = species + ' shark'\n",
    "    return species.strip()\n",
    "sharks['Species'] = sharks['Species'].apply(clean_species)"
   ]
  },
  {
   "cell_type": "code",
   "execution_count": 233,
   "id": "34a66183",
   "metadata": {
    "ExecuteTime": {
     "end_time": "2023-11-26T21:46:18.440892Z",
     "start_time": "2023-11-26T21:46:18.411157Z"
    },
    "id": "34a66183"
   },
   "outputs": [],
   "source": [
    "# This function continues to add onto the cleaning of the species column\n",
    "def clean_species(species):\n",
    "    # Remove any spaces or words after the word 'shark'\n",
    "    species = re.sub(r'(shark)\\s+\\b.*', r'\\1', species, flags=re.IGNORECASE)\n",
    "    return species.strip()\n",
    "sharks['Species'] = sharks['Species'].apply(clean_species)"
   ]
  },
  {
   "cell_type": "code",
   "execution_count": 234,
   "id": "b4e84356",
   "metadata": {
    "ExecuteTime": {
     "end_time": "2023-11-26T21:46:18.686345Z",
     "start_time": "2023-11-26T21:46:18.671040Z"
    },
    "id": "b4e84356"
   },
   "outputs": [],
   "source": [
    "# Cleaning another 'Unidentified' entry\n",
    "sharks['Species'] = sharks['Species'].replace(['Questionable incident; shark', 'Unknown but the shark','gaffed shark','Species unknown possible white shark','school sharks','Identified carcharinid shark','sharks teeth found embedded the woodwork the boat','“” shark','Shark','shark','sharks'], 'unidentified')"
   ]
  },
  {
   "cell_type": "code",
   "execution_count": 235,
   "id": "cee3f390",
   "metadata": {
    "ExecuteTime": {
     "end_time": "2023-11-26T21:46:18.936847Z",
     "start_time": "2023-11-26T21:46:18.926299Z"
    },
    "id": "cee3f390"
   },
   "outputs": [],
   "source": [
    "# Cleaning another 'Non-confirmed' entry\n",
    "sharks['Species'] = sharks['Species'].replace(['Doubtful Unconfirmed attack Unable verify local records shark','Questionable shark'], 'Non confirmed')"
   ]
  },
  {
   "cell_type": "code",
   "execution_count": 236,
   "id": "7b1f5c10",
   "metadata": {
    "ExecuteTime": {
     "end_time": "2023-11-26T21:46:19.158660Z",
     "start_time": "2023-11-26T21:46:19.141224Z"
    },
    "id": "7b1f5c10"
   },
   "outputs": [],
   "source": [
    "# Define the cleaning function\n",
    "def clean_species(species):\n",
    "    # If the text contains 'shark', keep only the two words before it\n",
    "    if 'shark' in species.lower():\n",
    "        match = re.search(r'(\\b\\w+\\s+\\w+)\\s+shark', species, flags=re.IGNORECASE)\n",
    "        if match:\n",
    "            species = match.group(1)\n",
    "    return species.strip()\n",
    "\n",
    "# Apply the cleaning function to the 'Species' column\n",
    "sharks['Species'] = sharks['Species'].apply(clean_species)"
   ]
  },
  {
   "cell_type": "code",
   "execution_count": 237,
   "id": "f307d66c",
   "metadata": {
    "ExecuteTime": {
     "end_time": "2023-11-26T21:46:19.730201Z",
     "start_time": "2023-11-26T21:46:19.345395Z"
    },
    "id": "f307d66c"
   },
   "outputs": [],
   "source": [
    "# Mapping of keywords and their corresponding replacements\n",
    "keywords_mapping = {\n",
    "   # 'tiger': 'Tiger shark',\n",
    "   # 'white': 'White shark',\n",
    "    'nurse': 'Nurse shark',\n",
    "    'bull': 'Bull shark',\n",
    "    'bronze': 'Bronze whaler shark',\n",
    "    'wobbegong': 'Wobbegong shark',\n",
    "   # 'blacktip': 'Blacktip shark',\n",
    "    'mako': 'Mako shark',\n",
    "    'raggedtooth': 'Raggedtooth shark',\n",
    "    'lemon': 'Lemon shark',\n",
    "    'blue': 'Blue shark',\n",
    "    'zambesi': 'Bull shark',\n",
    "    'hammerhead': 'Hammerhead shark',\n",
    "    #'whitetip': 'Whitetip shark',\n",
    "   # 'sandtiger': 'Sandtiger shark'\n",
    "}\n",
    "\n",
    "# Define the cleaning function\n",
    "def clean_species(species):\n",
    "    species_lower = species.lower()\n",
    "\n",
    "    # Checking for the presence of each keyword and applying replacements\n",
    "    for keyword, replacement in keywords_mapping.items():\n",
    "        if keyword in species_lower:\n",
    "            species = replacement\n",
    "        else:\n",
    "            # Allowing for potential misspellings or similar words using difflib\n",
    "            matches = difflib.get_close_matches(keyword, species_lower.split())\n",
    "            if matches:\n",
    "                for match in matches:\n",
    "                    if match in species_lower:\n",
    "                        species = replacement\n",
    "                        break\n",
    "\n",
    "    return species.strip()\n",
    "\n",
    "# Apply the cleaning function to the 'Species' column\n",
    "sharks['Species'] = sharks['Species'].apply(clean_species)"
   ]
  },
  {
   "cell_type": "code",
   "execution_count": 238,
   "id": "3c60e26d",
   "metadata": {
    "ExecuteTime": {
     "end_time": "2023-11-26T21:46:19.748180Z",
     "start_time": "2023-11-26T21:46:19.732638Z"
    },
    "id": "3c60e26d"
   },
   "outputs": [],
   "source": [
    "# Cleaning more Unidentified Species\n",
    "sharks['Species'] = sharks['Species'].replace(['Questionable incident; shark', 'Unknown but the shark','gaffed shark','Species unknown possible white shark','school sharks','Identified carcharinid shark','sharks teeth found embedded the woodwork the boat','“” shark','Shark','shark','sharks','recovered  kayak','catsharks','than length','Invalid incident','not caused','“speareye” shark','Questionable incident','foot shark','gangeticus Fayrer','sketch observer','Less than','cold for','suit found','sharks involved','cocktail shark','pack sharks','Survivors  species','Sharks averaged length','greycolored shark','local records','adult male','grey shark','Description shark','* dog shark','sand shark','reef shark','Reef shark','Sand shark','sandshark','banjo shark','Questionable incident;  shark','ground shark','Cow shark','days later','cow shark','Thought   sand','gray shark','sharks attacked survivors the water'], 'unidentified')"
   ]
  },
  {
   "cell_type": "code",
   "execution_count": 239,
   "id": "1283cf0f",
   "metadata": {
    "ExecuteTime": {
     "end_time": "2023-11-26T21:46:20.242564Z",
     "start_time": "2023-11-26T21:46:20.177090Z"
    },
    "id": "1283cf0f"
   },
   "outputs": [],
   "source": [
    "# Continuing to clean the 'Species' column\n",
    "sharks['Species'] = sharks['Species'].replace(['white shark','White sharks','White xhark','Thought  white','shot white','recovered  white','unknown  white','While shark','Alleged  White','Alleged  white','Wfite shark','those  white','White Shark','white sharks'], 'White shark')\n",
    "sharks['Species'] = sharks['Species'].replace(['tiger shark','Tiger sharks','ashore tiger','Thought  tiger','Thought  Tiger','Tiger sharks area','probably tiger','found tiger'], 'Tiger shark')\n",
    "sharks['Species'] = sharks['Species'].replace(['leucas shark'], 'Bull shark')\n",
    "sharks['Species'] = sharks['Species'].replace([], 'Nurse shark')\n",
    "sharks['Species'] = sharks['Species'].replace(['whaler shark','Whaler shark','copper shark','Copper shark','fragments “whaler” shark','whaler tiger'], 'Bronze whaler shark')\n",
    "sharks['Species'] = sharks['Species'].replace([], 'Blue shark')\n",
    "sharks['Species'] = sharks['Species'].replace(['Bonita sharkk'], 'Mako shark')\n",
    "sharks['Species'] = sharks['Species'].replace(['carpet shark','Carpet shark'], 'Wobbegong shark')\n",
    "sharks['Species'] = sharks['Species'].replace(['Blacktip shark','blacktip shark','maculpinnis limbatus','blackfin shark','Atlantic blacktip','Thought  blacktip','blacktipped shark'], 'Oceanic blacktip shark')\n",
    "sharks['Species'] = sharks['Species'].replace([], 'Hammerhead shark')\n",
    "sharks['Species'] = sharks['Species'].replace([], 'Lemon shark')\n",
    "sharks['Species'] = sharks['Species'].replace([], 'Raggedtooth shark')\n",
    "sharks['Species'] = sharks['Species'].replace(['Oceanic whitetip','Oceaniic whitetip','whitetip shark','oceanic whitetip'], 'Oceanic whitetip shark')\n",
    "sharks['Species'] = sharks['Species'].replace(['sandtiger shark','Thought  sandtiger','Sand tiger'], 'Sandtiger shark')\n",
    "sharks['Species'] = sharks['Species'].replace(['Grey reef','grey reef','Gray reef'], 'Grey reef shark')\n",
    "sharks['Species'] = sharks['Species'].replace(['Caribbean reef','Caribbean rreef','Caribbean Reef'], 'Caribbean reef shark')\n",
    "sharks['Species'] = sharks['Species'].replace(['blacktip spinner','Blacktip spinner','spinner shark','Blacktip Spinner','Spinner blacktip','spinner blacktip'], 'Spinner shark')\n",
    "sharks['Species'] = sharks['Species'].replace(['Sevengill shark','gill shark','seven gill','sevengill shark','sixgill sevengill'], 'Broadnose sevengill shark')\n",
    "sharks['Species'] = sharks['Species'].replace(['Blacktip reef','blacktip reef','Blacktip Reef','Blacktail reef','black tipped'], 'Blacktip reef shark')\n",
    "sharks['Species'] = sharks['Species'].replace([], 'Angel shark')\n",
    "sharks['Species'] = sharks['Species'].replace([], 'Basking shark')\n",
    "sharks['Species'] = sharks['Species'].replace(['gut Galapagos'], 'Galapagos shark')\n",
    "sharks['Species'] = sharks['Species'].replace(['dusky shark','obscurus Steel','recovered  dusky','dusky blacktip','dusky shark'], 'Dusky shark')\n",
    "sharks['Species'] = sharks['Species'].replace(['porbeagle shark','Porbeagle white','Porbeagle white'], 'Porbeagle shark')\n",
    "sharks['Species'] = sharks['Species'].replace(['Cookiecutter sharks','Thought  cookiecutter'], 'Cookiecutter shark')\n",
    "sharks['Species'] = sharks['Species'].replace(['dog shark','dogfish shark','Dog shark'], 'Spiny dogfish')\n",
    "sharks['Species'] = sharks['Species'].replace(['Whitetip reef','Whtietip reef','whitetipped reef'], 'Whitetip reef shark')\n",
    "sharks['Species'] = sharks['Species'].replace(['sandbar shark','blacktip sandbar','sandbar dusky'], 'Sandbar shark')\n",
    "sharks['Species'] = sharks['Species'].replace([], 'Goblin shark')\n",
    "sharks['Species'] = sharks['Species'].replace(['albimarginatus shark','silvertip shark'], 'Silvertip shark')\n",
    "sharks['Species'] = sharks['Species'].replace([], 'Leopard shark')\n",
    "sharks['Species'] = sharks['Species'].replace(['Shovelnose shark'], 'Shovelnose guitarfish')\n",
    "sharks['Species'] = sharks['Species'].replace(['silky shark'], 'Silky shark')\n",
    "sharks['Species'] = sharks['Species'].replace(['gummy shark'], 'Gummy shark')\n",
    "sharks['Species'] = sharks['Species'].replace([], 'Horn shark')\n",
    "sharks['Species'] = sharks['Species'].replace(['whaler Galeolamna'], 'Creek whaler shark')\n",
    "sharks['Species'] = sharks['Species'].replace(['Carcharhinus tilstoni'], 'Australian blacktip shark')\n",
    "sharks['Species'] = sharks['Species'].replace(['thresher shark','whiptail shark'], 'Thresher shark')\n",
    "sharks['Species'] = sharks['Species'].replace(['Port Jackson'], 'Port Jackson shark')\n",
    "sharks['Species'] = sharks['Species'].replace(['Soupfin shark','Tope shark'], 'School shark')\n",
    "sharks['Species'] = sharks['Species'].replace(['Starry smoothhound'], 'Starry smoothhound shark')\n",
    "sharks['Species'] = sharks['Species'].replace([], 'Epaulette shark')\n",
    "sharks['Species'] = sharks['Species'].replace(['spotted catshark'], 'Small spotted catshark')"
   ]
  },
  {
   "cell_type": "code",
   "execution_count": 240,
   "id": "59d76b38",
   "metadata": {
    "ExecuteTime": {
     "end_time": "2023-11-26T21:46:20.883939Z",
     "start_time": "2023-11-26T21:46:20.870078Z"
    },
    "id": "59d76b38",
    "scrolled": false
   },
   "outputs": [
    {
     "data": {
      "text/plain": [
       "unidentified     4295\n",
       "White shark       689\n",
       "Non confirmed     320\n",
       "Tiger shark       288\n",
       "Bull shark        249\n",
       "Name: Species, dtype: int64"
      ]
     },
     "execution_count": 240,
     "metadata": {},
     "output_type": "execute_result"
    }
   ],
   "source": [
    "# Seeing value counts for the top 5 'Species'\n",
    "species_counts = sharks['Species'].value_counts()\n",
    "species_counts.head()"
   ]
  },
  {
   "cell_type": "markdown",
   "id": "3765688e",
   "metadata": {},
   "source": [
    "### Bar Chart for 'Species' Type"
   ]
  },
  {
   "cell_type": "code",
   "execution_count": 241,
   "id": "d73bcd3b",
   "metadata": {},
   "outputs": [
    {
     "data": {
      "image/png": "[encoded data removed]",
      "text/plain": [
       "<Figure size 640x480 with 1 Axes>"
      ]
     },
     "metadata": {},
     "output_type": "display_data"
    }
   ],
   "source": [
    "species_counts = sharks['Species'].value_counts()\n",
    " \n",
    "false_report_count = species_counts.get('false report', 0)\n",
    "unidentified_count = species_counts.get('unidentified', 0)\n",
    "non_confirmed_count = species_counts.get('Non confirmed', 0)\n",
    "other_species_count = species_counts.sum() - unidentified_count - false_report_count - non_confirmed_count\n",
    "\n",
    "# Creating a bar plot to show the types of 'Species' of sharks within our dataset\n",
    "sns.barplot(x=[unidentified_count, other_species_count, non_confirmed_count, false_report_count],\n",
    "            y=['Unidentified', 'Identified sharks', 'Non Confirmed', 'False Report'],\n",
    "            palette=['teal', 'cornflowerblue', 'lightgrey', 'grey'])\n",
    " \n",
    "# Fixing the Formatting and Labels\n",
    "plt.title('Shark Attack Identification')\n",
    "plt.xlabel('Attacks')\n",
    "plt.show()"
   ]
  },
  {
   "cell_type": "code",
   "execution_count": 242,
   "id": "735abfd2",
   "metadata": {},
   "outputs": [
    {
     "data": {
      "image/png": "[encoded data removed]",
      "text/plain": [
       "<Figure size 1000x600 with 1 Axes>"
      ]
     },
     "metadata": {},
     "output_type": "display_data"
    }
   ],
   "source": [
    "sharkkssp = sharks[~sharks['Species'].isin(['unidentified', 'false report', 'Non confirmed'])]\n",
    "\n",
    "species_counts = sharkkssp['Species'].value_counts()\n",
    " \n",
    "species_counts_filtered = species_counts[species_counts > 0]\n",
    " \n",
    "species_counts_filtered = species_counts_filtered.sort_values(ascending=True)\n",
    " \n",
    "plt.figure(figsize=(10, 6))\n",
    "species_counts_filtered.plot(kind='barh', color='cornflowerblue')  \n",
    " \n",
    "# Formatting the Labels and Title\n",
    "plt.title('Shark Species Involved in Attacks')\n",
    "plt.xlabel('Number of Attacks')\n",
    "plt.ylabel('')\n",
    "plt.yticks(fontsize = 6)\n",
    "\n",
    "# Showing the plot\n",
    "plt.show()"
   ]
  },
  {
   "cell_type": "markdown",
   "id": "56a1ceab",
   "metadata": {
    "ExecuteTime": {
     "end_time": "2023-11-26T21:46:21.922272Z",
     "start_time": "2023-11-26T21:46:21.917654Z"
    },
    "id": "56a1ceab"
   },
   "source": [
    "# Cleaning the \"Type\" Column"
   ]
  },
  {
   "cell_type": "code",
   "execution_count": 244,
   "id": "987daced",
   "metadata": {
    "ExecuteTime": {
     "end_time": "2023-11-26T21:46:22.391042Z",
     "start_time": "2023-11-26T21:46:22.374365Z"
    },
    "id": "987daced"
   },
   "outputs": [
    {
     "data": {
      "text/plain": [
       "Unprovoked             5076\n",
       "Provoked                632\n",
       "Sea Disaster            603\n",
       "Under Investigation     576\n",
       "Name: Type, dtype: int64"
      ]
     },
     "execution_count": 244,
     "metadata": {},
     "output_type": "execute_result"
    }
   ],
   "source": [
    "# Cleaning the 'Type' Column and replacing values with 'Sea Disaster' and 'Under Investigation'\n",
    "sharks['Type'] = sharks['Type'].replace(['Watercraft','Boat'], 'Sea Disaster')\n",
    "sharks['Type'] = sharks['Type'].replace(['Invalid','Questionable','?','Unconfirmed','Unverified'], 'Under Investigation')\n",
    "sharks['Type'] = sharks['Type'].replace('Under investigation', 'Under Investigation')\n",
    "different_types = sharks['Type'].value_counts()\n",
    "different_types"
   ]
  },
  {
   "cell_type": "markdown",
   "id": "b8b0e1ce",
   "metadata": {},
   "source": [
    "### Visualizing the \"Types\" data in the Bar Chart"
   ]
  },
  {
   "cell_type": "code",
   "execution_count": 246,
   "id": "f5191e3e",
   "metadata": {
    "ExecuteTime": {
     "end_time": "2023-11-26T21:46:23.205177Z",
     "start_time": "2023-11-26T21:46:22.876679Z"
    },
    "colab": {
     "base_uri": "https://localhost:8080/",
     "height": 651
    },
    "id": "f5191e3e",
    "outputId": "a4493885-7887-4518-d1a3-8c7e7c9a966b"
   },
   "outputs": [
    {
     "data": {
      "image/png": "[encoded data removed]",
      "text/plain": [
       "<Figure size 640x480 with 1 Axes>"
      ]
     },
     "metadata": {},
     "output_type": "display_data"
    }
   ],
   "source": [
    "type_counts = sharks['Type'].value_counts()\n",
    " \n",
    "unprovoked_count = type_counts.get('Unprovoked', 0)\n",
    "provoked_count = type_counts.get('Provoked', 0)\n",
    "sea_disaster_count = type_counts.get('Sea Disaster', 0)\n",
    "under_investigation_count = type_counts.get('Under Investigation', 0)\n",
    "\n",
    "# Creating a bar plot to show the types of 'Species' of sharks within our dataset\n",
    "sns.barplot(x=[unprovoked_count, provoked_count, sea_disaster_count, under_investigation_count],\n",
    "            y=['Unprovoked', 'Provoked', 'Sea Disaster', 'Under Investigation'],\n",
    "            palette=['lightblue', 'blue', 'cornflowerblue', 'grey'])\n",
    " \n",
    "# Fixing the Formatting and Labels\n",
    "plt.title('Shark Attack Identification')\n",
    "plt.xlabel('Attacks')\n",
    "plt.show()"
   ]
  },
  {
   "cell_type": "markdown",
   "id": "809965f2",
   "metadata": {
    "ExecuteTime": {
     "end_time": "2023-11-26T21:46:27.596287Z",
     "start_time": "2023-11-26T21:46:27.591639Z"
    },
    "id": "809965f2"
   },
   "source": [
    "# Cleaning the \"State\" Variable"
   ]
  },
  {
   "cell_type": "code",
   "execution_count": 247,
   "id": "dbb3e60c",
   "metadata": {
    "ExecuteTime": {
     "end_time": "2023-11-26T21:46:29.379963Z",
     "start_time": "2023-11-26T21:46:29.365849Z"
    },
    "id": "dbb3e60c",
    "scrolled": true
   },
   "outputs": [],
   "source": [
    "states = sharks['State'].value_counts()\n",
    "#states.value_counts()"
   ]
  },
  {
   "cell_type": "code",
   "execution_count": 248,
   "id": "4a6afba5",
   "metadata": {
    "ExecuteTime": {
     "end_time": "2023-11-26T21:46:29.469020Z",
     "start_time": "2023-11-26T21:46:29.381430Z"
    },
    "id": "4a6afba5"
   },
   "outputs": [],
   "source": [
    "def cleaning(state):\n",
    "    '''\n",
    "    Purpose: This function cleans the 'state' column, by using Regular Expressions to strip certain keywords.\n",
    "    Returns: Cleans the string.\n",
    "    '''\n",
    "    if isinstance(state, str):\n",
    "        state = re.sub(r'\\s+', ' ', state.strip())\n",
    "        state = re.sub(r'\\d+\\s*(miles|km|nm)', '', state, flags=re.IGNORECASE)  # Remove distances\n",
    "        state = re.sub(r'\\s+', ' ', state.strip())\n",
    "        state = re.sub(r'\\boff\\b', '', state, flags=re.IGNORECASE)  # Remove 'off'\n",
    "        state = re.sub(r'\\s+', ' ', state.strip())\n",
    "        state = re.sub(r'\\?', '', state)\n",
    "        state = re.sub(r'\\s+', ' ', state.strip())\n",
    "        state = re.sub(r'[()]', '', state)\n",
    "        state = re.sub(r'\\s+', ' ', state.strip())\n",
    "        state = re.sub(r',', '', state)\n",
    "        state = re.sub(r'\\s+', ' ', state.strip())\n",
    "        state = re.sub(r'\"', '', state)\n",
    "        state = re.sub(r'\\s+', ' ', state.strip())\n",
    "        state = re.sub(r'\\.(?!\\d)', '', state)  # Remove periods not followed by a digit\n",
    "        state = re.sub(r'\\s+', ' ', state.strip())\n",
    "        return state\n",
    "    else:\n",
    "        return state\n",
    "sharks['State'] = sharks['State'].apply(cleaning)"
   ]
  },
  {
   "cell_type": "markdown",
   "id": "dd572020",
   "metadata": {
    "id": "dd572020"
   },
   "source": [
    "# Cleaning the \"Country\" Variable"
   ]
  },
  {
   "cell_type": "code",
   "execution_count": 249,
   "id": "0429d61b",
   "metadata": {
    "ExecuteTime": {
     "end_time": "2023-11-26T22:14:07.421093Z",
     "start_time": "2023-11-26T22:14:07.406092Z"
    },
    "id": "0429d61b"
   },
   "outputs": [],
   "source": [
    "# Cleaning the 'Country' variable\n",
    "countries = sharks['Country']\n",
    "sharks['Country'] = sharks['Country'].apply(cleaning)"
   ]
  },
  {
   "cell_type": "markdown",
   "id": "2b14adcf",
   "metadata": {
    "ExecuteTime": {
     "end_time": "2023-11-26T22:00:38.833746Z",
     "start_time": "2023-11-26T22:00:38.829704Z"
    },
    "id": "2b14adcf"
   },
   "source": [
    "# Cleaning the \"Injury\" Variable"
   ]
  },
  {
   "cell_type": "code",
   "execution_count": 250,
   "id": "25f0fc9a",
   "metadata": {
    "ExecuteTime": {
     "end_time": "2023-11-26T22:00:39.095329Z",
     "start_time": "2023-11-26T22:00:39.029588Z"
    },
    "id": "25f0fc9a"
   },
   "outputs": [],
   "source": [
    "# Analyzing the 'Injury' column\n",
    "hurt = sharks['Injury'].value_counts()\n",
    "#print(hurt)"
   ]
  },
  {
   "cell_type": "code",
   "execution_count": 251,
   "id": "64073b85",
   "metadata": {
    "ExecuteTime": {
     "end_time": "2023-11-26T22:00:39.373853Z",
     "start_time": "2023-11-26T22:00:39.209000Z"
    },
    "id": "64073b85"
   },
   "outputs": [],
   "source": [
    "# Applying the 'cleaning' function to the 'Injury' column\n",
    "sharks['Injury'] = sharks['Injury'].apply(cleaning)"
   ]
  },
  {
   "cell_type": "code",
   "execution_count": 252,
   "id": "4ca7d6ec",
   "metadata": {},
   "outputs": [],
   "source": [
    "def find_body_part(injury_description, body_parts):\n",
    "    '''\n",
    "    Purpose: Finds whether the body part was on the left side or right side of the body.\n",
    "    Returns: The part of the body and the side of the body the part was on.\n",
    "    '''\n",
    "    injury_description = str(injury_description).lower()\n",
    "    # Check for right or left in the description\n",
    "    side = None\n",
    "    if 'right' in injury_description:\n",
    "        side = 'Right'\n",
    "    elif 'left' in injury_description:\n",
    "        side = 'Left'\n",
    "    # Check for specific body parts\n",
    "    for part in body_parts:\n",
    "        if part.lower() in injury_description:\n",
    "            return part, side\n",
    "    return 'Other', None\n",
    " \n",
    "def find_body_part_combined(injury_description):\n",
    "    '''\n",
    "    Purpose: Obtains the certain side the injury occurred on and what body part was attacked.\n",
    "    Returns: The side of which the injury too place and what body part was attacked. If no particular side was attacked,\n",
    "    then return just the body part.\n",
    "    '''\n",
    "    body_parts = ['Other', 'Leg', 'Foot', 'Arm', 'Hand', 'Thigh', 'Calf', 'Ear', \n",
    "                  'Ankle', 'Knee', 'Head', 'Torso', 'Shoulder', 'Fingers', 'Heel', 'Abdomen', \n",
    "                  'Back', 'Face', 'Hip', 'Wrist', 'Shin', 'Buttocks', 'Toes', 'Teeth', 'Elbow', \n",
    "                  'Rib', 'Thumb', 'Nose', 'Jaw', 'Groin', 'Chin', 'Cheek', 'Eye', 'Scalp', \n",
    "                  'Neck', 'Pelvis', 'Arch', 'Trunk', 'Ring finger', 'Femur']\n",
    "    body_part, side = find_body_part(injury_description, body_parts)\n",
    "    if side:\n",
    "        return f\"{side} {body_part}\"\n",
    "    else:\n",
    "        return body_part\n",
    "    \n",
    "# Applying the 'find_body_part_combined' function\n",
    "sharks['Injury'] = sharks['Injury'].apply(find_body_part_combined)\n",
    " \n",
    "# Analyzing the value counts now.\n",
    "body_part_counts = sharks['Injury'].value_counts()\n",
    "#print(body_part_counts)"
   ]
  },
  {
   "cell_type": "code",
   "execution_count": 253,
   "id": "2ca66098",
   "metadata": {},
   "outputs": [],
   "source": [
    "# Simplifying the body parts for plotting\n",
    "def find_body_part(injury_description, body_parts):\n",
    "    injury_description = str(injury_description).lower()\n",
    "    for part in body_parts:\n",
    "        if part.lower() in injury_description:\n",
    "            return part\n",
    "    return 'Other'\n",
    " \n",
    "body_parts = ['Other', 'Leg', 'Foot', 'Hand', 'Arm', 'Thigh', 'Calf', 'Ear', \n",
    "              'Ankle', 'Knee', 'Head', 'Torso', 'Shoulder', 'Fingers', 'Heel', 'Abdomen', \n",
    "              'Back', 'Hip', 'Wrist', 'Face', 'Shin', 'Buttocks', 'Toes', 'Teeth', 'Elbow', \n",
    "              'Thumb', 'Nose', 'Neck', 'Rib', 'Groin', 'Jaw', 'Chin', 'Cheek', 'Eye', 'Scalp', \n",
    "              'Trunk', 'Arch', 'Pelvis', 'Ring finger', 'Femur', 'genitals',\n",
    "              'Collarbone', 'Forearm', 'Forehead', 'Knuckles', 'Liver', 'Lips', 'Lungs', 'Mouth',\n",
    "              'Nostril', 'Pancreas', 'Palm', 'Spine', 'Spleen', 'Sternum', 'Temples', 'Tongue',\n",
    "              'Tonsils', 'Ulna', 'Uvula', 'Vertebra', 'Vocal cords', 'Windpipe']\n",
    " \n",
    "sharks['Injury'] = sharks['Injury'].apply(lambda x: find_body_part(x, body_parts))\n",
    " \n",
    "body_part_counts = sharks['Injury'].value_counts()\n",
    "#print(body_part_counts)"
   ]
  },
  {
   "cell_type": "markdown",
   "id": "6dd12661",
   "metadata": {},
   "source": [
    "### Plotting the Body Parts that were Attacked more than 10 times"
   ]
  },
  {
   "cell_type": "code",
   "execution_count": 254,
   "id": "732fccde",
   "metadata": {},
   "outputs": [
    {
     "data": {
      "image/png": "[encoded data removed]",
      "text/plain": [
       "<Figure size 1000x600 with 1 Axes>"
      ]
     },
     "metadata": {},
     "output_type": "display_data"
    }
   ],
   "source": [
    "filtered_counts = body_part_counts[~body_part_counts.index.isin(['Other', 'Left', 'Right'])]\n",
    " \n",
    "filtered_counts = filtered_counts[filtered_counts > 10]\n",
    "filtered_counts = filtered_counts.sort_values(ascending=False)\n",
    " \n",
    "plt.figure(figsize=(10, 6))\n",
    "filtered_counts.plot(kind='bar', color='teal')\n",
    "plt.title('Shark Attack Injuries by Body Part ( > 10)')\n",
    "plt.xlabel('Injuries')\n",
    "plt.ylabel('Body Part')\n",
    "plt.xticks(rotation=45, ha='right')\n",
    "plt.tight_layout()\n",
    " \n",
    "# Showing the plot\n",
    "plt.show()"
   ]
  },
  {
   "cell_type": "markdown",
   "id": "ea76e2c5",
   "metadata": {},
   "source": [
    "### Nicholas Consiglio - Code"
   ]
  },
  {
   "cell_type": "markdown",
   "id": "edd2b52e",
   "metadata": {
    "id": "edd2b52e"
   },
   "source": [
    "# Cleaning the \"Date\" Variable"
   ]
  },
  {
   "cell_type": "code",
   "execution_count": 255,
   "id": "ea2a2dc2",
   "metadata": {
    "ExecuteTime": {
     "end_time": "2023-11-26T22:01:19.170675Z",
     "start_time": "2023-11-26T22:01:19.058665Z"
    },
    "id": "ea2a2dc2"
   },
   "outputs": [],
   "source": [
    "# Cleaning the 'Date' variable\n",
    "a_list = []\n",
    "sharks[\"Date\"] = sharks[\"Date\"].astype(str)\n",
    "for date in sharks[\"Date\"]:\n",
    "    date = date.strip('\\n')\n",
    "    date = date.replace(' ', '')\n",
    "    date = date.replace('-', '')\n",
    "    date = date.replace('Reported', '')\n",
    "    date = date.replace('Nox', 'Nov')\n",
    "    date = date.replace('2017.06.05', '05Jun2017')\n",
    "    date = date.replace('June', 'Jun')\n",
    "    date = date.replace('July', 'Jul')\n",
    "    date = date.replace('December2012', '01Dec2012')\n",
    "    date = date.replace('190Feb2010', '19Feb2010')\n",
    "    date = date.replace('2008.01.30', '30Jan2008')\n",
    "    date = date.replace('November2011', '01Nov2011')\n",
    "    date = date.replace('19Jul2007.b', '19Jul2007')\n",
    "    date = date.replace('19Jul2007.a', '19Jul2007')\n",
    "    date = date.replace('Early', '01')\n",
    "    date = date.replace('Late', '30')\n",
    "    date = date.replace('19Jul2004tohavehappened\"ontheweekend\"', '19Jul2004')\n",
    "    date = date.replace('Lastincidentof1994inHongKong', '31Dec1994')\n",
    "    date = date.replace('BetweenMay&Nov1993', '16July1993')\n",
    "    date = date.replace('MidJul1985ormidJul1986', '16Jul1985')\n",
    "    date = date.replace('26Jul1975.b', '26Jul1975')\n",
    "    date = date.replace('12301980', '30Dec1980')\n",
    "    if len(date) == 7 and date[0].isdigit() == False:\n",
    "        date = '01' + date\n",
    "    if (date[0].isdigit() == True) and (date[1].isdigit() == False):\n",
    "        date = '0' + date\n",
    "    if (len(date) == 8) and (date[-4].isdigit() == False):\n",
    "        date = date.replace('10Jul202', '10Jul2020')\n",
    "    if (len(date) == 8) and (date[2].isdigit() == False):\n",
    "        date = '0' + date\n",
    "    if len(date) == 4:\n",
    "        date = '01Jan' + date\n",
    "    if len(date) == 10 and date[2].isdigit == True:\n",
    "        date = date.replace(date[2], '')\n",
    "    if date.endswith('.') == True:\n",
    "        date = date.replace('.', '')\n",
    "    if 'Summerof' in date:\n",
    "        date = date.replace('Summerof', '20Jun')\n",
    "    if 'Summer' in date:\n",
    "        date = date.replace('Summer', '20Jun')\n",
    "    if 'Winter' in date:\n",
    "        date = date.replace('Winter', '21Dec')\n",
    "    if 'Ca.' in date:\n",
    "        date = date.replace('Ca.', 'Jan')\n",
    "    if 'Circa' in date:\n",
    "        date = date.replace('Circa', '01Jan')\n",
    "    if 'Before' in date and len(date) == 10:\n",
    "        year = date[-4:]\n",
    "        year = int(year)\n",
    "        new_year = year-1\n",
    "        new_year = str(new_year)\n",
    "        date = date.replace('Before', '01Jan')\n",
    "        date = date.replace(date[-4:],new_year)\n",
    "    if 's' in date and len(date) == 5:\n",
    "        year = date[:4]\n",
    "        date = '01Jan'+ year\n",
    "    if len(date) == 17 and 'Before' in date:\n",
    "        year = date[-4:]\n",
    "        year = int(year)\n",
    "        new_year = year - 1\n",
    "        new_year = str(new_year)\n",
    "        date = '01Jan' + new_year\n",
    "    if 'October' in date and len(date) == 11:\n",
    "        year = date[-4:]\n",
    "        date = '01Oct' + year\n",
    "    if len(date) == 7  or len(date) == 8 or len(date) == 9 and 'BC' in date:\n",
    "        date = '01Jan2050'\n",
    "    if len(date) == 20  and 'Nodate,Before' in date:\n",
    "        date = date.replace('Nodate,Before', '01')\n",
    "    if len(date) == 15  and 'Before' in date:\n",
    "        date = date.replace('Before', '')\n",
    "    if len(date) == 6 and 'Nodate' in date:\n",
    "        date = date.replace('Nodate', '01Jan2050')\n",
    "    if len(date) == 4 and '2007' in date:\n",
    "        date = date.replace('2007', '01Jan2007')\n",
    "    if '1600' in date or '1595' in date or '1555' in date or '1554' in date or '1543' in date or '1588' in date or '1640' in date:\n",
    "        date = '01Jan2050'\n",
    "    if '1638' in date or '1637' in date or '1617' in date or '1642' in date:\n",
    "        date = '01Jan2050'\n",
    "    date = date.replace('0Fall2008', '22Sep2008')\n",
    "    date = date.replace('0Apr1978`', '01Apr1978')\n",
    "    date = date.replace('0Fall1993','21Sep1993')\n",
    "    date = date.replace('16July1993','16Jul1993')\n",
    "    date = date.replace('301970s', '01Jan1970')\n",
    "    date = date.replace('3001Jan1970', '30Jan1970')\n",
    "    date = date.replace('13or30May1967', '13May1967')\n",
    "    date = date.replace('MidAug1966', '15Aug1966')\n",
    "    date = date.replace('MayJun1965', '01May1965')\n",
    "    date = date.replace('011965', '01Jan1965')\n",
    "    date = date.replace('011963', '01Jan1963')\n",
    "    date = date.replace('JanJun1962', '01Jan1962')\n",
    "    date = date.replace('01summer1960','20Jun1960')\n",
    "    date = date.replace('301960s', '01Jan1960')\n",
    "    date = date.replace('19601961', '01Jan1961')\n",
    "    date = date.replace('Between10and12Sep1959', '11Sep1959')\n",
    "    date = date.replace('21764', '17Feb1964')\n",
    "    date = date.replace('JultoSep1959', '01Aug1959')\n",
    "    date = date.replace('19581959', '01Jan1959')\n",
    "    date = date.replace('19955', '01Jan1955')\n",
    "    date = date.replace('1954(samedayas1954.00.00.f)', '01Jan1954')\n",
    "    date = date.replace('19521954', '01Jan1952')\n",
    "    date = date.replace('1951.12.15.R', '15Dec1951')\n",
    "    date = date.replace('Between01Aug1951&08Aug1951', '04Aug1951')\n",
    "    date = date.replace('1950.07.19', '19Jul1950')\n",
    "    date = date.replace('19501951', '01Jan1951')\n",
    "    date = date.replace('Mar1949orApr1949', '01Mar1949')\n",
    "    date = date.replace('13Mar1948\"Bittenlastweekend', '13Mar1948')\n",
    "    date = date.replace('Between18&22Dec1944', '20Dec1944')\n",
    "    date = date.replace('SometimebetweenApr&Nov1944', '01Aug1944')\n",
    "    date = date.replace('02Mar1943to07Mar1943', '05Mar1943')\n",
    "    date = date.replace('11Sep1942to16Sep1942', '13Sep1942')\n",
    "    date = date.replace('WoirldWarII', '01Sep1939')\n",
    "    date = date.replace('Sometimebetween08Jan1928&21Jan1928', '20Jan2928')\n",
    "    date = date.replace('07Mar1925or27Mar1925', '16Mar1925')\n",
    "    date = date.replace('April', 'Apr')\n",
    "    date = date.replace('March', 'Mar')\n",
    "    date = date.replace('Decp', 'Dec')\n",
    "    date = date.replace('Sept', 'Sep')\n",
    "    date = date.replace('tohavetakenplacein1919','01Jan1919')\n",
    "    date = date.replace('14Nov1909to19Nov1909', '16Nov1909')\n",
    "    date = date.replace('.22Feb1902', '22Feb1902')\n",
    "    date = date.replace('011900s', '01Jan1900')\n",
    "    date = date.replace('MidOct1901', '16Oct1901')\n",
    "    date = date.replace('1899DuringtheSeigeofLadysmith', '01Jan1899')\n",
    "    date = date.replace('1898.01.24', '24Jan1898')\n",
    "    date = date.replace('1898(soonafterthecloseoftheSpanishAmericanWar)', '01Jan1898')\n",
    "    date = date.replace('18981899', '01Jan1899')\n",
    "    date = date.replace('Reportd15Jul1894', '15Jul1894')\n",
    "    date = date.replace('06261890', '26Jun1890')\n",
    "    date = date.replace('MidAug1886', '15Aug1886')\n",
    "    date = date.replace('14Sep1883(probablyhappenedJan1843/1844)', '14Sep1883')\n",
    "    date = date.replace('Reprted05Jan1882', '05Jan1882')\n",
    "    date = date.replace('1880?', '01Jan1880')\n",
    "    date = date.replace('Janmid1870s', '01Jan1875')\n",
    "    date = date.replace('NovorDec1873', '01Nov1873')\n",
    "    date = date.replace('011870s', '01Jan1870')\n",
    "    date = date.replace('24Oct1888,buttookplacearound1868', '24Oct1888')\n",
    "    date = date.replace('1868(?)', '01Jan1868')\n",
    "    date = date.replace('SeporOct1853', '01Sep1853')\n",
    "    date = date.replace('1853or1854', '01Jan1853')\n",
    "    date = date.replace('\"AnniversaryDay\"22Jan1850or1852', '22Jan1850')\n",
    "    date = date.replace('in1847', '01Jan1847')\n",
    "    date = date.replace('1844.07.16.R', '16Jul1844')\n",
    "    date = date.replace('1839/1840', '01Jan1839')\n",
    "    date = date.replace('1836.07.26.R', '26Jul1836')\n",
    "    date = date.replace('183600', '01Jan1836')\n",
    "    date = date.replace('JanNov1826', '01Jan1826')\n",
    "    date = date.replace('Aug241806', '24Aug1806')\n",
    "    date = date.replace('May171803', '17May1803')\n",
    "    date = date.replace('Apr131802', '13Apr1802')\n",
    "    date = date.replace('May281797', '28May1797')\n",
    "    date = date.replace('301600s1728', '01Jan1600')\n",
    "    date = date.replace('Letterdated10Jan1580', '01Jan2050')\n",
    "    date = date.replace('Ca1588.04.00', '01Apr1588')\n",
    "    date = date.replace('Ca12001500AD', '01Jan2050')\n",
    "    date = date.replace('Jan7891033A.D', '01Jan2050')\n",
    "    date = date.replace('Priorto1988', '01Jan1988')\n",
    "    date = date.replace('After2013', '01Jan2014')\n",
    "    date = date.replace('1990or1991', '01Jan1990')\n",
    "    date = date.replace('BeforeOct2009','01Jan2008')\n",
    "    date = date.replace('2009?', '01Jan2009')\n",
    "    date = date.replace('18801899', '01Jan1880')\n",
    "    date = date.replace('Beforer1994', '01Jan1994')\n",
    "    date = date.replace('18961913', '01Jan1896')\n",
    "    date = date.replace('Before08Jun1912', '08Jun1912')\n",
    "    date = date.replace('Nodate,late1960s', '01Dec1960')\n",
    "    date = date.replace('2003?', '01Jan2003')\n",
    "    date = date.replace('WorldWarII', '07Dec1941')\n",
    "    date = date.replace('Saidtobe19411945,morelikely1945', '01Jan1941')\n",
    "    date = date.replace('Nodate(3daysafterprecedingincident)&priorto19Jul1913', '19Jul1913')\n",
    "    date = date.replace('Between1918&1939', '01Jan1918')\n",
    "    date = date.replace('Nodate,AfterAugust1926andbefore1936', '01Aug1926')\n",
    "    date = date.replace('BeforeFeb1998', '01Feb1997')\n",
    "    date = date.replace('BeforeMar1956', '01Mar1955')\n",
    "    date = date.replace('Afewyearsbefore1938', '01Jan1936')\n",
    "    date = date.replace('\"Duringthewar\"19431945', '01Jan1943')\n",
    "    date = date.replace('Nodate,Before3Jan1967', '03Jan1966')\n",
    "    date = date.replace('\"Beforethewar\"', '01Jan1939')\n",
    "    date = date.replace('Nodate,Before8May1965', '08May1964')\n",
    "    date = date.replace('Ca77AD', '01Jan2050')\n",
    "    date = date.replace('0Ca5AD', '01Jan2050')\n",
    "    date = date.replace('`', '')\n",
    "    date = date.replace('01Jun1018', '01Jun2018')\n",
    "    date = date.replace('0Fall1943', '21Sep1943')\n",
    "    date = date.replace('002Ap2001', '02Apr2001')\n",
    "    date = date.replace('022Jul144', '22Jul1944')\n",
    "    date = date.replace('26Sep937', '26Sep1937')\n",
    "    date = date.replace('008Ap1936', '08Apr1936')\n",
    "    date = date.replace('20Jan2928', '20Jan1928')\n",
    "    a_list.append(date)"
   ]
  },
  {
   "cell_type": "code",
   "execution_count": 256,
   "id": "23c888fb",
   "metadata": {
    "ExecuteTime": {
     "end_time": "2023-11-26T22:01:20.046614Z",
     "start_time": "2023-11-26T22:01:19.968386Z"
    },
    "id": "23c888fb"
   },
   "outputs": [],
   "source": [
    "# Creating a new variable called 'new_date' that will be used to create the new date column\n",
    "sharks['new_date'] = pd.Series(a_list)\n",
    "# Converting the date to be in the dd-mmm-yyy format\n",
    "sharks['new_date'] = pd.to_datetime(sharks['new_date'], format='%d%b%Y').dt.strftime('%d-%b-%Y')\n",
    "#\n",
    "sharks[\"new_date\"] = pd.to_datetime(sharks['new_date'])"
   ]
  },
  {
   "cell_type": "markdown",
   "id": "6b1bda91",
   "metadata": {
    "id": "6b1bda91"
   },
   "source": [
    "# Cleaning the \"Fatality\" Variable"
   ]
  },
  {
   "cell_type": "code",
   "execution_count": 257,
   "id": "919af354",
   "metadata": {
    "ExecuteTime": {
     "end_time": "2023-11-26T22:01:22.358001Z",
     "start_time": "2023-11-26T22:01:22.330450Z"
    },
    "id": "919af354"
   },
   "outputs": [],
   "source": [
    "# With the 'Fatality' Variable, we want determine if the shark attack was Fatal (Yes) or Not (No), or if we may\n",
    "# we are also \"Unsure\" of the outcome\n",
    "\n",
    "# Yes\n",
    "sharks['Fatality'] = sharks['Fatality'].replace('Y', 'Yes')\n",
    "sharks['Fatality'] = sharks['Fatality'].replace('Y x 2', 'Yes')\n",
    "sharks['Fatality'] = sharks['Fatality'].replace(2017, 'Yes')\n",
    "sharks['Fatality'] = sharks['Fatality'].replace('y', 'Yes')\n",
    "sharks['Fatality'] = sharks['Fatality'].replace('F', 'Yes')\n",
    "\n",
    "# Unsure\n",
    "sharks['Fatality'] = sharks['Fatality'].fillna('Unsure')\n",
    "sharks['Fatality'] = sharks['Fatality'].replace('UNKNOWN', 'Unsure')\n",
    "sharks['Fatality'] = sharks['Fatality'].replace('M', 'Unsure')\n",
    "\n",
    "# No\n",
    "sharks['Fatality'] = sharks['Fatality'].replace('N', 'No')\n",
    "sharks['Fatality'] = sharks['Fatality'].replace(' N', 'No')\n",
    "sharks['Fatality'] = sharks['Fatality'].replace('N ', 'No')\n",
    "sharks['Fatality'] = sharks['Fatality'].replace('n', 'No')\n",
    "sharks['Fatality'] = sharks['Fatality'].replace('Nq', 'No')"
   ]
  },
  {
   "cell_type": "markdown",
   "id": "524ad15a",
   "metadata": {
    "id": "524ad15a"
   },
   "source": [
    "# Creating \"Year\", \"Month\", \"Day\" and \"Weekday\" Variables"
   ]
  },
  {
   "cell_type": "code",
   "execution_count": 258,
   "id": "17dacbbf",
   "metadata": {
    "ExecuteTime": {
     "end_time": "2023-11-26T22:01:23.002634Z",
     "start_time": "2023-11-26T22:01:22.990688Z"
    },
    "id": "17dacbbf"
   },
   "outputs": [],
   "source": [
    "# Dropping the old date column\n",
    "sharks = sharks.drop(columns = ['Date', 'Year'])\n",
    "# Renaming the old date column to be the old date column\n",
    "sharks.rename(columns = {'new_date':'Date'}, inplace = True)"
   ]
  },
  {
   "cell_type": "code",
   "execution_count": 259,
   "id": "be60ae4f",
   "metadata": {
    "ExecuteTime": {
     "end_time": "2023-11-26T22:01:23.718965Z",
     "start_time": "2023-11-26T22:01:23.683252Z"
    },
    "id": "be60ae4f"
   },
   "outputs": [],
   "source": [
    "# Creating the 'Year' Column\n",
    "sharks['Year'] = sharks[\"Date\"].dt.year\n",
    "\n",
    "# Creating the 'Month' variable\n",
    "sharks['Month'] = sharks[\"Date\"].dt.month\n",
    "sharks[\"Month\"] = sharks['Month'].replace(1, 'January')\n",
    "sharks[\"Month\"] = sharks['Month'].replace(2, 'February')\n",
    "sharks[\"Month\"] = sharks['Month'].replace(3, 'March')\n",
    "sharks[\"Month\"] = sharks['Month'].replace(4, 'April')\n",
    "sharks[\"Month\"] = sharks['Month'].replace(5, 'May')\n",
    "sharks[\"Month\"] = sharks['Month'].replace(6, 'June')\n",
    "sharks[\"Month\"] = sharks['Month'].replace(7, 'July')\n",
    "sharks[\"Month\"] = sharks['Month'].replace(8, 'August')\n",
    "sharks[\"Month\"] = sharks['Month'].replace(9, 'September')\n",
    "sharks[\"Month\"] = sharks['Month'].replace(10, 'October')\n",
    "sharks[\"Month\"] = sharks['Month'].replace(11, 'November')\n",
    "sharks[\"Month\"] = sharks['Month'].replace(12, 'December')\n",
    "\n",
    "# Getting the day of the month as a variable\n",
    "sharks['Day'] = sharks[\"Date\"].dt.day\n",
    "\n",
    "# Getting the day of the week as a variable\n",
    "sharks['Weekday'] = sharks[\"Date\"].dt.weekday\n",
    "sharks['Weekday'] = sharks['Weekday'].replace(0, 'Sunday')\n",
    "sharks['Weekday'] = sharks['Weekday'].replace(1, 'Monday')\n",
    "sharks['Weekday'] = sharks['Weekday'].replace(2, 'Tuesday')\n",
    "sharks['Weekday'] = sharks['Weekday'].replace(3, 'Wednesday')\n",
    "sharks['Weekday'] = sharks['Weekday'].replace(4, 'Thursday')\n",
    "sharks['Weekday'] = sharks['Weekday'].replace(5, 'Friday')\n",
    "sharks['Weekday'] = sharks['Weekday'].replace(6, 'Saturday')"
   ]
  },
  {
   "cell_type": "markdown",
   "id": "4c264ebc",
   "metadata": {
    "id": "4c264ebc"
   },
   "source": [
    "# Cleaning the \"Location\" Variable"
   ]
  },
  {
   "cell_type": "code",
   "execution_count": 260,
   "id": "9bd83da7",
   "metadata": {
    "ExecuteTime": {
     "end_time": "2023-11-26T22:01:24.319170Z",
     "start_time": "2023-11-26T22:01:24.294535Z"
    },
    "id": "9bd83da7"
   },
   "outputs": [],
   "source": [
    "def clean_word(word):\n",
    "    '''\n",
    "    Purpose: This function performs basic cleaning on the 'Location' variable.\n",
    "    Returns: A cleaner string.\n",
    "    '''\n",
    "    if word[:3] == 'Off' or word[:3] == 'off':\n",
    "        word = word[4:]\n",
    "    if word[:4] == 'Near' or word[:4] == 'near':\n",
    "        word = word[5:]\n",
    "    if 'Durban' in word:\n",
    "        word = 'Durban'\n",
    "    if 'Pieda' in word:\n",
    "        word = 'Piedade'\n",
    "    if 'Sydney' in word:\n",
    "        word = 'Sydney'\n",
    "    if 'Florida' in word:\n",
    "        word = 'Florida'\n",
    "    if 'Brisbane' in word:\n",
    "        word = 'Brisbane'\n",
    "    if 'Bunbury' in word:\n",
    "        word = 'Bunbury'\n",
    "    if 'Port Alfred' in word:\n",
    "        word = 'Port Alfred'\n",
    "    if 'Charleston' in word:\n",
    "        word = 'Charleston'\n",
    "    if 'Acapulco' in word:\n",
    "        word = 'Acapulco'\n",
    "    if 'Bondi' in word:\n",
    "        word = 'Bondi'\n",
    "    if 'Townsville' in word:\n",
    "        word = 'Townsville'\n",
    "    if 'Galveston' in word:\n",
    "        word = 'Galveston'\n",
    "    if 'Coogee' in word:\n",
    "        word = 'Coogee'\n",
    "    if 'Port Elizabeth' in word:\n",
    "        word = 'Port Elizabeth'\n",
    "    if 'Barrier Reef' in word:\n",
    "        word = 'Great Barrier Reef'\n",
    "    if 'Albany' in word:\n",
    "        word = 'Albany'\n",
    "    if 'Newcastle' in word:\n",
    "        word = 'New Castle'\n",
    "    if 'Lennox' in word:\n",
    "        word = 'Lennox Head'\n",
    "    if 'Darwin' in word:\n",
    "        word = 'Darwin'\n",
    "    if 'Lake Macquarie' in word:\n",
    "        word = 'Lake Macquarie'\n",
    "    if 'Brighton' in word:\n",
    "        word = 'Brighton'\n",
    "    if 'Cape Vidal' in word:\n",
    "        word = 'Cape Vidal'\n",
    "    if 'Kei River' in word:\n",
    "        word = 'Kei River Mouth'\n",
    "    if 'Shatt' in word:\n",
    "        word = 'Shatt-al-Arab River'\n",
    "    if 'Parra' in word:\n",
    "        word = 'Parramatta River'\n",
    "    if 'Cronulla' in word:\n",
    "        word = 'Cronulla'\n",
    "    if 'Glene' in word:\n",
    "        word = 'Gelnelg'\n",
    "    if 'Geraldton' in word:\n",
    "        word = 'Geraldton'\n",
    "    if 'Port St. John' in word:\n",
    "        word = \"Port St. John's\"\n",
    "    word = word.replace('Marsaskala', 'Marsascala')\n",
    "    if 'Grand Cay' in word:\n",
    "        word = 'Grand Cay'\n",
    "    word = word.replace('Yallingup Lagoon', 'Yallingup')\n",
    "    if 'Barachois' in word:\n",
    "        word = 'Barachois'\n",
    "    if 'Moresby' in word:\n",
    "        word = 'Port Moresby'\n",
    "    word = word.replace('Between Bimini & Miami', 'Bimini')\n",
    "    if 'Umhlanga' in word:\n",
    "        word = 'Umhlanga Rocks'\n",
    "    word = word.replace('St Lucie County', 'St. Lucie County')\n",
    "    if 'Madang' in word:\n",
    "        word = 'Madang'\n",
    "    if 'Rewa' in word:\n",
    "        word = 'Rewa River'\n",
    "    if 'Ocracoke' in word:\n",
    "        word = 'Ocracoke'\n",
    "    if 'Manila' in word:\n",
    "        word = \"Manila\"\n",
    "    word = word.replace('Gonubie River Mouth', 'Gonubie')\n",
    "    if 'Santa Barbara' in word:\n",
    "        word = 'Santa Barbara'\n",
    "    if 'Southport' in word:\n",
    "        word = 'Southport'\n",
    "    if 'Key West' in word:\n",
    "        word = 'Key West'\n",
    "    word = word.replace('Battle of Guadalcanal', 'Guadalcanal')\n",
    "    word = word.replace('40 km off Cape Point', 'Cape Point')\n",
    "    word = word.replace('Playa Mocambo', 'Mocambo')\n",
    "    word = word.replace('55 miles south of Adelaide', 'Adelaide')\n",
    "    word = word.replace(\"Ship's Graveyard off Point Lonsdale\", \"Point Lonsdale\")\n",
    "    if \"Bellambi\" in word:\n",
    "        word = \"Bellambi Reef\"\n",
    "    word = word.replace('20 miles from Havana', 'Havana')\n",
    "    if 'Sharm' in word:\n",
    "        word = \"Sharm el Sheikh\"\n",
    "    if 'Volusia' in word:\n",
    "        word = 'Volusia County'\n",
    "    if 'Madras' in word:\n",
    "        word = 'Madras'\n",
    "    if 'Gladstone' in word:\n",
    "        word = 'Gladstone'\n",
    "    if 'Jupiter' in word:\n",
    "        word = 'Jupiter'\n",
    "    word = word.replace('120 miles southeast of New Orleans', 'New Orleans')\n",
    "    word = word.replace('Boucan Canot', 'Boucan-Canot')\n",
    "    word = word.replace('30 nautical miles offshore', 'Unknown')\n",
    "    if 'San Juan' in word:\n",
    "        word = 'San Juan'\n",
    "    if 'Molokai' in word:\n",
    "        word = 'Molokai'\n",
    "    if 'Miami' in word:\n",
    "        word = 'Miami'\n",
    "    if 'Mooloolaba' in word:\n",
    "        word = 'Mooloolaba'\n",
    "    word = word.replace('Uilenkraalsmond (near Gansbaai)', 'Gansbaai')\n",
    "    if 'Honolulu' in word:\n",
    "        word = 'Honolulu'\n",
    "    word = word.replace('Ocean City (offshore)', 'Ocean City')\n",
    "    word = word.replace('50 km off St. Lucia', 'St. Lucia')\n",
    "    if 'Perth' in word:\n",
    "        word = 'Perth'\n",
    "    if 'Miller' in word:\n",
    "        word = \"Miller's Point\"\n",
    "    word = word.replace('Ensenada de la Coronilla', 'Ensenada')\n",
    "    word = word.replace('5 nm off Cervantes', 'Cervantes')\n",
    "    word = word.replace('Oyster Stacks near Exmouth12h15', 'Exmouth')\n",
    "    if 'Moloka' in word:\n",
    "        word = 'Moloka'\n",
    "    if 'Crescent' in word:\n",
    "        word = 'Crescent Head'\n",
    "    word = word.replace('Arlington Reef near Cairns', 'Arlington Reef')\n",
    "    word = word.replace('North of Walkers Cay', 'Walkers Cay')\n",
    "    word = word.replace('150 miles off Cape Henry', 'Cape Henry')\n",
    "    word = word.replace('2 kilometres off Sagay', 'Sagay')\n",
    "    word = word.replace('Chicago (Lake Michigan)', 'Lake Michigan')\n",
    "    if \"Canaveral\" in word:\n",
    "        word = \"Canaveral\"\n",
    "    word = word.replace('Oahu', \"O'ahu\")\n",
    "    word = word.replace(\"Southwest of O'ahu\", \"O'ahu\")\n",
    "    word = word.replace('USS Hull DD-350 was one of 3 destroyers that capsized in Typhoon Cobra', 'Unknown')\n",
    "    word = word.replace('entrance to Dar-es-Salaam Harbour', 'Dar-es-Salaam Harbour')\n",
    "    word = word.replace(\"22º08'S  : 178º06'W\", 'Unknown')\n",
    "    word = word.replace('Aircraft went down on 6/12/1944. He survived on raft for 11 days and was 150 miles off Guam when rescued', 'Unknown')\n",
    "    word = word.replace('10 miles off Cape Maisi', 'Cape Maisi')\n",
    "    word = word.replace('', '')\n",
    "    word = word.replace('', '')\n",
    "    word = word.replace('', '')\n",
    "    word = word.replace('', '')\n",
    "    return word"
   ]
  },
  {
   "cell_type": "code",
   "execution_count": 261,
   "id": "f768646c",
   "metadata": {
    "ExecuteTime": {
     "end_time": "2023-11-26T22:01:24.872502Z",
     "start_time": "2023-11-26T22:01:24.848518Z"
    },
    "id": "f768646c"
   },
   "outputs": [],
   "source": [
    "def clean_island(island):\n",
    "    '''\n",
    "    Purpose: This function labels certain locations as islands and cleans up the string.\n",
    "    Returns: A cleaned observation.\n",
    "    '''\n",
    "    island = island.strip(' ')\n",
    "    if island[:3] == 'Off' or island[:3] == 'off':\n",
    "        island = island[4:]\n",
    "    if island[:4] == 'Near' or island[:4] == 'near':\n",
    "        island = island[5:]\n",
    "    if 'Singer' in island:\n",
    "        island = 'Singer Island'\n",
    "    if 'Thursday' in island:\n",
    "        island = 'Thursday Island'\n",
    "    if 'Mustang' in island:\n",
    "        island = 'Mustang Island'\n",
    "    if 'Padre' in island:\n",
    "        island = 'South Padre Island'\n",
    "    if 'Hutch' in island:\n",
    "        island = 'Hutchinson Island'\n",
    "    if 'Rottnest' in island:\n",
    "        island = 'Rottnest Island'\n",
    "    if 'Bald' in island:\n",
    "        island = 'Bald Head Island'\n",
    "    if 'Palms' in island:\n",
    "        island = 'Isle of Palms'\n",
    "    if 'Emerald' in island:\n",
    "        island = 'Emerald Isle'\n",
    "    if 'Paw' in island:\n",
    "        island = \"Pawley's Island\"\n",
    "    if 'Sull' in island:\n",
    "        island = \"Sullivan's Island\"\n",
    "    if 'Farall' in island:\n",
    "        island = 'Farallon Island'\n",
    "    if 'Lizard' in island:\n",
    "        island = 'Lizard Island'\n",
    "    if 'Mab' in island:\n",
    "        island = 'Mabuiag Island'\n",
    "    if 'Long Island' in island:\n",
    "        island = 'Long Island'\n",
    "    if 'Badu' in island:\n",
    "        island = 'Badu Island'\n",
    "    if 'Mason' in island:\n",
    "        island = 'Masonboro Island'\n",
    "    if 'Helena' in island:\n",
    "        island = 'St. Helena Island'\n",
    "    if 'Catalina' in island:\n",
    "        island = 'Santa Catalina Island'\n",
    "    if 'Miguel' in island:\n",
    "        island = 'San Miguel Island'\n",
    "    if 'Moreton' in island:\n",
    "        island = 'Moreton Island'\n",
    "    if 'Tombo' in island:\n",
    "        island = 'Tombo Island'\n",
    "    if 'Wallis' in island:\n",
    "        island = 'Wallis Island'\n",
    "    if 'Stewart' in island:\n",
    "        island = 'Stewart Island'\n",
    "    if 'Wake' in island:\n",
    "        island = 'Wake Island'\n",
    "    if 'Inhaca' in island:\n",
    "        island = 'Inhaca Island'\n",
    "    if 'Marshall' in island:\n",
    "        island = 'Marshall Island'\n",
    "    island = island.replace('Island J4H', 'Marshall Island')\n",
    "    if 'Clark' in island:\n",
    "        island = \"Clark's Island\"\n",
    "    if 'Stradbroke' in island:\n",
    "        island = 'Stradbroke Island'\n",
    "    if 'Fisherman' in island:\n",
    "        island = \"Fisherman's Island\"\n",
    "    if 'Keppel' in island:\n",
    "        island = 'Keppel Island'\n",
    "    if 'Broughton' in island:\n",
    "        island = 'Broughton Island'\n",
    "    if 'Twin Islands' in island:\n",
    "        island = \"Twin Islands\"\n",
    "    island = island.replace('Between Unisan & Angadanan Islands', 'Unisan Island')\n",
    "    island = island.replace('Makira Island (Formerly San Cristobal)', 'Makira Island')\n",
    "    island = island.replace('Samarai Island (south end)', 'Samarai Island')\n",
    "    island = island.replace('between Filfla Island and Wied iz-Zurrieq', 'Filfla Island')\n",
    "    island = island.replace('East of La Grande Island', 'La Grande Island')\n",
    "    island = island.replace('Lagoon along Sand Island', 'Sand Island')\n",
    "    island = island.replace('Between Carnac and Garden Islands', 'Carnac Island')\n",
    "    island = island.replace('90 miles off Albrohos Island', 'Albrohos Island')\n",
    "    island = island.replace('Achutuppu Island near Ailigandi', 'Achutuppu Island')\n",
    "    island = island.replace(\"Fishman's Island (near Port Moresby\", \"Fishman's Island\")\n",
    "    island = island.replace('2 miles south of Castle Island Harbour entrance to Hamilton', 'Castle Island')\n",
    "    if 'San Clemente' in island:\n",
    "        island = 'San Clemente Island'\n",
    "    if \"St. Simon\" in island:\n",
    "        island = \"St. Simon's Island\"\n",
    "    island = island.replace('South Bruny Island', 'Bruny Island')\n",
    "    if 'Savo' in island:\n",
    "        island = 'Savo Island'\n",
    "    island = island.replace('Small creek near Coles Island', 'Coles Island')\n",
    "    island = island.replace('40 miles from Tahane Island', 'Tahane Island')\n",
    "    island = island.replace('On edge of reef near Warrior Island', 'Warrior Island')\n",
    "    island = island.replace('Eva Island 20 miles from Cardwell', 'Eva Island')\n",
    "    island = island.replace('10 miles offshore from Sea Isle City', 'Sea Isle City')\n",
    "    if 'Garden' in island:\n",
    "        island = 'Garden Island'\n",
    "    island = island.replace(\"Hadrian’s (Haidana?) Island\", \"Hadrian's Island\")\n",
    "    island = island.replace('500 nautical miles southwest of Johnston Island', 'Johnston Island')\n",
    "    island = island.replace('North shore of Rey Island', 'Rey Island')\n",
    "    island = island.replace('360 miles north of Ascension Island', 'Ascension Island')\n",
    "    if 'Easter' in island:\n",
    "        island = 'Easter Island'\n",
    "    if 'Atchin' in island:\n",
    "        island = 'Atchin Island'\n",
    "    if 'Tenth' in island:\n",
    "        island = 'Tenth Island'\n",
    "    island = island.replace('Between Santa Cruz Island and Santa Barbara', 'Santa Cruz Island')\n",
    "    island = island.replace(\"Goats Island (Moku’auia Island)\", 'Goats Island')\n",
    "    island = island.replace('350 miles from Faial Island', 'Faial Island')\n",
    "    island = island.replace('Nerang River near Chevron Island', 'Chevron Island')\n",
    "    island = island.replace('33 nautical miles off Othonoi Island', 'Othonoi Island')\n",
    "    island = island.replace('Cull Island / Esperance', 'Cull Island')\n",
    "    island = island.replace('Pitt Island or Chatham Island', 'Pitt Island')\n",
    "    island = island.replace(\"Brothers' Island\", \"Brothers Island\")\n",
    "    island = island.replace('Between Ofu & Fafini Islands', 'Ofu Islands')\n",
    "    island = island.replace('Meteorologic Station on Campbell Island', 'Campbell Island')\n",
    "    island = island.replace('Reef on seaward side of Geyser Island', 'Geyser Island')\n",
    "    island = island.replace('Gulf Island National Seashore Park', 'Gulf Island')\n",
    "    island = island.replace('Pulau Pangkor (Pangkor Island)', 'Pangkor Island')\n",
    "    island = island.replace('Dando/Kaeui Island','Dando Island')\n",
    "    island = island.replace('Malakula (Malakula Island)','Malakula Island')\n",
    "    island = island.replace('East side of Bench Island in the Foveaux Strait','Bench Island')\n",
    "    island = island.replace('St. George Island (near Apachicola)','St. George Island')\n",
    "    island = island.replace('11 miles off Dog Island in the Gulf of Mexico','Dog Island')\n",
    "    if 'Big Island' in island:\n",
    "        island = 'Big Island'\n",
    "    island = island.replace('Ten Thousand Islands National Wildlife Refuge','Ten Thousand Islands')\n",
    "    island = island.replace('Lord Howe Island (island group 440 miles northeast of Sydney)','Lord Howe Island')\n",
    "    return island"
   ]
  },
  {
   "cell_type": "code",
   "execution_count": 262,
   "id": "5f7841fa",
   "metadata": {
    "ExecuteTime": {
     "end_time": "2023-11-26T22:01:25.384275Z",
     "start_time": "2023-11-26T22:01:25.375344Z"
    },
    "id": "5f7841fa"
   },
   "outputs": [],
   "source": [
    "def clean_harbors(harbor):\n",
    "    '''\n",
    "    Purpose: This function labels certain locations as harbors and cleans up the string.\n",
    "    Returns: A cleaned string.\n",
    "    '''\n",
    "    harbor = harbor.strip(' ')\n",
    "    if 'Charleston' in harbor:\n",
    "        harbor = 'Charleston Harbor'\n",
    "    if 'Pearl' in harbor:\n",
    "        harbor = 'Pearl Harbor'\n",
    "    if 'Vera' in harbor:\n",
    "        harbor = 'Vera Cruz Harbor'\n",
    "    harbor = harbor.replace('Lake Ponchartain off Southshore Harbor', 'Southshore Harbor')\n",
    "    harbor = harbor.replace('Port Kilindeni / Mombasa Harbor', 'Mombasa Harbor')\n",
    "    harbor = harbor.replace('Near tuna cannery in Pago Pago Harbor', 'Pago Pago Harbor')\n",
    "    return harbor"
   ]
  },
  {
   "cell_type": "code",
   "execution_count": 263,
   "id": "0341f5b0",
   "metadata": {
    "ExecuteTime": {
     "end_time": "2023-11-26T22:01:25.938286Z",
     "start_time": "2023-11-26T22:01:25.919016Z"
    },
    "id": "0341f5b0"
   },
   "outputs": [],
   "source": [
    "def clean_bays(bay):\n",
    "    '''\n",
    "    Purpose: This function labels certain locations as bays and cleans up the string.\n",
    "    Returns: A clean string.\n",
    "    '''\n",
    "    bay = bay.strip(' ')\n",
    "    if 'Moreton' in bay:\n",
    "        bay = 'Moreton Bay'\n",
    "    if 'False Bay' in bay:\n",
    "        bay = 'False Bay'\n",
    "    if 'Coral' in bay:\n",
    "        bay = 'Coral Bay'\n",
    "    if 'Phillip' in bay:\n",
    "        bay = 'Phillip Bay'\n",
    "    if 'Tampa' in bay:\n",
    "        bay = 'Tampa Bay'\n",
    "    if 'Jervis' in bay:\n",
    "        bay = 'Jervis Bay'\n",
    "    if 'Streaky' in bay:\n",
    "        bay = 'Streaky Bay'\n",
    "    if 'Botany' in bay:\n",
    "        bay = 'Botany Bay'\n",
    "    if 'Jeff' in bay:\n",
    "        bay = \"Jeffrey's Bay\"\n",
    "    bay = bay.replace('San Francisco Bay (or San Leandro Bay)', 'San Francisco Bay')\n",
    "    if 'Anae' in bay:\n",
    "        bay = 'Anaehoomalu Bay'\n",
    "    if 'Buffels' in bay:\n",
    "        bay = 'Buffels Bay'\n",
    "    bay = bay.replace('West Bay near Galveston', 'Galveston Bay')\n",
    "    bay = bay.replace('5 km from Gordon’s Bay', \"Gordon's Bay\")\n",
    "    bay = bay.replace('A ford known as Brodies Coffin in St. Lucia Bay', 'St. Lucia Bay')\n",
    "    bay = bay.replace('Hobson Bay', \"Hobson's Bay\")\n",
    "    if 'Biscayne' in bay:\n",
    "        bay = 'Biscayne Bay'\n",
    "    bay = bay.replace('In a river feeding into the Bay of Bengal', 'Bay of Bengal')\n",
    "    bay = bay.replace('West of Pukerua Bay', 'Pukera Bay')\n",
    "    if 'Roebuck' in bay:\n",
    "        bay = 'Roebuck Bay'\n",
    "    bay = bay.replace('Whitewood Point on Lloyd Neck in Oyster Bay', 'Oyster Bay')\n",
    "    bay = bay.replace('Canadian Bay near Mount Eliza', 'Canadian Bay')\n",
    "    bay = bay.replace('Oatley Bay near Como', 'Oatley Bay')\n",
    "    bay = bay.replace('In Swan River at Freshwater Bay', 'Freshwater Bay')\n",
    "    bay = bay.replace('Smelting Works Bay near Hobart', 'Smelting Works Bay')\n",
    "    bay = bay.replace('Great Barrier Reef  (near Upolu Bay)', 'Upolu Bay')\n",
    "    bay = bay.replace('Sandy Bay/Whananaki', 'Sandy Bay')\n",
    "    bay = bay.replace(\"Between the Kakanui River and Campbell's Bay\", \"Campbell's Bay\")\n",
    "    bay = bay.replace('Sardinia Bay near Port Elizabeth', 'Sardinia Bay')\n",
    "    bay = bay.replace('Paradise Bay (next to Wailua Bay)', 'Paradise Bay')\n",
    "    bay = bay.replace('Caves near Kogel Bay', 'Kogel Bay')\n",
    "    bay = bay.replace(\"Children's Bay Cay near Rollerville\", \"Children's Bay\")\n",
    "    if 'Waiokapua' in bay:\n",
    "        bay = 'Waiokapua Bay'\n",
    "    bay = bay.replace('Napoopoo Park in Kealakekua Bay', 'Kealakekua Bay')\n",
    "    bay = bay.replace('Between Bay Rock & Magnetic Island', 'Bay Rock')\n",
    "    bay = bay.replace('Hilo Bay Yacht Club', 'Hilo Bay')\n",
    "    bay = bay.replace('30 nm southeast of Guantanamo Bay', 'Guantanamo Bay')\n",
    "    bay = bay.replace('Two miles from shore in Tamarind Bay', 'Tamarind Bay')\n",
    "    bay = bay.replace('Panama Bay 8ºN', 'Panama Bay')\n",
    "    bay = bay.replace('D’Estrees Bay near Kangaroo Island', \"D'Estrees Bay\")\n",
    "    bay = bay.replace('Garden Bay near Cosy Nook', 'Garden Bay')\n",
    "    bay = bay.replace('Kelpies near Wylie Bay', 'Wylie Bay')\n",
    "    bay = bay.replace('Off Perforated Island near Coffin Bay', 'Coffin Bay')\n",
    "    if 'Ntlon' in bay:\n",
    "        bay = 'Ntlonyana Bay'\n",
    "    if 'Simon' in bay:\n",
    "        bay = \"Simon's Bay\"\n",
    "    return bay"
   ]
  },
  {
   "cell_type": "code",
   "execution_count": 264,
   "id": "27d9ff41",
   "metadata": {
    "ExecuteTime": {
     "end_time": "2023-11-26T22:01:26.471150Z",
     "start_time": "2023-11-26T22:01:26.444932Z"
    },
    "id": "27d9ff41"
   },
   "outputs": [],
   "source": [
    "def clean_beaches(beach):\n",
    "    '''\n",
    "    Purpose: This function labels certain locations as beaches and cleans up the string.\n",
    "    Returns: A cleaned string.\n",
    "    '''\n",
    "    beach = beach.strip(' ')\n",
    "    if 'New Smyrna Beach' in beach:\n",
    "        beach = 'New Smyrna Beach'\n",
    "    beach = beach.replace('New Smyrna  Beach', 'New Smyrna Beach')\n",
    "    if 'Daytona' in beach:\n",
    "        beach = 'Daytona Beach'\n",
    "    if 'Coco' in beach or 'Cocoa' in beach:\n",
    "        beach = 'Cocoa Beach'\n",
    "    if 'Myrtle' in beach:\n",
    "        beach = 'Myrtle Beach'\n",
    "    if 'Palm' in beach:\n",
    "        beach = 'Palm Beach'\n",
    "    if 'Jensen' in beach:\n",
    "        beach = 'Jensen Beach'\n",
    "    if 'Jacksonville' in beach:\n",
    "        beach = 'Jacksonville Beach'\n",
    "    if 'South Beach' in beach:\n",
    "        beach = 'South Beach'\n",
    "    if 'North Beach' in beach:\n",
    "        beach = 'North Beach'\n",
    "    if 'Juno' in beach:\n",
    "        beach = 'Juno Beach'\n",
    "    if 'Vero' in beach:\n",
    "        beach = 'Vero Beach'\n",
    "    if 'Oreti' in beach:\n",
    "        beach = 'Oreti Beach'\n",
    "    if 'Miami' in beach:\n",
    "        beach = 'Miami Beach'\n",
    "    if 'Shelly' in beach:\n",
    "        beach = 'Shelly Beach'\n",
    "    if 'Wrightsville' in beach:\n",
    "        beach = 'Wrightsville Beach'\n",
    "    if 'Crescent' in beach:\n",
    "        beach = 'Crescent Beach'\n",
    "    if 'Stuart' in beach:\n",
    "        beach = 'Stuart Beach'\n",
    "    if 'Back' in beach:\n",
    "        beach = 'Back Beach'\n",
    "    if 'Avoca' in beach:\n",
    "        beach = 'Avoca Beach'\n",
    "    if 'Bondi' in beach:\n",
    "        beach = 'Bondi Beach'\n",
    "    if 'Tiger' in beach:\n",
    "        beach = 'Tiger Beach'\n",
    "    if 'Carolina' in beach:\n",
    "        beach = 'Carolina Beach'\n",
    "    if 'Paradise' in beach:\n",
    "        beach = 'Paradise Beach'\n",
    "    if 'Mere' in beach:\n",
    "        beach = 'Merewether Beach'\n",
    "    if 'Holden' in beach:\n",
    "        beach = 'Holden Beach'\n",
    "    if 'Augustine' in beach:\n",
    "        beach = 'St. Augstine Beach'\n",
    "    if 'Newport' in beach:\n",
    "        beach = 'Newport Beach'\n",
    "    if 'Kingscl' in beach:\n",
    "        beach = 'Kingscliffe Beach'\n",
    "    if 'Boynton' in beach:\n",
    "        beach = 'Boynton Beach'\n",
    "    if 'Wailea' in beach:\n",
    "        beach = 'Wailea Beach'\n",
    "    if 'Cheynes' in beach:\n",
    "        beach = 'Cheynes Beach'\n",
    "    if 'Neptune' in beach:\n",
    "        beach = 'Neptune Beach'\n",
    "    if 'Avalon' in beach:\n",
    "        beach = 'Avalon Beach'\n",
    "    beach = beach.replace('Off City Beach', 'City Beach')\n",
    "    beach = beach.replace('Off Blacksmith Beach', 'Blacksmith Beach')\n",
    "    if 'Satellite' in beach:\n",
    "        beach = 'Satellite Beach'\n",
    "    if 'Topsail' in beach:\n",
    "        beach = 'Topsail Beach'\n",
    "    beach = beach.replace(\"Knobby's Beach\", \"Nobby's Beach\")\n",
    "    beach = beach.replace('Yorkey’s Knob Beach near Cairns', \"Nobby's Beach\")\n",
    "    if 'Salmon' in beach:\n",
    "        beach = 'Salmon Beach'\n",
    "    if 'Bathtub' in beach:\n",
    "        beach = 'Bathtub Beach'\n",
    "    if 'Golden' in beach:\n",
    "        beach = 'Golden Beach'\n",
    "    if 'Ocean Grove' in beach:\n",
    "        beach = 'Ocean Grove Beach'\n",
    "    if 'Cactus' in beach:\n",
    "        beach = 'Cactus Beach'\n",
    "    if 'First' in beach:\n",
    "        beach = 'First Beach'\n",
    "    if 'Park Beach' in beach:\n",
    "        beach = 'Park Beach'\n",
    "    if 'Turtle' in beach:\n",
    "        beach = 'Turtle Beach'\n",
    "    if 'Cocal' in beach:\n",
    "        beach = 'Cocal Beach'\n",
    "    if 'Deerfield' in beach:\n",
    "        beach = 'Deerfield Beach'\n",
    "    if 'Public' in beach:\n",
    "        beach = 'Public Beach'\n",
    "    if 'Makaha' in beach:\n",
    "        beach = 'Makaha Beach'\n",
    "    if 'Jupiter' in beach:\n",
    "        beach = 'Jupiter Beach'\n",
    "    beach = beach.replace('Gold  Beach', 'Gold Beach')\n",
    "    beach = beach.replace('Atlantiic Beach', 'Atlantic Beach')\n",
    "    if 'Pompano' in beach:\n",
    "        beach = 'Pompano Beach'\n",
    "    if 'Redondo' in beach:\n",
    "        beach = 'Redondo Beach'\n",
    "    if 'Crystal' in beach:\n",
    "        beach = 'Crystal Beach'\n",
    "    if 'Key Colony' in beach:\n",
    "        beach = 'Key Colony Beach'\n",
    "    beach = beach.replace('Artifical reef 3 miles off Manatee Beach', 'Manatee Beach')\n",
    "    if 'Makua Beach' in beach:\n",
    "        beach = 'Makua Beach'\n",
    "    beach = beach.replace('Kings Beach', \"King's Beach\")\n",
    "    if 'Pirate' in beach:\n",
    "        beach = 'Pirates Beach'\n",
    "    if 'Narrabeen Beach' in beach:\n",
    "        beach = 'Narrabeen Beach'\n",
    "    if 'Elbow' in beach:\n",
    "        beach = 'Elbow Beach'\n",
    "    if 'Native' in beach:\n",
    "        beach = 'Native Beach'\n",
    "    beach = beach.replace('LaPlaya Beach / Vedado', 'LaPlaya Beach')\n",
    "    beach = beach.replace('Left break at the ‘Hot Spot’ at Sheringa Beach', 'Sheringa Beach')\n",
    "    beach = beach.replace('Near the wreck of the Kakapo off Noordhoek Beach', 'Noordhoek Beach')\n",
    "    if 'ole B' in beach:\n",
    "        beach = \"Kama'ole Beach Park\"\n",
    "    beach = beach.replace('Between Magic Sands Beach and Kahaluu Beach on the Kona coast', 'Magic Sands Beach')\n",
    "    if 'Bren' in beach:\n",
    "        beach = 'Brennecke Beach'\n",
    "    beach = beach.replace('Cove Beach / Kalama Beach', 'Kamala Beach')\n",
    "    beach = beach.replace('Pialba Beach near Maryborough', 'Pialba Beach')\n",
    "    beach = beach.replace('Fourth Beach / Twilgth Beach', 'Fourth Beach')\n",
    "    if 'Sea Pines' in beach:\n",
    "        beach = 'Sea Pines Beach'\n",
    "    if 'Topanga' in beach:\n",
    "        beach = 'Topanga Beach'\n",
    "    if 'Trinidad' in beach:\n",
    "        beach = 'Trinidad Beach'\n",
    "    if 'Nimitz' in beach:\n",
    "        beach = 'Nimitz Beach'\n",
    "    beach = beach.replace(\"North of main swimming area in Waterman's Bay Beach\", \"Waterman's Bay Beach\")\n",
    "    beach = beach.replace('North end of County Beach', 'County Beach')\n",
    "    beach = beach.replace('2 miles east of Dania Beach', 'Dania Beach')\n",
    "    beach = beach.replace('Off Macassar Beach', 'Macassar Beach')\n",
    "    beach = beach.replace('7 Mile Beach', 'Seven Mile Beach')\n",
    "    beach = beach.replace('Off Tapuna Beach', 'Tapuna Beach')\n",
    "    beach = beach.replace('Escalerio Beach Balneário Camboriú', 'Escalerio Beach')\n",
    "    beach = beach.replace('Between Pescadero Point & Bean Hollow Beach', 'Bean Hollow Beach')\n",
    "    if 'Falcon' in beach:\n",
    "        beach = 'Falcon Beach'\n",
    "    if 'Del Mar' in beach:\n",
    "        beach = 'Villa del Mar Beach'\n",
    "    if 'Royal' in beach:\n",
    "        beach = 'Chateau Royal Beach'\n",
    "    beach = beach.replace('Kelp Beds Beach (Kelpies)', 'Kelp Beds Beach')\n",
    "    beach = beach.replace('13th Beach', 'Thirteenth Beach')\n",
    "    beach = beach.replace('Kanaha Beach Park', 'Kanaha Beach')\n",
    "    beach = beach.replace('Between Dyer Island and Pearly Beach', 'Pearly Beach')\n",
    "    beach = beach.replace('Umm Suqeim Beach', 'Suqeim Beach')\n",
    "    beach = beach.replace('100 miles off Ft. Myers Beach', 'Fort Meyers Beach')\n",
    "    beach = beach.replace('Tyrendarra Beach near Portland', 'Tyrendarra Beach')\n",
    "    if 'Jimmy' in beach:\n",
    "        beach = \"Jimmy's Beach\"\n",
    "    if 'Gaviota' in beach:\n",
    "        beach = 'Gaviota Beach'\n",
    "    return beach"
   ]
  },
  {
   "cell_type": "code",
   "execution_count": 265,
   "id": "cfb4c714",
   "metadata": {
    "ExecuteTime": {
     "end_time": "2023-11-26T22:09:21.750444Z",
     "start_time": "2023-11-26T22:09:21.698421Z"
    },
    "id": "cfb4c714"
   },
   "outputs": [],
   "source": [
    "# Cleaning the Location Column\n",
    "sharks['Location'] = sharks['Location'].fillna('Unknown')\n",
    "\n",
    "location_list = []\n",
    "\n",
    "# Iterating through each location\n",
    "for location in sharks['Location']:\n",
    "    # General Replacements that need to be done\n",
    "    location = location.replace('Baay', 'Bay')\n",
    "    # Splitting the values on a comma (,)\n",
    "    location = location.split(',')\n",
    "    # If the word beach is in any of the tokens, use that token.\n",
    "    if 'Unknown' in location[0]:\n",
    "        location = location[0]\n",
    "    # This adds all of the first instances of the word beach into a list\n",
    "    if len(location) >= 1 and 'Beach' in location[0]:\n",
    "        location = location[0]\n",
    "        clean_beaches(location)\n",
    "    if len(location) >= 2 and 'Beach' in location[1]:\n",
    "        location = location[1]\n",
    "        clean_beaches(location)\n",
    "    elif len(location) >= 1 and 'Bay' in location[0]:\n",
    "        location = location[0]\n",
    "        clean_bays(location)\n",
    "    elif len(location) >= 2 and 'Bay' in location[1]:\n",
    "        location = location[1]\n",
    "        clean_bays(location)\n",
    "    elif len(location) >= 1 and 'Harbor' in location[0]:\n",
    "        location = location[0]\n",
    "        clean_harbors(location)\n",
    "    elif (len(location) >= 1 and 'Island' in location[0]) or (len(location) >= 1 and 'Isle' in location[0]):\n",
    "        location = location[0]\n",
    "        clean_island(location)\n",
    "    elif len(location) == 1:\n",
    "        location = location[0]\n",
    "        clean_word(location)\n",
    "    elif len(location) == 2:\n",
    "        location = location[0]\n",
    "    elif len(location) == 3:\n",
    "        location = location[0]\n",
    "    elif type(location) == 'list' and len(location) == 4:\n",
    "        location = location[0]\n",
    "    location_list.append(location)\n"
   ]
  },
  {
   "cell_type": "code",
   "execution_count": 266,
   "id": "a25e4f83",
   "metadata": {
    "ExecuteTime": {
     "end_time": "2023-11-26T22:09:25.429353Z",
     "start_time": "2023-11-26T22:09:25.398577Z"
    },
    "colab": {
     "base_uri": "https://localhost:8080/",
     "height": 206
    },
    "id": "a25e4f83",
    "outputId": "3478123a-0415-45bb-f523-12bea77f1f75",
    "scrolled": true
   },
   "outputs": [
    {
     "data": {
      "text/html": [
       "<div>\n",
       "<style scoped>\n",
       "    .dataframe tbody tr th:only-of-type {\n",
       "        vertical-align: middle;\n",
       "    }\n",
       "\n",
       "    .dataframe tbody tr th {\n",
       "        vertical-align: top;\n",
       "    }\n",
       "\n",
       "    .dataframe thead th {\n",
       "        text-align: right;\n",
       "    }\n",
       "</style>\n",
       "<table border=\"1\" class=\"dataframe\">\n",
       "  <thead>\n",
       "    <tr style=\"text-align: right;\">\n",
       "      <th></th>\n",
       "      <th>Type</th>\n",
       "      <th>Country</th>\n",
       "      <th>State</th>\n",
       "      <th>Activity</th>\n",
       "      <th>Name</th>\n",
       "      <th>Sex</th>\n",
       "      <th>Age</th>\n",
       "      <th>Injury</th>\n",
       "      <th>Fatality</th>\n",
       "      <th>Time</th>\n",
       "      <th>Species</th>\n",
       "      <th>Date</th>\n",
       "      <th>Year</th>\n",
       "      <th>Month</th>\n",
       "      <th>Day</th>\n",
       "      <th>Weekday</th>\n",
       "      <th>Location</th>\n",
       "    </tr>\n",
       "  </thead>\n",
       "  <tbody>\n",
       "    <tr>\n",
       "      <th>0</th>\n",
       "      <td>Unprovoked</td>\n",
       "      <td>USA</td>\n",
       "      <td>Hawaii</td>\n",
       "      <td>Surfing</td>\n",
       "      <td>Kevin Kanehe</td>\n",
       "      <td>M</td>\n",
       "      <td>50</td>\n",
       "      <td>Leg</td>\n",
       "      <td>No</td>\n",
       "      <td>16h00</td>\n",
       "      <td>Tiger shark</td>\n",
       "      <td>2023-10-15</td>\n",
       "      <td>2023</td>\n",
       "      <td>October</td>\n",
       "      <td>15</td>\n",
       "      <td>Saturday</td>\n",
       "      <td>Hanalei Bay</td>\n",
       "    </tr>\n",
       "    <tr>\n",
       "      <th>1</th>\n",
       "      <td>Under Investigation</td>\n",
       "      <td>USA</td>\n",
       "      <td>California</td>\n",
       "      <td>Surfing</td>\n",
       "      <td>male</td>\n",
       "      <td>M</td>\n",
       "      <td>52</td>\n",
       "      <td>Leg</td>\n",
       "      <td>Unsure</td>\n",
       "      <td>15h45</td>\n",
       "      <td>unidentified</td>\n",
       "      <td>2023-10-13</td>\n",
       "      <td>2023</td>\n",
       "      <td>October</td>\n",
       "      <td>13</td>\n",
       "      <td>Thursday</td>\n",
       "      <td>Pacific State Beach</td>\n",
       "    </tr>\n",
       "    <tr>\n",
       "      <th>2</th>\n",
       "      <td>Unprovoked</td>\n",
       "      <td>USA</td>\n",
       "      <td>Hawaii</td>\n",
       "      <td>Surfing</td>\n",
       "      <td>K. Cole</td>\n",
       "      <td>F</td>\n",
       "      <td>45</td>\n",
       "      <td>Other</td>\n",
       "      <td>No</td>\n",
       "      <td>13h00</td>\n",
       "      <td>unidentified</td>\n",
       "      <td>2023-10-02</td>\n",
       "      <td>2023</td>\n",
       "      <td>October</td>\n",
       "      <td>2</td>\n",
       "      <td>Sunday</td>\n",
       "      <td>Paia</td>\n",
       "    </tr>\n",
       "    <tr>\n",
       "      <th>3</th>\n",
       "      <td>Unprovoked</td>\n",
       "      <td>AUSTRALIA</td>\n",
       "      <td>South Australia</td>\n",
       "      <td>Swimming</td>\n",
       "      <td>Pamela Cook</td>\n",
       "      <td>F</td>\n",
       "      <td>64</td>\n",
       "      <td>Leg</td>\n",
       "      <td>No</td>\n",
       "      <td>07h45</td>\n",
       "      <td>unidentified</td>\n",
       "      <td>2023-10-01</td>\n",
       "      <td>2023</td>\n",
       "      <td>October</td>\n",
       "      <td>1</td>\n",
       "      <td>Saturday</td>\n",
       "      <td>Beachport</td>\n",
       "    </tr>\n",
       "    <tr>\n",
       "      <th>4</th>\n",
       "      <td>Unprovoked</td>\n",
       "      <td>USA</td>\n",
       "      <td>California</td>\n",
       "      <td>Swimming</td>\n",
       "      <td>Felix Louis N'Jai</td>\n",
       "      <td>M</td>\n",
       "      <td>52</td>\n",
       "      <td>Other</td>\n",
       "      <td>Yes</td>\n",
       "      <td>10h40</td>\n",
       "      <td>unidentified</td>\n",
       "      <td>2023-10-01</td>\n",
       "      <td>2023</td>\n",
       "      <td>October</td>\n",
       "      <td>1</td>\n",
       "      <td>Saturday</td>\n",
       "      <td>Wildcat Beach</td>\n",
       "    </tr>\n",
       "  </tbody>\n",
       "</table>\n",
       "</div>"
      ],
      "text/plain": [
       "                  Type    Country            State  Activity  \\\n",
       "0           Unprovoked        USA           Hawaii   Surfing   \n",
       "1  Under Investigation        USA       California   Surfing   \n",
       "2           Unprovoked        USA           Hawaii   Surfing   \n",
       "3           Unprovoked  AUSTRALIA  South Australia  Swimming   \n",
       "4           Unprovoked        USA       California  Swimming   \n",
       "\n",
       "                Name Sex Age Injury Fatality   Time       Species       Date  \\\n",
       "0       Kevin Kanehe   M  50    Leg       No  16h00   Tiger shark 2023-10-15   \n",
       "1               male   M  52    Leg   Unsure  15h45  unidentified 2023-10-13   \n",
       "2            K. Cole   F  45  Other       No  13h00  unidentified 2023-10-02   \n",
       "3        Pamela Cook   F  64    Leg       No  07h45  unidentified 2023-10-01   \n",
       "4  Felix Louis N'Jai   M  52  Other      Yes  10h40  unidentified 2023-10-01   \n",
       "\n",
       "   Year    Month  Day   Weekday              Location  \n",
       "0  2023  October   15  Saturday           Hanalei Bay  \n",
       "1  2023  October   13  Thursday   Pacific State Beach  \n",
       "2  2023  October    2    Sunday                  Paia  \n",
       "3  2023  October    1  Saturday             Beachport  \n",
       "4  2023  October    1  Saturday         Wildcat Beach  "
      ]
     },
     "execution_count": 266,
     "metadata": {},
     "output_type": "execute_result"
    }
   ],
   "source": [
    "# Re-Creating the 'Location' variable to be better with the above functions.\n",
    "sharks[\"new_location\"] = pd.Series(location_list)\n",
    "sharks.drop(columns = ['Location'], axis = 1, inplace = True)\n",
    "sharks.rename({\"new_location\":\"Location\"}, axis = 1, inplace = True)\n",
    "sharks.head()"
   ]
  },
  {
   "cell_type": "markdown",
   "id": "994f2438",
   "metadata": {},
   "source": [
    "### Bailey Fitts - Code"
   ]
  },
  {
   "cell_type": "code",
   "execution_count": 267,
   "id": "c5698970",
   "metadata": {
    "ExecuteTime": {
     "end_time": "2023-11-26T22:17:43.892465Z",
     "start_time": "2023-11-26T22:17:43.882155Z"
    },
    "id": "c5698970"
   },
   "outputs": [],
   "source": [
    "df = sharks\n",
    "def mass_replace(df,column,matches_replacements):\n",
    "    '''\n",
    "    Purpose: Replaces every key from matches_replacements dict with the corresponding value.\n",
    "    '''\n",
    "    if not len(matches_replacements):\n",
    "        raise ValueError('Length of arguments 0. Please give something to replace')\n",
    "        \n",
    "    if type(matches_replacements) != dict:\n",
    "        raise TypeError('Matches_replacements must be of type dict')\n",
    "\n",
    "    types=[list,tuple,dict]\n",
    "    for key,value in matches_replacements.items():\n",
    "        if type(key) in types or type(value) in types:\n",
    "            raise TypeError('''When iterating through keys and values, none of the\n",
    "                  individual keys or values should be an interable''')\n",
    "\n",
    "    try:\n",
    "        df[column].replace({key:value},regex=True,inplace=True)\n",
    "\n",
    "    except:\n",
    "        print(f'the key, value causing the error are {key},{value}')"
   ]
  },
  {
   "cell_type": "code",
   "execution_count": 280,
   "id": "27f3d6b5",
   "metadata": {
    "ExecuteTime": {
     "end_time": "2023-11-26T22:17:44.808946Z",
     "start_time": "2023-11-26T22:17:44.802147Z"
    },
    "id": "27f3d6b5"
   },
   "outputs": [],
   "source": [
    "def clean_sex_column(df):\n",
    "    '''\n",
    "    Purpose: Cleans the 'sex' column.\n",
    "    '''\n",
    "    pattern1=r'&|passengers|crew\\b|occupants|males\\b|Occupants|people|men\\b|children|others?\\b|migrants|immigrants|couple\\b|refugees\\b|slaves|poachers|tourists|swimmers'\n",
    "    mask=df.Name.str.contains(pattern1,regex=True)\n",
    "    df.Sex[(mask)&(df.Sex.isnull())]='multiple'\n",
    "    return df"
   ]
  },
  {
   "cell_type": "code",
   "execution_count": 270,
   "id": "df6c7654",
   "metadata": {
    "ExecuteTime": {
     "end_time": "2023-11-26T22:17:45.638735Z",
     "start_time": "2023-11-26T22:17:45.626335Z"
    },
    "id": "df6c7654"
   },
   "outputs": [],
   "source": [
    "def give_enumerated_dict_from_list(list_of_words):\n",
    "    dictionary_of_word_index={}\n",
    "    for i,word in enumerate(list_of_words):\n",
    "        dictionary_of_word_index[word]=i\n",
    "    return dictionary_of_word_index\n",
    "\n",
    "def remove_stopwords(string):\n",
    "    '''\n",
    "    Purpose: Removes stopwords from the strings.\n",
    "    '''\n",
    "    if pd.isna(string):\n",
    "        string=''\n",
    "    if type(string) != str:\n",
    "        raise ValueError(f'object is of type {type(string)}, object is {string}')\n",
    "\n",
    "    tokenized_list=nltk.word_tokenize(string)\n",
    "\n",
    "    stopwords_dict=give_enumerated_dict_from_list(stopwords.words('english'))\n",
    "    tokenized_dict=give_enumerated_dict_from_list(tokenized_list)\n",
    "\n",
    "    no_stopwords_list=[]\n",
    "    for word in tokenized_dict.keys():\n",
    "        if not stopwords_dict.get(word,False):\n",
    "            no_stopwords_list.append(word)\n",
    "\n",
    "    return no_stopwords_list\n",
    "\n",
    "def pos_tag_verb_selection(string):\n",
    "    '''\n",
    "    Purpose: Extracts the parts of each string that is a verb.\n",
    "    '''\n",
    "    string=remove_stopwords(string)\n",
    "    tagged_string=nltk.pos_tag(string)\n",
    "\n",
    "    list_of_only_verbs=[]\n",
    "    for word,pos in dict(tagged_string).items():\n",
    "        if 'V' in pos:\n",
    "            list_of_only_verbs.append(word)\n",
    "\n",
    "    list_of_only_lemma=[]\n",
    "    for word in list_of_only_verbs:\n",
    "        list_of_only_lemma.append(lemmatizer.lemmatize(word.lower(),'v'))\n",
    "\n",
    "    return list_of_only_lemma"
   ]
  },
  {
   "cell_type": "code",
   "execution_count": 271,
   "id": "919a5aa3",
   "metadata": {
    "ExecuteTime": {
     "end_time": "2023-11-26T22:17:47.106857Z",
     "start_time": "2023-11-26T22:17:47.100335Z"
    },
    "id": "919a5aa3"
   },
   "outputs": [],
   "source": [
    "def len_detect_before_split(word_list):\n",
    "    '''\n",
    "    Purpose: Checks the length of the string.\n",
    "    '''\n",
    "    if len(word_list)>1:\n",
    "        return ','.join(word_list)\n",
    "    elif len(word_list)==1:\n",
    "        return word_list[0]\n",
    "    else:\n",
    "        return np.nan"
   ]
  },
  {
   "cell_type": "code",
   "execution_count": 272,
   "id": "cdd8ab23",
   "metadata": {
    "ExecuteTime": {
     "end_time": "2023-11-26T22:17:47.635170Z",
     "start_time": "2023-11-26T22:17:47.628415Z"
    },
    "id": "cdd8ab23"
   },
   "outputs": [],
   "source": [
    "def name_cleaner(string):\n",
    "    '''\n",
    "    Purpose: Cleans the 'Names' column.\n",
    "    '''\n",
    "    if type(string)!=str:\n",
    "        return np.nan\n",
    "    try:\n",
    "        string=string.lower()\n",
    "        string= string.split(' ')\n",
    "        return string[0]\n",
    "    except:\n",
    "        print(string)\n",
    "        return np.nan"
   ]
  },
  {
   "cell_type": "code",
   "execution_count": 273,
   "id": "aca5abfe",
   "metadata": {
    "ExecuteTime": {
     "end_time": "2023-11-26T22:17:51.757492Z",
     "start_time": "2023-11-26T22:17:51.719381Z"
    },
    "id": "aca5abfe"
   },
   "outputs": [],
   "source": [
    "# Cleaning the 'Sex' column.\n",
    "mass_replace(df,'Sex',{r'.*M.*':'M','lli':'M',r'\\.': np.nan,'N':'M'})"
   ]
  },
  {
   "cell_type": "code",
   "execution_count": 284,
   "id": "f5cd08a1",
   "metadata": {
    "ExecuteTime": {
     "end_time": "2023-11-26T22:17:53.063785Z",
     "start_time": "2023-11-26T22:17:53.039244Z"
    },
    "colab": {
     "base_uri": "https://localhost:8080/"
    },
    "id": "f5cd08a1",
    "outputId": "e625d758-8bb3-4847-aa29-b63f1c7374d4"
   },
   "outputs": [],
   "source": [
    "sharks = clean_sex_column(sharks)"
   ]
  },
  {
   "cell_type": "markdown",
   "id": "ed9bdc7c",
   "metadata": {
    "ExecuteTime": {
     "end_time": "2023-11-26T22:17:55.956902Z",
     "start_time": "2023-11-26T22:17:55.952455Z"
    },
    "id": "ed9bdc7c"
   },
   "source": [
    "# Cleaning the \"Activity\" Variable"
   ]
  },
  {
   "cell_type": "code",
   "execution_count": 285,
   "id": "b31f7e91",
   "metadata": {
    "ExecuteTime": {
     "end_time": "2023-11-26T22:17:59.983625Z",
     "start_time": "2023-11-26T22:17:56.485314Z"
    },
    "id": "b31f7e91"
   },
   "outputs": [],
   "source": [
    "sharks['Activity_tokens']=sharks.Activity.apply(pos_tag_verb_selection)"
   ]
  },
  {
   "cell_type": "code",
   "execution_count": 286,
   "id": "05f7430d",
   "metadata": {
    "ExecuteTime": {
     "end_time": "2023-11-26T22:18:01.343154Z",
     "start_time": "2023-11-26T22:18:01.331926Z"
    },
    "id": "05f7430d"
   },
   "outputs": [],
   "source": [
    "sharks['Activities_token_strings']=sharks.Activity_tokens.apply(len_detect_before_split)"
   ]
  },
  {
   "cell_type": "code",
   "execution_count": 287,
   "id": "cad36cdb",
   "metadata": {
    "ExecuteTime": {
     "end_time": "2023-11-26T22:18:03.043938Z",
     "start_time": "2023-11-26T22:18:03.035211Z"
    },
    "id": "cad36cdb"
   },
   "outputs": [],
   "source": [
    "activities_series=df.Activities_token_strings.value_counts()"
   ]
  },
  {
   "cell_type": "code",
   "execution_count": 288,
   "id": "67cfa8cb",
   "metadata": {
    "ExecuteTime": {
     "end_time": "2023-11-26T22:18:03.738351Z",
     "start_time": "2023-11-26T22:18:03.726249Z"
    },
    "id": "67cfa8cb"
   },
   "outputs": [],
   "source": [
    "activities_dict={}\n",
    "for index,value in zip(activities_series.index,activities_series.values):\n",
    "    if len(index.split(','))==1:\n",
    "        if activities_dict.get(index,False):\n",
    "            activities_dict[index]+=value\n",
    "        else:\n",
    "            activities_dict[index]=value\n",
    "    if len(index.split(','))>1:\n",
    "        for word in index.split(','):\n",
    "            if activities_dict.get(word,False):\n",
    "                activities_dict[word]+=value\n",
    "            else:\n",
    "                activities_dict[word]=value"
   ]
  },
  {
   "cell_type": "code",
   "execution_count": 289,
   "id": "398a108e",
   "metadata": {
    "ExecuteTime": {
     "end_time": "2023-11-26T22:18:04.620511Z",
     "start_time": "2023-11-26T22:18:04.609594Z"
    },
    "id": "398a108e"
   },
   "outputs": [],
   "source": [
    "activities_df=pd.Series(activities_dict).sort_values(ascending=False).reset_index()"
   ]
  },
  {
   "cell_type": "code",
   "execution_count": 290,
   "id": "e2ff2bab",
   "metadata": {
    "ExecuteTime": {
     "end_time": "2023-11-26T22:18:05.283504Z",
     "start_time": "2023-11-26T22:18:05.276499Z"
    },
    "id": "e2ff2bab"
   },
   "outputs": [],
   "source": [
    "activities_df=activities_df[activities_df[0]>8]"
   ]
  },
  {
   "cell_type": "code",
   "execution_count": 291,
   "id": "e04c320d",
   "metadata": {
    "ExecuteTime": {
     "end_time": "2023-11-26T22:18:06.034194Z",
     "start_time": "2023-11-26T22:18:06.016439Z"
    },
    "colab": {
     "base_uri": "https://localhost:8080/"
    },
    "id": "e04c320d",
    "outputId": "52d09de2-d989-45b1-e158-84441f05d5df"
   },
   "outputs": [],
   "source": [
    "activities_df['index'].iloc[5]='wade'\n",
    "activities_df['index'].iloc[6]='bathe'\n",
    "activities_df[0].iloc[5]+=activities_df[0].iloc[7]\n",
    "activities_df[0].iloc[4]+=activities_df[0].iloc[8]\n",
    "activities_df[0].iloc[0]+=activities_df[0].iloc[9]\n",
    "activities_df[0].iloc[12]+=activities_df[0].iloc[10]\n",
    "activities_df[0].iloc[12]+=activities_df[0].iloc[21]\n",
    "activities_df.drop([7,8,9,10,21,11,15,18,19,20,22,23,24,27,28,29,30,31,33,34,35,37,38,40,41,43,44,45,46,47,51,52],axis=0,inplace=True)"
   ]
  },
  {
   "cell_type": "code",
   "execution_count": 292,
   "id": "36100cb5",
   "metadata": {
    "ExecuteTime": {
     "end_time": "2023-11-26T22:18:08.421225Z",
     "start_time": "2023-11-26T22:18:08.411216Z"
    },
    "id": "36100cb5"
   },
   "outputs": [],
   "source": [
    "activities_df=activities_df.sort_values(by=0,ascending=False).reset_index().drop(['level_0'],axis=1)\n",
    "activities_df.rename(columns={'index':'Activity',0:'Count'},inplace=True)"
   ]
  },
  {
   "cell_type": "code",
   "execution_count": 293,
   "id": "7294eece",
   "metadata": {
    "ExecuteTime": {
     "end_time": "2023-11-26T22:18:09.072380Z",
     "start_time": "2023-11-26T22:18:09.065097Z"
    },
    "id": "7294eece"
   },
   "outputs": [],
   "source": [
    "activities_df.drop([16,17,18,19,20],inplace=True)"
   ]
  },
  {
   "cell_type": "code",
   "execution_count": 294,
   "id": "c38ec406",
   "metadata": {
    "ExecuteTime": {
     "end_time": "2023-11-26T22:18:10.050419Z",
     "start_time": "2023-11-26T22:18:09.912413Z"
    },
    "id": "c38ec406"
   },
   "outputs": [],
   "source": [
    "# Using the mass replacement function on the 'Time' variable.\n",
    "mass_replace(sharks,'Time',{r'oo':'00',r'A':'',r'(?i)mid':'',r'(?i)late':'',\n",
    "                        r'(?i)early':'',\n",
    "                        r' (?i)(Sunset)':'',\n",
    "                        r'(?i)fall':'',\n",
    "                        r'(?i)Morning':'09:50',\n",
    "                        r'(?i)M':'09:50',\n",
    "                        r'(?i)A.M.':'09:50',\n",
    "                        r'(?i)Before ':'',\n",
    "                        r'(?i)shortly ':'',\n",
    "                        r'(?i)Prior to ':'',\n",
    "                        r'(?i)After ':'',\n",
    "                        r'(?i)Just ':'',\n",
    "                        r'(?i)daybreak':'06:00',\n",
    "                        r'(?i)evening':'18:00',\n",
    "                        r'(?i)sundown':'18:00',\n",
    "                        r'(?i)sunset':'18:00',\n",
    "                        r'\" (?i)evening\"':'18:00',\n",
    "                        r'(?i)dusk':'18:00',\n",
    "                        r'(?i)dawn':'06:00',\n",
    "                        r'(?i)Night':'21:00',\n",
    "                        r'(?i)Dark':'21:00',\n",
    "                        r'(?i)h':':',\n",
    "                        r'(?i)Afternoon':'14:00',\n",
    "                        r'(?i)Afternon':'14:00',\n",
    "                        r'(?i)Midday':'12:00',\n",
    "                        r'(?i)noon':'12:00',\n",
    "                        r'(?i)day.':'12:00',\n",
    "                        r'(?i)day':'12:00',\n",
    "                        r'(?i)Between (\\d\\d:\\d\\d) and (\\d\\d:\\d\\d)':'\\\\1',\n",
    "                        r'(?i)Between (\\d\\d:\\d\\d) to (\\d\\d:\\d\\d)':'\\\\1',\n",
    "                        r'(\\d\\d:\\d\\d) to (\\d\\d:\\d\\d)':'\\\\1',\n",
    "                        r'(\\d\\d)(\\d\\d)':'\\1:\\\\2',\n",
    "                        r'(?i)Between (\\d\\d:\\d\\d) & (\\d\\d:\\d\\d)':'\\\\1',\n",
    "                        r'(\\d\\d:\\d\\d)-{1,2}\\d\\d:\\d\\d':'\\\\1',\n",
    "                        r'(\\d\\d:\\d\\d) - \\d\\d:\\d\\d':'\\\\1',\n",
    "                        r'(\\d\\d:\\d\\d) -\\d\\d:\\d\\d':'\\\\1',\n",
    "                        r'(\\d\\d:\\d\\d) -- \\d\\d:\\d\\d':'\\\\1',\n",
    "                        r'(\\d\\d:\\d\\d) or \\d\\d:\\d\\d':'\\\\1',\n",
    "                        r'(\\d\\d:\\d\\d) / \\d\\d:\\d\\d':'\\\\1',\n",
    "                        r'(\\d\\d:\\d\\d)\\(\\d\\d:\\d\\d\\)':'\\\\1',\n",
    "                        r'\" ':'',\n",
    "                        r'\"':'',\n",
    "                        r'P\\.':'',\n",
    "                        r'\\.':'',\n",
    "                        r'>':'',\n",
    "                        r'<':'',\n",
    "                        r'j':'',\n",
    "                        r'-':'',\n",
    "                        r'`':'',\n",
    "                        r' ':'',\n",
    "                        r'\u0001':''})"
   ]
  },
  {
   "cell_type": "code",
   "execution_count": 295,
   "id": "975c8c4d",
   "metadata": {
    "ExecuteTime": {
     "end_time": "2023-11-26T22:18:11.419184Z",
     "start_time": "2023-11-26T22:18:11.402390Z"
    },
    "colab": {
     "base_uri": "https://localhost:8080/"
    },
    "id": "975c8c4d",
    "outputId": "e9999ded-0288-49af-81a8-c876d8913fd4"
   },
   "outputs": [],
   "source": [
    "# Fixing certain times with our data.\n",
    "sharks.Time.iloc[5600]=np.nan\n",
    "sharks.Time.iloc[5308]='03:10'\n",
    "sharks.Time.iloc[5289]='11:01'\n",
    "sharks.Time.iloc[5208]='18:00'\n",
    "sharks.Time.iloc[5057]=np.nan\n",
    "sharks.Time.iloc[4988]='21:00'\n",
    "sharks.Time.iloc[4187]='13:00'\n",
    "sharks.Time.iloc[4030]=np.nan\n",
    "sharks.Time.iloc[3667]='09:50'\n",
    "sharks.Time.iloc[3291]=np.nan\n",
    "sharks.Time.iloc[3124]=np.nan\n",
    "sharks.Time.iloc[2764]=np.nan\n",
    "sharks.Time.iloc[2603]=np.nan\n",
    "sharks.Time.iloc[1692]='15:45'\n",
    "sharks.Time.iloc[1675]='12:00'\n",
    "sharks.Time.iloc[1535]='09:50'\n",
    "sharks.Time.iloc[1050]='06:00'\n",
    "sharks.Time.iloc[613]='19:00'\n",
    "sharks.Time.iloc[328]='14:15'"
   ]
  },
  {
   "cell_type": "code",
   "execution_count": 296,
   "id": "LnWkdLLM_nA9",
   "metadata": {
    "colab": {
     "base_uri": "https://localhost:8080/"
    },
    "id": "LnWkdLLM_nA9",
    "outputId": "20675802-1a51-4c76-be46-61a5e962b843"
   },
   "outputs": [],
   "source": [
    "def splitter(string):\n",
    "    if string!= string:\n",
    "        return np.nan\n",
    "    if string == '':\n",
    "        return np.nan\n",
    "    string=str(string)\n",
    "    tme=string.split(':')[0]\n",
    "    tme= tme+':00'\n",
    "    return tme\n",
    "\n",
    "sharks.Time=sharks.Time.apply(splitter)\n",
    "for time in sharks.Time:\n",
    "    try:\n",
    "        pd.to_datetime(time)\n",
    "    except:\n",
    "        try:\n",
    "            sharks.Time[sharks.Time==str(time)]=np.nan\n",
    "        except:\n",
    "            raise ValueError('Something went wrong')"
   ]
  },
  {
   "cell_type": "code",
   "execution_count": 304,
   "id": "a193589d",
   "metadata": {
    "ExecuteTime": {
     "end_time": "2023-11-26T22:18:12.159195Z",
     "start_time": "2023-11-26T22:18:12.104499Z"
    },
    "id": "a193589d"
   },
   "outputs": [],
   "source": [
    "sharks.Age.replace({r'(\\d{1,2}) or \\d{1,2}':'\\g<1>'},regex=True,inplace=True)\n",
    "sharks.Age.replace({r'(\\d{1,2}) to \\d{1,2}':'\\g<1>'},regex=True,inplace=True)\n",
    "sharks.Age.replace({r'(?i)young':np.nan},inplace=True,regex=True)\n",
    "sharks.Age.replace({r'(?i)adult':np.nan},inplace=True,regex=True)\n",
    "sharks.Age.replace({r'(?i)elderly':np.nan},inplace=True,regex=True)\n",
    "sharks.Age.replace({r\"\\d+'?s\":np.nan},inplace=True,regex=True)\n",
    "sharks.Age.replace({r'(?i)m':np.nan},inplace=True,regex=True)\n",
    "sharks.Age.replace({r'(?i)teens':np.nan},inplace=True,regex=True)\n",
    "sharks.Age.replace({r'(?i)teen':np.nan},inplace=True,regex=True)\n",
    "sharks.Age.replace({r'[1-9]{1,2} and [1-9]{1,2}':'-1'},inplace=True,regex=True)\n",
    "\n",
    "sharks.Age.replace({r'.* and .*':'-1'},inplace=True,regex=True)\n",
    "sharks.Age.replace({r'.* & .*':'-1'},inplace=True,regex=True)\n",
    "sharks.Age.replace({r'>':''},inplace=True,regex=True)\n",
    "sharks.Age.replace({r'<':''},inplace=True,regex=True)\n",
    "sharks.Age.replace({r'\\d      &    \\d\\d':'-1'},inplace=True,regex=True)\n",
    "sharks.Age.replace({r' ':''},inplace=True,regex=True)\n",
    "sharks.Age.replace({r'\\?':''},inplace=True,regex=True)"
   ]
  },
  {
   "cell_type": "code",
   "execution_count": 305,
   "id": "345c82e0",
   "metadata": {
    "ExecuteTime": {
     "end_time": "2023-11-26T22:18:13.599333Z",
     "start_time": "2023-11-26T22:18:13.575845Z"
    },
    "colab": {
     "base_uri": "https://localhost:8080/"
    },
    "id": "345c82e0",
    "outputId": "d4cb606d-29ae-46a7-cf14-2da6429a0e77"
   },
   "outputs": [],
   "source": [
    "sharks.Age.iloc[6599]=2\n",
    "sharks.Age.iloc[5775]=2\n",
    "sharks.Age.iloc[5764]=np.nan\n",
    "sharks.Age.iloc[5678]=np.nan\n",
    "sharks.Age.iloc[5655]=np.nan\n",
    "sharks.Age.iloc[5593]='-1'\n",
    "sharks.Age.iloc[5394]='-1'\n",
    "sharks.Age.iloc[5269]=np.nan\n",
    "sharks.Age.iloc[5180]='-1'\n",
    "sharks.Age.iloc[4983]=np.nan\n",
    "sharks.Age.iloc[4803]=1\n",
    "sharks.Age.iloc[4708]='-1'\n",
    "sharks.Age.iloc[4668]='-1'\n",
    "sharks.Age.iloc[4654]=np.nan\n",
    "sharks.Age.iloc[4642]=np.nan\n",
    "sharks.Age.iloc[4588]='-1'\n",
    "sharks.Age.iloc[4576]='-1'\n",
    "sharks.Age.iloc[4392]=np.nan\n",
    "sharks.Age.iloc[4236]=np.nan\n",
    "sharks.Age.iloc[4136]=1\n",
    "sharks.Age.iloc[4107]='-1'\n",
    "sharks.Age.iloc[3837]=20\n",
    "sharks.Age.iloc[3739]=74\n",
    "sharks.Age.iloc[3740]=45\n",
    "sharks.Age.iloc[3693]=np.nan\n",
    "sharks.Age.iloc[3567]=np.nan\n",
    "sharks.Age.iloc[3550]=np.nan\n",
    "sharks.Age.iloc[3477]=np.nan\n",
    "sharks.Age.iloc[3215]=np.nan\n",
    "sharks.Age.iloc[3216]=np.nan\n",
    "sharks.Age.iloc[3075]=np.nan\n",
    "sharks.Age.iloc[2533]=np.nan\n",
    "sharks.Age.iloc[2479]=6\n",
    "sharks.Age.iloc[2402]=np.nan\n",
    "sharks.Age.iloc[2403]=np.nan\n",
    "sharks.Age.iloc[1023]=1\n",
    "sharks.Age.iloc[554]=np.nan\n",
    "sharks.Age.iloc[424]='-1'\n",
    "sharks.Age.iloc[202]=np.nan\n",
    "sharks.Age.iloc[198]=6\n",
    "sharks.Age.iloc[36]=2\n",
    "sharks.Age.iloc[16]=np.nan"
   ]
  },
  {
   "cell_type": "code",
   "execution_count": 306,
   "id": "ac757cf3",
   "metadata": {
    "ExecuteTime": {
     "end_time": "2023-11-26T22:18:15.149349Z",
     "start_time": "2023-11-26T22:18:15.133967Z"
    },
    "id": "ac757cf3"
   },
   "outputs": [],
   "source": [
    "sharks.Name=sharks.Name.apply(name_cleaner)"
   ]
  },
  {
   "cell_type": "code",
   "execution_count": 307,
   "id": "cbadeed9",
   "metadata": {
    "ExecuteTime": {
     "end_time": "2023-11-26T22:18:16.008548Z",
     "start_time": "2023-11-26T22:18:15.996453Z"
    },
    "id": "cbadeed9"
   },
   "outputs": [],
   "source": [
    "name_counts=sharks.Name.value_counts().reset_index().drop([0,1,3,7,12,21,22])"
   ]
  },
  {
   "cell_type": "code",
   "execution_count": 308,
   "id": "a1ef4a57",
   "metadata": {
    "ExecuteTime": {
     "end_time": "2023-11-26T22:18:16.758193Z",
     "start_time": "2023-11-26T22:18:16.751808Z"
    },
    "id": "a1ef4a57"
   },
   "outputs": [],
   "source": [
    "name_counts.rename(columns={'index':'name','Name':'count'},inplace=True)"
   ]
  },
  {
   "cell_type": "code",
   "execution_count": 309,
   "id": "15941fe4",
   "metadata": {
    "ExecuteTime": {
     "end_time": "2023-11-26T22:26:00.162148Z",
     "start_time": "2023-11-26T22:25:59.471112Z"
    },
    "id": "15941fe4"
   },
   "outputs": [],
   "source": [
    "sharks.Age=sharks.Age.astype(float)"
   ]
  },
  {
   "cell_type": "code",
   "execution_count": 310,
   "id": "2f977205",
   "metadata": {
    "ExecuteTime": {
     "end_time": "2023-11-26T22:26:43.534960Z",
     "start_time": "2023-11-26T22:26:43.529047Z"
    },
    "id": "2f977205"
   },
   "outputs": [],
   "source": [
    "Sharkattack = sharks"
   ]
  },
  {
   "cell_type": "code",
   "execution_count": 311,
   "id": "7bfb1028",
   "metadata": {
    "ExecuteTime": {
     "end_time": "2023-11-26T22:28:07.181633Z",
     "start_time": "2023-11-26T22:28:07.110553Z"
    },
    "id": "7bfb1028"
   },
   "outputs": [],
   "source": [
    "Sharkattack\n",
    "# Assuming Sharkattack is your DataFrame\n",
    "Sharkattack.to_csv('shark_attack_data.csv')"
   ]
  },
  {
   "cell_type": "code",
   "execution_count": 313,
   "id": "64f9853c",
   "metadata": {},
   "outputs": [
    {
     "data": {
      "text/html": [
       "<div>\n",
       "<style scoped>\n",
       "    .dataframe tbody tr th:only-of-type {\n",
       "        vertical-align: middle;\n",
       "    }\n",
       "\n",
       "    .dataframe tbody tr th {\n",
       "        vertical-align: top;\n",
       "    }\n",
       "\n",
       "    .dataframe thead th {\n",
       "        text-align: right;\n",
       "    }\n",
       "</style>\n",
       "<table border=\"1\" class=\"dataframe\">\n",
       "  <thead>\n",
       "    <tr style=\"text-align: right;\">\n",
       "      <th></th>\n",
       "      <th>Type</th>\n",
       "      <th>Country</th>\n",
       "      <th>State</th>\n",
       "      <th>Activity</th>\n",
       "      <th>Name</th>\n",
       "      <th>Sex</th>\n",
       "      <th>Age</th>\n",
       "      <th>Injury</th>\n",
       "      <th>Fatality</th>\n",
       "      <th>Time</th>\n",
       "      <th>Species</th>\n",
       "      <th>Date</th>\n",
       "      <th>Year</th>\n",
       "      <th>Month</th>\n",
       "      <th>Day</th>\n",
       "      <th>Weekday</th>\n",
       "      <th>Location</th>\n",
       "      <th>Activity_tokens</th>\n",
       "      <th>Activities_token_strings</th>\n",
       "    </tr>\n",
       "  </thead>\n",
       "  <tbody>\n",
       "    <tr>\n",
       "      <th>0</th>\n",
       "      <td>Unprovoked</td>\n",
       "      <td>USA</td>\n",
       "      <td>Hawaii</td>\n",
       "      <td>Surfing</td>\n",
       "      <td>kevin</td>\n",
       "      <td>M</td>\n",
       "      <td>50.0</td>\n",
       "      <td>Leg</td>\n",
       "      <td>No</td>\n",
       "      <td>NaN</td>\n",
       "      <td>Tiger shark</td>\n",
       "      <td>2023-10-15</td>\n",
       "      <td>2023</td>\n",
       "      <td>October</td>\n",
       "      <td>15</td>\n",
       "      <td>Saturday</td>\n",
       "      <td>Hanalei Bay</td>\n",
       "      <td>[surf]</td>\n",
       "      <td>surf</td>\n",
       "    </tr>\n",
       "    <tr>\n",
       "      <th>1</th>\n",
       "      <td>Under Investigation</td>\n",
       "      <td>USA</td>\n",
       "      <td>California</td>\n",
       "      <td>Surfing</td>\n",
       "      <td>male</td>\n",
       "      <td>M</td>\n",
       "      <td>52.0</td>\n",
       "      <td>Leg</td>\n",
       "      <td>Unsure</td>\n",
       "      <td>NaN</td>\n",
       "      <td>unidentified</td>\n",
       "      <td>2023-10-13</td>\n",
       "      <td>2023</td>\n",
       "      <td>October</td>\n",
       "      <td>13</td>\n",
       "      <td>Thursday</td>\n",
       "      <td>Pacific State Beach</td>\n",
       "      <td>[surf]</td>\n",
       "      <td>surf</td>\n",
       "    </tr>\n",
       "    <tr>\n",
       "      <th>2</th>\n",
       "      <td>Unprovoked</td>\n",
       "      <td>USA</td>\n",
       "      <td>Hawaii</td>\n",
       "      <td>Surfing</td>\n",
       "      <td>k.</td>\n",
       "      <td>F</td>\n",
       "      <td>45.0</td>\n",
       "      <td>Other</td>\n",
       "      <td>No</td>\n",
       "      <td>NaN</td>\n",
       "      <td>unidentified</td>\n",
       "      <td>2023-10-02</td>\n",
       "      <td>2023</td>\n",
       "      <td>October</td>\n",
       "      <td>2</td>\n",
       "      <td>Sunday</td>\n",
       "      <td>Paia</td>\n",
       "      <td>[surf]</td>\n",
       "      <td>surf</td>\n",
       "    </tr>\n",
       "    <tr>\n",
       "      <th>3</th>\n",
       "      <td>Unprovoked</td>\n",
       "      <td>AUSTRALIA</td>\n",
       "      <td>South Australia</td>\n",
       "      <td>Swimming</td>\n",
       "      <td>pamela</td>\n",
       "      <td>F</td>\n",
       "      <td>64.0</td>\n",
       "      <td>Leg</td>\n",
       "      <td>No</td>\n",
       "      <td>NaN</td>\n",
       "      <td>unidentified</td>\n",
       "      <td>2023-10-01</td>\n",
       "      <td>2023</td>\n",
       "      <td>October</td>\n",
       "      <td>1</td>\n",
       "      <td>Saturday</td>\n",
       "      <td>Beachport</td>\n",
       "      <td>[swim]</td>\n",
       "      <td>swim</td>\n",
       "    </tr>\n",
       "    <tr>\n",
       "      <th>4</th>\n",
       "      <td>Unprovoked</td>\n",
       "      <td>USA</td>\n",
       "      <td>California</td>\n",
       "      <td>Swimming</td>\n",
       "      <td>felix</td>\n",
       "      <td>M</td>\n",
       "      <td>52.0</td>\n",
       "      <td>Other</td>\n",
       "      <td>Yes</td>\n",
       "      <td>NaN</td>\n",
       "      <td>unidentified</td>\n",
       "      <td>2023-10-01</td>\n",
       "      <td>2023</td>\n",
       "      <td>October</td>\n",
       "      <td>1</td>\n",
       "      <td>Saturday</td>\n",
       "      <td>Wildcat Beach</td>\n",
       "      <td>[swim]</td>\n",
       "      <td>swim</td>\n",
       "    </tr>\n",
       "  </tbody>\n",
       "</table>\n",
       "</div>"
      ],
      "text/plain": [
       "                  Type    Country            State  Activity    Name Sex  \\\n",
       "0           Unprovoked        USA           Hawaii   Surfing   kevin   M   \n",
       "1  Under Investigation        USA       California   Surfing    male   M   \n",
       "2           Unprovoked        USA           Hawaii   Surfing      k.   F   \n",
       "3           Unprovoked  AUSTRALIA  South Australia  Swimming  pamela   F   \n",
       "4           Unprovoked        USA       California  Swimming   felix   M   \n",
       "\n",
       "    Age Injury Fatality Time       Species       Date  Year    Month  Day  \\\n",
       "0  50.0    Leg       No  NaN   Tiger shark 2023-10-15  2023  October   15   \n",
       "1  52.0    Leg   Unsure  NaN  unidentified 2023-10-13  2023  October   13   \n",
       "2  45.0  Other       No  NaN  unidentified 2023-10-02  2023  October    2   \n",
       "3  64.0    Leg       No  NaN  unidentified 2023-10-01  2023  October    1   \n",
       "4  52.0  Other      Yes  NaN  unidentified 2023-10-01  2023  October    1   \n",
       "\n",
       "    Weekday              Location Activity_tokens Activities_token_strings  \n",
       "0  Saturday           Hanalei Bay          [surf]                     surf  \n",
       "1  Thursday   Pacific State Beach          [surf]                     surf  \n",
       "2    Sunday                  Paia          [surf]                     surf  \n",
       "3  Saturday             Beachport          [swim]                     swim  \n",
       "4  Saturday         Wildcat Beach          [swim]                     swim  "
      ]
     },
     "execution_count": 313,
     "metadata": {},
     "output_type": "execute_result"
    }
   ],
   "source": [
    "Sharkattack.head()"
   ]
  },
  {
   "cell_type": "markdown",
   "id": "dg0wVjq20Ozr",
   "metadata": {
    "id": "dg0wVjq20Ozr"
   },
   "source": [
    "# Bailey's Vizualizations"
   ]
  },
  {
   "cell_type": "code",
   "execution_count": 315,
   "id": "4abc5986",
   "metadata": {
    "id": "4abc5986"
   },
   "outputs": [],
   "source": [
    "# fig,ax=plt.subplots(figsize=(8,5))\n",
    "# plt.barh(sharks.Activities_token_strings.value_counts().sort_values().index,sharks.Activities_token_strings.value_counts().sort_values().values,\n",
    "#          color='deepskyblue')\n",
    "# plt.title('Activities')\n",
    "# ax.spines['top'].set_visible(False)\n",
    "# ax.spines['right'].set_visible(False)"
   ]
  },
  {
   "cell_type": "code",
   "execution_count": 317,
   "id": "9d2feede",
   "metadata": {
    "id": "9d2feede"
   },
   "outputs": [],
   "source": [
    "# fig,ax=plt.subplots()\n",
    "\n",
    "# plt.barh(activities_type[activities_type['Type']=='Provoked'].sort_values(by='Location').Activities_token_strings.values,\n",
    "#         activities_type[activities_type['Type']=='Provoked'].sort_values(by='Location').Location.values,color='teal')\n",
    "# plt.title('Provoked Attacks by Activity')\n",
    "# ax.spines['top'].set_visible(False)\n",
    "# ax.spines['right'].set_visible(False)"
   ]
  },
  {
   "cell_type": "code",
   "execution_count": null,
   "id": "03180692",
   "metadata": {
    "id": "03180692"
   },
   "outputs": [],
   "source": [
    "# fig,ax=plt.subplots(figsize=(7,3))\n",
    "# ax.bar(activities_type[activities_type['Type']=='Sea Disaster'].sort_values(by='Location',ascending=False).Activities_token_strings.values,\n",
    "#         activities_type[activities_type['Type']=='Sea Disaster'].sort_values(by='Location',ascending=False).Location.values,color='deepskyblue')\n",
    "# ax.set_title('Sea Disaster Attacks by Activity')\n",
    "# plt.xticks(rotation=90)\n",
    "# ax.spines['top'].set_visible(False)\n",
    "# ax.spines['right'].set_visible(False)"
   ]
  },
  {
   "cell_type": "code",
   "execution_count": null,
   "id": "37656799",
   "metadata": {
    "id": "37656799"
   },
   "outputs": [],
   "source": [
    "# fig,ax=plt.subplots(figsize=(7,3))\n",
    "# plt.bar(activities_type[activities_type['Type']=='Unprovoked'].sort_values(by='Location',ascending=False).Activities_token_strings.values,\n",
    "#         activities_type[activities_type['Type']=='Unprovoked'].sort_values(by='Location',ascending=False).Location.values,color='cornflowerblue')\n",
    "# plt.title('Unprovoked Attacks by Activity')\n",
    "# plt.xticks(rotation=90)\n",
    "# ax.spines['top'].set_visible(False)\n",
    "# ax.spines['right'].set_visible(False)\n"
   ]
  },
  {
   "cell_type": "code",
   "execution_count": null,
   "id": "9jpZtwrJ00pD",
   "metadata": {
    "id": "9jpZtwrJ00pD"
   },
   "outputs": [],
   "source": [
    "# fig,ax=plt.subplots(figsize=(7,3))\n",
    "# plt.barh(activities_fatality[activities_fatality['Fatality']=='Yes'].sort_values(by='Type').Activities_token_strings.values,\n",
    "#         activities_fatality[activities_fatality['Fatality']=='Yes'].sort_values(by='Type').Type.values,color='dimgray')\n",
    "# plt.title('Fatal Attacks by Activity')\n",
    "# ax.spines['top'].set_visible(False)\n",
    "# ax.spines['right'].set_visible(False)"
   ]
  },
  {
   "cell_type": "code",
   "execution_count": null,
   "id": "IRVPBdGu085I",
   "metadata": {
    "id": "IRVPBdGu085I"
   },
   "outputs": [],
   "source": [
    "# fig,ax=plt.subplots(figsize=(5,5))\n",
    "# plt.barh(activities_fatality[activities_fatality['Fatality']=='No'].sort_values(by='Type').Activities_token_strings.values,\n",
    "#         activities_fatality[activities_fatality['Fatality']=='No'].sort_values(by='Type').Type.values,color='silver')\n",
    "# plt.title('Non Fatal Attacks by Attack')\n",
    "# ax.spines['top'].set_visible(False)\n",
    "# ax.spines['right'].set_visible(False)"
   ]
  },
  {
   "cell_type": "code",
   "execution_count": null,
   "id": "RSW_L74a1Bu4",
   "metadata": {
    "id": "RSW_L74a1Bu4"
   },
   "outputs": [],
   "source": [
    "# with sns.axes_style('darkgrid'):\n",
    "#   fig=plt.figure(figsize=(18,8))\n",
    "#   ax1=plt.subplot2grid((9,9),(0,0),colspan=3,rowspan=6)\n",
    "#   ax1.hist(x=sharks.Age[sharks.Age>-1],bins=40,color='teal')\n",
    "#   ax1.set_title('Overall')\n",
    "#   ax2=plt.subplot2grid((9,9), (0,3),colspan=3,rowspan=6)\n",
    "#   ax2.set_title('Fatal vs Non-Fatal')\n",
    "#   ax2.hist(x=sharks.Age[(sharks.Age>-1)&(sharks.Fatality=='No')],bins=40,color='cornflowerblue',label='Non-Fatal')\n",
    "#   ax2.hist(x=sharks.Age[(sharks.Age>-1)&(sharks.Fatality=='Yes')],bins=40,color='deepskyblue',label='Fatal')\n",
    "#   ax2.set_ylim(top=440)\n",
    "#   ax2.legend()\n",
    "#   ax3=plt.subplot2grid((9,9),(6,0),colspan=2,rowspan=3)\n",
    "#   ax3.pie(labels=age_cat_percents[age_cat_percents['Age_cat']=='40 or Younger']['Fatality'],\n",
    "#         x=age_cat_percents[age_cat_percents['Age_cat']=='40 or Younger']['Location'],\n",
    "#         autopct='%1.1f%%',colors=['cornflowerblue','deepskyblue','paleturquoise'])\n",
    "#   ax3.set_title('Age 40 or Younger Fatalities')\n",
    "#   ax4=plt.subplot2grid((9,9),(6,2),colspan=2,rowspan=3)\n",
    "#   ax4.pie(labels=age_cat_percents[age_cat_percents['Age_cat']=='Over 40']['Fatality'],\n",
    "#         x=age_cat_percents[age_cat_percents['Age_cat']=='Over 40']['Location'],\n",
    "#           colors=['cornflowerblue','deepskyblue','paleturquoise'],autopct='%1.1f%%')\n",
    "#   ax4.set_title('Age 40 - 59 Fatalities')\n",
    "#   ax5=plt.subplot2grid((9,9),(6,4),colspan=2,rowspan=3)\n",
    "#   ax5.pie(labels=age_cat_percents[age_cat_percents['Age_cat']=='Over 60']['Fatality'],\n",
    "#         x=age_cat_percents[age_cat_percents['Age_cat']=='Over 60']['Location'],\n",
    "#           colors=['cornflowerblue','deepskyblue','paleturquoise'],autopct='%1.1f%%')\n",
    "#   ax5.set_title('Age Over 60 Fatalities')\n",
    "#   fig.suptitle('Victims by Age',x=.35,y=.95)\n",
    "#   fig.tight_layout()\n",
    "#   plt.ylabel('')\n",
    "#   plt.xlabel('')"
   ]
  },
  {
   "cell_type": "code",
   "execution_count": null,
   "id": "ZVfbxumg1SOI",
   "metadata": {
    "id": "ZVfbxumg1SOI"
   },
   "outputs": [],
   "source": [
    "# import plotly.express as px\n",
    "# from datetime import time\n",
    "# time_counts_before_noon=time_counts[time_counts['Time'] < time(12, 0, 0)]\n",
    "# time_counts_after_noon=time_counts[time_counts['Time']>= time(12,0,0)]\n",
    "# fig_before_noon = px.bar_polar(time_counts_before_noon, r='Count', theta='Time',\n",
    "#                    category_orders={'Time': time_counts_before_noon['Time'].values},\n",
    "#                    color_discrete_sequence=['teal'])\n",
    "\n",
    "\n",
    "\n",
    "# fig_before_noon.update_layout(title_text='Attacks Before Noon', title_x=.5, title_y=0.95,\n",
    "#                               polar=dict(radialaxis=dict(visible=True,range=[0, 500])))\n",
    "\n",
    "# fig_before_noon.show()"
   ]
  },
  {
   "cell_type": "code",
   "execution_count": null,
   "id": "gHwEk7bG1Tx6",
   "metadata": {
    "id": "gHwEk7bG1Tx6"
   },
   "outputs": [],
   "source": [
    "# fig_after_noon = px.bar_polar(time_counts_after_noon, r='Count', theta='Time',\n",
    "#                    category_orders={'Time': time_counts_after_noon['Time'].values},\n",
    "#                    color_discrete_sequence=['teal'],\n",
    "#                    title='Attacks After Noon')\n",
    "# fig_after_noon.update_layout(title_text='Attacks After Noon', title_x=0.5, title_y=0.9)\n",
    "# fig_after_noon.show()"
   ]
  },
  {
   "cell_type": "code",
   "execution_count": null,
   "id": "8UK8VcPM1ZM6",
   "metadata": {
    "id": "8UK8VcPM1ZM6"
   },
   "outputs": [],
   "source": [
    "# fig = px.bar_polar(time_counts, r='Count', theta='Time',\n",
    "#                    category_orders={'Time': time_counts['Time'].values},\n",
    "#                    color_discrete_sequence=['teal'],\n",
    "#                    title='Attacks',\n",
    "#                    )\n",
    "# fig.update_layout(title_text='Attacks', title_x=0.5, title_y=0.9)\n",
    "# fig.show()"
   ]
  },
  {
   "cell_type": "code",
   "execution_count": null,
   "id": "vGDM60ql1ebi",
   "metadata": {
    "id": "vGDM60ql1ebi"
   },
   "outputs": [],
   "source": [
    "# plt.pie(labels=sex_df[(sex_df['Sex']=='M')&(sex_df['Fatality']!='2017')]['Fatality'].values,x=sex_df[(sex_df['Sex']=='M')&(sex_df['Fatality']!='2017')]['Type'].values,\n",
    "#         colors=['skyblue','steelblue','blue'],autopct='%1.1f%%')\n",
    "# plt.title('Male Victims')"
   ]
  },
  {
   "cell_type": "code",
   "execution_count": null,
   "id": "Uq6ZpdrJ1noj",
   "metadata": {
    "id": "Uq6ZpdrJ1noj"
   },
   "outputs": [],
   "source": [
    "# plt.pie(labels=sex_df[(sex_df['Sex']=='F')&(sex_df['Fatality']!='2017')]['Fatality'].values,x=sex_df[(sex_df['Sex']=='F')&(sex_df['Fatality']!='2017')]['Type'].values,\n",
    "#         colors=['pink','crimson','red'],autopct='%1.1f%%')\n",
    "# plt.title('Female Victims')"
   ]
  },
  {
   "cell_type": "markdown",
   "id": "ba7e0668",
   "metadata": {},
   "source": [
    "# Nick's Visualizations"
   ]
  },
  {
   "cell_type": "code",
   "execution_count": 319,
   "id": "1f7e7890",
   "metadata": {},
   "outputs": [
    {
     "data": {
      "image/png": "[encoded data removed]",
      "text/plain": [
       "<Figure size 640x480 with 1 Axes>"
      ]
     },
     "metadata": {},
     "output_type": "display_data"
    }
   ],
   "source": [
    "# Visualization #1\n",
    "# 'Type' Visual --> Pie Chart\n",
    "fig, ax = plt.subplots()\n",
    "colors = ['cornflowerblue', 'teal', 'deepskyblue', 'lightblue']\n",
    "pie_chart = sharks['Type'].value_counts().plot(kind = 'pie', autopct = '%1.1f%%', startangle = 90, ax = ax, colors = colors,\n",
    "                                          wedgeprops=dict(edgecolor='black', linewidth=0.5),\n",
    "                                          labeldistance = 1.2);\n",
    "ax.set_title('Type of Attacks Occured Globally', fontsize = 16);\n",
    "ax.set_ylabel('');"
   ]
  },
  {
   "cell_type": "code",
   "execution_count": 320,
   "id": "45fa9b37",
   "metadata": {},
   "outputs": [
    {
     "data": {
      "image/png": "[encoded data removed]",
      "text/plain": [
       "<Figure size 640x480 with 1 Axes>"
      ]
     },
     "metadata": {},
     "output_type": "display_data"
    }
   ],
   "source": [
    "# Visualization 2\n",
    "# Of unprovoked attacks, how many were fatal/non-fatal\n",
    "unprovoked = sharks[sharks['Type'] == 'Unprovoked']\n",
    "\n",
    "# # Setting the colors\n",
    "colors = ['cornflowerblue', 'dimgray', 'dimgray']\n",
    "ax = unprovoked['Fatality'].value_counts().plot(kind = 'bar', rot = 0, color = colors);\n",
    "ax.spines['top'].set_visible(False)\n",
    "ax.spines['right'].set_visible(False)\n",
    "plt.title('Difference in Outcomes of Unprovoked Attacks');"
   ]
  },
  {
   "cell_type": "code",
   "execution_count": 321,
   "id": "63966d41",
   "metadata": {},
   "outputs": [
    {
     "data": {
      "image/png": "[encoded data removed]",
      "text/plain": [
       "<Figure size 640x480 with 1 Axes>"
      ]
     },
     "metadata": {},
     "output_type": "display_data"
    }
   ],
   "source": [
    "# Visualization 3\n",
    "provoked = sharks[sharks['Type'] == 'Provoked']\n",
    "\n",
    "colors = ['teal', 'dimgray', 'dimgray']\n",
    "ax = provoked['Fatality'].value_counts().plot(kind = 'bar', rot = 0, color = colors);\n",
    "ax.spines['top'].set_visible(False)\n",
    "ax.spines['right'].set_visible(False)\n",
    "plt.title('Difference in Outcomes of Provoked Attacks');"
   ]
  },
  {
   "cell_type": "code",
   "execution_count": 322,
   "id": "e2da4b8e",
   "metadata": {},
   "outputs": [
    {
     "data": {
      "image/png": "[encoded data removed]",
      "text/plain": [
       "<Figure size 700x500 with 1 Axes>"
      ]
     },
     "metadata": {},
     "output_type": "display_data"
    }
   ],
   "source": [
    "# Visualization 4\n",
    "disaster = sharks[sharks['Type'] == 'Sea Disaster']\n",
    "\n",
    "colors = ['deepskyblue', 'dimgray', 'dimgray']\n",
    "fig, ax = plt.subplots(figsize = (7, 5))\n",
    "ax = disaster['Fatality'].value_counts().sort_values(ascending = False).plot(kind = 'bar', rot = 0, color = colors);\n",
    "ax.spines['top'].set_visible(False)\n",
    "ax.spines['right'].set_visible(False)\n",
    "plt.title('Difference in Outcomes of Sea Disaster Attacks');"
   ]
  },
  {
   "cell_type": "code",
   "execution_count": 323,
   "id": "c2ed1330",
   "metadata": {},
   "outputs": [
    {
     "data": {
      "image/png": "[encoded data removed]",
      "text/plain": [
       "<Figure size 700x500 with 1 Axes>"
      ]
     },
     "metadata": {},
     "output_type": "display_data"
    }
   ],
   "source": [
    "# Visualization 5\n",
    "investigation = sharks[sharks['Type'] == 'Under Investigation']\n",
    "\n",
    "colors = ['paleturquoise', 'dimgray', 'dimgray']\n",
    "fig, ax = plt.subplots(figsize = (7, 5))\n",
    "ax = investigation['Fatality'].value_counts().sort_values(ascending = False).plot(kind = 'bar', rot = 0, color = colors);\n",
    "ax.spines['top'].set_visible(False)\n",
    "ax.spines['right'].set_visible(False)\n",
    "plt.title('Difference in Outcomes of Attacks that are Under Investigation');"
   ]
  },
  {
   "cell_type": "code",
   "execution_count": 324,
   "id": "21f31dce",
   "metadata": {},
   "outputs": [],
   "source": [
    "# Getting rid of the bad \"popular names\" that we don't want to see\n",
    "bad_names = ['male', 'female', 'a', 'mr.', '2', 'boat', 'boat,', 'male,', 'boy', 'captain', 'mrs.', 'dr.', '5',\n",
    "             'sailor', 'males', 'child', 'japanese', 'boat:', 'crew', 'fishing', '3', \"12'\", '6', 'girl', 'woman']\n",
    "\n",
    "# Creating a new data frame that filters out these names\n",
    "names_clean = sharks[~sharks['Name'].isin(bad_names)]\n",
    "\n",
    "# Creating just a male dataframe\n",
    "names_clean_male = names_clean[names_clean['Sex'] == 'M']\n",
    "# Creating just a female dataframe\n",
    "names_clean_female = names_clean[names_clean['Sex'] == 'F']"
   ]
  },
  {
   "cell_type": "code",
   "execution_count": 325,
   "id": "e621efee",
   "metadata": {},
   "outputs": [],
   "source": [
    "# Getting the top 30 names for males\n",
    "top_30_M = names_clean_male.Name.value_counts()[:30]\n",
    "# Getting the top 30 names for females\n",
    "top_30_F = names_clean_female.Name.value_counts()[:30]"
   ]
  },
  {
   "cell_type": "code",
   "execution_count": 326,
   "id": "cb42a998",
   "metadata": {},
   "outputs": [
    {
     "data": {
      "image/png": "[encoded data removed]",
      "text/plain": [
       "<Figure size 500x500 with 1 Axes>"
      ]
     },
     "metadata": {},
     "output_type": "display_data"
    }
   ],
   "source": [
    "# This creates the Word Cloud for the MALES\n",
    "#!pip install wordcloud\n",
    "from wordcloud import WordCloud, STOPWORDS\n",
    "comment_words = ''\n",
    "stopwords = set(STOPWORDS)\n",
    "\n",
    "# Iterate through the Words we want\n",
    "for val in top_30_M.index:\n",
    "    # Setting each value of the \"name\" column to be a string\n",
    "    value = str(val)\n",
    "    \n",
    "    # Splitting the Value\n",
    "    tokens = val.split()\n",
    "    \n",
    "    # Converting each token into lowercase()\n",
    "    for i in range(len(tokens)):\n",
    "        tokens[i] = tokens[i].lower()\n",
    "        \n",
    "    comment_words = comment_words + \" \".join(tokens) + \" \"\n",
    "    \n",
    "wordcloud = WordCloud(width = 800, height = 800, background_color = 'white', stopwords = stopwords,\n",
    "                      min_font_size = 10).generate(comment_words)\n",
    "\n",
    "# PLotting the WordCloud Image\n",
    "plt.figure(figsize = (5,5), facecolor = None)\n",
    "plt.imshow(wordcloud)\n",
    "plt.axis(\"off\")\n",
    "plt.tight_layout(pad = 0)"
   ]
  },
  {
   "cell_type": "code",
   "execution_count": 327,
   "id": "06af1b7c",
   "metadata": {},
   "outputs": [
    {
     "data": {
      "image/png": "[encoded data removed]",
      "text/plain": [
       "<Figure size 500x500 with 1 Axes>"
      ]
     },
     "metadata": {},
     "output_type": "display_data"
    }
   ],
   "source": [
    "# This creates the Word Cloud for the FEMALES\n",
    "#!pip install wordcloud\n",
    "from wordcloud import WordCloud, STOPWORDS\n",
    "comment_words = ''\n",
    "stopwords = set(STOPWORDS)\n",
    "\n",
    "# Iterate through the Words we want\n",
    "for val in top_30_F.index:\n",
    "    # Setting each value of the \"name\" column to be a string\n",
    "    value = str(val)\n",
    "    \n",
    "    # Splitting the Value\n",
    "    tokens = val.split()\n",
    "    \n",
    "    # Converting each token into lowercase()\n",
    "    for i in range(len(tokens)):\n",
    "        tokens[i] = tokens[i].lower()\n",
    "        \n",
    "    comment_words = comment_words + \" \".join(tokens) + \" \"\n",
    "    \n",
    "wordcloud = WordCloud(width = 800, height = 800, background_color = 'white', stopwords = stopwords,\n",
    "                      min_font_size = 10).generate(comment_words)\n",
    "\n",
    "# PLotting the WordCloud Image\n",
    "plt.figure(figsize = (5,5), facecolor = None)\n",
    "plt.imshow(wordcloud)\n",
    "plt.axis(\"off\")\n",
    "plt.tight_layout(pad = 0)"
   ]
  },
  {
   "cell_type": "code",
   "execution_count": null,
   "id": "9e65151e",
   "metadata": {},
   "outputs": [],
   "source": [
    "# # Getting the names of individuals from our class!\n",
    "# names = ['nick', 'john', 'joey', 'maria', 'bailey', 'matthew', 'brittany', 'emily', 'neal', 'daniel','troy', 'corey', 'carrie',\n",
    "#          'john', 'harshini', 'ixcehl', 'sana', 'aysha', 'yang' ,'pawrisa']\n",
    "\n",
    "# # Creating a dataframe where there are shark attacks for just the names of our classmates\n",
    "# classmates = sharks[sharks['Name'].isin(names)]\n",
    "# # Getting the total number of attacks by name\n",
    "# classmates = classmates['Name'].value_counts()"
   ]
  },
  {
   "cell_type": "code",
   "execution_count": null,
   "id": "8186529f",
   "metadata": {},
   "outputs": [],
   "source": [
    "# from wordcloud import WordCloud, STOPWORDS\n",
    "# comment_words = ''\n",
    "# stopwords = set(STOPWORDS)\n",
    "\n",
    "# # Iterate through the Words we want\n",
    "# for val in classmates.index:\n",
    "#     # Setting each value of the \"name\" column to be a string\n",
    "#     value = str(val)\n",
    "    \n",
    "#     # Splitting the Value\n",
    "#     tokens = val.split()\n",
    "    \n",
    "#     # Converting each token into lowercase()\n",
    "#     for i in range(len(tokens)):\n",
    "#         tokens[i] = tokens[i].lower()\n",
    "        \n",
    "#     comment_words = comment_words + \" \".join(tokens) + \" \"\n",
    "    \n",
    "# wordcloud = WordCloud(width = 800, height = 800, background_color = 'white', stopwords = stopwords,\n",
    "#                       min_font_size = 10).generate(comment_words)\n",
    "\n",
    "# # PLotting the WordCloud Image\n",
    "# plt.figure(figsize = (5,5), facecolor = None)\n",
    "# plt.imshow(wordcloud)\n",
    "# plt.axis(\"off\")\n",
    "# plt.tight_layout(pad = 0)"
   ]
  },
  {
   "cell_type": "code",
   "execution_count": 328,
   "id": "21f506f8",
   "metadata": {},
   "outputs": [
    {
     "data": {
      "image/png": "[encoded data removed]",
      "text/plain": [
       "<Figure size 600x300 with 1 Axes>"
      ]
     },
     "metadata": {},
     "output_type": "display_data"
    }
   ],
   "source": [
    "sharks['Date'] = pd.to_datetime(sharks['Date'])\n",
    "excluded_date = '2050-01-01'\n",
    "excluded_date = pd.to_datetime(excluded_date)\n",
    "correct_dates = sharks[sharks['Date'] != excluded_date]\n",
    "\n",
    "fig, ax = plt.subplots(figsize = (6, 3))\n",
    "ax = correct_dates.groupby('Year')['Year'].count().plot(color = 'teal');\n",
    "plt.title('Yearly Shark Attacks');\n",
    "plt.xlabel('');"
   ]
  },
  {
   "cell_type": "code",
   "execution_count": null,
   "id": "08de6f9b",
   "metadata": {},
   "outputs": [],
   "source": [
    "# Getting the average number of shark attacks from 1960 forward\n",
    "after_1960 = correct_dates[correct_dates['Year'] >= 1960]\n",
    "after_1960.groupby('Year')['Year'].count().sum() / 63"
   ]
  },
  {
   "cell_type": "code",
   "execution_count": null,
   "id": "6e753c06",
   "metadata": {},
   "outputs": [],
   "source": [
    "# This allows me to see the total number of attacks per year\n",
    "after_1960.groupby('Year')['Year'].count()"
   ]
  },
  {
   "cell_type": "code",
   "execution_count": null,
   "id": "6806cf32",
   "metadata": {},
   "outputs": [],
   "source": [
    "# Counts for each of the outlier years\n",
    "interest.Year.value_counts().sort_index(ascending = False)"
   ]
  },
  {
   "cell_type": "code",
   "execution_count": null,
   "id": "65f7f4dc",
   "metadata": {},
   "outputs": [],
   "source": [
    "# # Creating dataframes for each of the top 5 states in order to plot them on a chart\n",
    "# florida_sharks = usa_sharks[usa_sharks['State'] == 'Florida']\n",
    "# hawaii_sharks = usa_sharks[usa_sharks['State'] == 'Hawaii']\n",
    "# california_sharks = usa_sharks[usa_sharks['State'] == 'California']\n",
    "# sc_sharks = usa_sharks[usa_sharks['State'] == 'South Carolina']\n",
    "# nc_sharks = usa_sharks[usa_sharks['State'] == 'North Carolina']"
   ]
  },
  {
   "cell_type": "code",
   "execution_count": null,
   "id": "dbc85fa1",
   "metadata": {},
   "outputs": [],
   "source": [
    "# # Looking to see which states are the most popular among attacks\n",
    "# usa_sharks = sharks[sharks['Country'] == 'USA']\n",
    "# usa_sharks['State'].value_counts()"
   ]
  },
  {
   "cell_type": "code",
   "execution_count": null,
   "id": "fbe3f4fc",
   "metadata": {},
   "outputs": [],
   "source": [
    "# # Getting the top 5 most popular U.S. states with attacks\n",
    "# usa_sharks_1960 = usa_sharks[usa_sharks['Year'] >= 1960]\n",
    "# usa_sharks_1960.groupby('State')['State'].count().sort_values(ascending = False)[:5]"
   ]
  },
  {
   "cell_type": "code",
   "execution_count": null,
   "id": "8b1a55f1",
   "metadata": {},
   "outputs": [],
   "source": [
    "# # Group by year and count the occurrences\n",
    "# shark_counts = florida_sharks.groupby('Year')['Year'].count()\n",
    "# shark_counts2 = hawaii_sharks.groupby('Year')['Year'].count()\n",
    "# shark_counts3 = california_sharks.groupby('Year')['Year'].count()\n",
    "# shark_counts4 = sc_sharks.groupby('Year')['Year'].count()\n",
    "# shark_counts5 = nc_sharks.groupby('Year')['Year'].count()\n",
    "\n",
    "# # Calculate the rolling mean with a window size of your choice\n",
    "# rolling_mean = shark_counts.rolling(window=3).mean()  # You can adjust the window size as needed\n",
    "# rolling_mean2 = shark_counts2.rolling(window=3).mean()\n",
    "# rolling_mean3 = shark_counts3.rolling(window=3).mean()\n",
    "# rolling_mean4 = shark_counts4.rolling(window=3).mean()\n",
    "# rolling_mean5 = shark_counts5.rolling(window=3).mean()\n",
    "\n",
    "# # Plotting\n",
    "# fig, ax = plt.subplots(figsize=(10, 6))\n",
    "\n",
    "# # Plot the smoothed line\n",
    "# ax.plot(rolling_mean.index, rolling_mean, color='cornflowerblue', label='Florida', linewidth=2);\n",
    "# ax.plot(rolling_mean2.index, rolling_mean2, color='dimgray', label='Hawaii', linewidth=2);\n",
    "# ax.plot(rolling_mean3.index, rolling_mean3, color='lightgray', label='California', linewidth=2);\n",
    "# ax.plot(rolling_mean4.index, rolling_mean4, color='black', label='South Carolina', linewidth=2);\n",
    "# ax.plot(rolling_mean5.index, rolling_mean5, color='lightsteelblue', label='North Carolina', linewidth=2);\n",
    "\n",
    "# plt.title('Shark Attacks for Top 5 States in the United States: 1960 - Present');"
   ]
  },
  {
   "cell_type": "code",
   "execution_count": null,
   "id": "b3501c13",
   "metadata": {},
   "outputs": [],
   "source": [
    "# fatal = after_1960[after_1960['Fatality'] == 'Yes']\n",
    "# nonfatal = after_1960[after_1960['Fatality'] == 'No']\n",
    "# male = after_1960[after_1960['Sex'] == 'M']\n",
    "# female = after_1960[after_1960['Sex'] == 'F']\n",
    "\n",
    "# fig, ax = plt.subplots(figsize = (10, 6))\n",
    "\n",
    "# ax = fatal.groupby('Year')['Year'].count().plot(color = 'red', label = 'Fatal')\n",
    "# ax = nonfatal.groupby('Year')['Year'].count().plot(color = 'gray', label = 'Non-Fatal')\n",
    "# ax.set_title('Fatal vs. Non-Fatal Attacks since 1960', fontsize = 16);\n",
    "# ax.set_xlabel('');\n",
    "# ax.legend();"
   ]
  },
  {
   "cell_type": "code",
   "execution_count": 330,
   "id": "380bd284",
   "metadata": {},
   "outputs": [],
   "source": [
    "# fig, ax = plt.subplots(figsize = (10, 6))\n",
    "\n",
    "# ax = male.groupby('Year')['Year'].count().plot(color = 'royalblue', label = 'male')\n",
    "# ax = female.groupby('Year')['Year'].count().plot(color = 'hotpink', label = 'Female')\n",
    "# ax.set_title('Male vs. Female Attacks since 1960', fontsize = 16);\n",
    "# ax.set_xlabel('');"
   ]
  },
  {
   "cell_type": "markdown",
   "id": "7c473177",
   "metadata": {},
   "source": [
    "# Matt's Visualizations"
   ]
  },
  {
   "cell_type": "code",
   "execution_count": null,
   "id": "07877337",
   "metadata": {},
   "outputs": [],
   "source": [
    "# selected_injuries = ['Leg', 'Foot', 'Arm', 'Hand', 'Thigh', 'Calf']\n",
    " \n",
    "# filtered_injuries = sharks[sharks['Injury'].isin(selected_injuries)]\n",
    " \n",
    "# injury_fatality_counts = filtered_injuries.groupby(['Injury', 'Fatality']).size().unstack().fillna(0)\n",
    " \n",
    "# colors = {'Yes': 'red', 'No': 'silver', 'Unsure': 'grey'}\n",
    " \n",
    "# fig, axes = plt.subplots(2, 3, figsize=(15, 10))\n",
    "# fig.suptitle('Fatality Percentage for Selected Injuries')\n",
    " \n",
    "# for i, (injury_type, row) in enumerate(injury_fatality_counts.iterrows()):\n",
    "#     ax = axes[i // 3, i % 3]\n",
    "#     ax.pie(row, labels=row.index, autopct='%1.1f%%', startangle=90, colors=[colors.get(label, 'grey') for label in row.index])\n",
    "#     ax.set_title(injury_type)\n",
    " \n",
    "# plt.show()"
   ]
  },
  {
   "cell_type": "code",
   "execution_count": null,
   "id": "4ce1bd6d",
   "metadata": {},
   "outputs": [],
   "source": [
    "# selected_species = ['Nurse shark', 'White shark', 'Tiger shark', 'Bull shark']\n",
    "# excluded_types = ['Sea Disaster', 'Under investigation']\n",
    " \n",
    "# filtered_species = sharks[\n",
    "#     (sharks['Species'].isin(selected_species)) & \n",
    "#     (~sharks['Type'].isin(excluded_types))\n",
    "# ]\n",
    " \n",
    "# species_type_counts = filtered_species.groupby(['Species', 'Type']).size().unstack().fillna(0)\n",
    " \n",
    "# sorted_species_type_counts = species_type_counts.sum(axis=1).sort_values(ascending=True)\n",
    "# species_type_counts = species_type_counts.loc[sorted_species_type_counts.index]\n",
    " \n",
    "# colors = {'Unprovoked': 'silver', 'Provoked': 'teal', 'Invalid': 'teal', 'Boat': 'silver'}\n",
    " \n",
    "# species_type_counts.plot(kind='bar', stacked=True, color=[colors.get(col, 'grey') for col in species_type_counts.columns], figsize=(12, 8))\n",
    " \n",
    "# plt.title('Shark Species and the type of attack')\n",
    "# plt.xlabel('Species')\n",
    "# plt.ylabel('Attacks')\n",
    "# plt.xticks(rotation=0)\n",
    "# plt.legend(title='Type', loc='upper right', bbox_to_anchor=(1.15, 1))\n",
    " \n",
    "# plt.show()"
   ]
  },
  {
   "cell_type": "code",
   "execution_count": null,
   "id": "4cf06df7",
   "metadata": {},
   "outputs": [],
   "source": [
    "import re\n",
    "import pandas as pd\n",
    "import numpy as np\n",
    "import matplotlib.pyplot as plt\n",
    "%matplotlib inline\n",
    "import folium\n",
    "import random\n",
    "from folium import plugins\n",
    "import geopandas as gpd\n",
    "import geoviews as gv\n",
    "from geopandas import GeoDataFrame\n",
    "import shapefile\n",
    "import difflib\n",
    "import geoviews.tile_sources as gts\n",
    "pd.set_option('display.max_columns',None,'display.max_rows',None)\n",
    "import scipy.misc\n",
    "from PIL import Image"
   ]
  },
  {
   "cell_type": "code",
   "execution_count": null,
   "id": "4480be1e",
   "metadata": {},
   "outputs": [],
   "source": [
    "#Open cage code do not run\n",
    " \n",
    "#%pip install opencage\n",
    "# sharks['Location'] = sharks.Location.replace(np.NaN, '')\n",
    "# sharks['State'] = sharks.State.replace(np.NaN, '')\n",
    "# sharks['Country'] = sharks.Country.replace(np.NaN,'')\n",
    " \n",
    "# sharks[\"Full Location\"] = sharks.Location+\", \"+sharks.State+\", \"+sharks.Country\n",
    "# sharks['Full Location'] = sharks['Full Location'].str.strip()"
   ]
  },
  {
   "cell_type": "code",
   "execution_count": null,
   "id": "7868c485",
   "metadata": {},
   "outputs": [],
   "source": [
    "# from opencage.geocoder import OpenCageGeocode\n",
    " \n",
    "# # Specify your OpenCage API key\n",
    "# api_key = \"6df11c978c79480d9eea55514a7650b4\"  # Replace with your actual API key\n",
    "# geolocator = OpenCageGeocode(api_key)\n",
    " \n",
    "# # Add new columns for Latitude and Longitude\n",
    "# sharks[\"Latitude\"] = ''\n",
    "# sharks[\"Longitude\"] = ''\n",
    " \n",
    "# for i in range(len(sharks)):\n",
    "#     location = sharks[\"Full Location\"][i]\n",
    "#     try:\n",
    "#         result = geolocator.geocode(location)\n",
    "#         if result:\n",
    "#             sharks.at[i, \"Latitude\"] = result[0]['geometry']['lat']\n",
    "#             sharks.at[i, \"Longitude\"] = result[0]['geometry']['lng']\n",
    "#     except Exception as e:\n",
    "#         print(f\"Error geocoding {location}: {e}\")\n",
    " \n",
    "#     sleep(1)"
   ]
  },
  {
   "cell_type": "code",
   "execution_count": null,
   "id": "ef17d0d7",
   "metadata": {},
   "outputs": [],
   "source": [
    "# from opencage.geocoder import OpenCageGeocode\n",
    "# from time import sleep\n",
    " \n",
    "# # Specify your new OpenCage API key\n",
    "# api_key = \"d7c9b0652b5647f293df4cd539b05c13\"  # Replace with your actual API key\n",
    "# geolocator = OpenCageGeocode(api_key)\n",
    " \n",
    "# # Add new columns for Latitude and Longitude\n",
    "# sharks[\"Latitude\"] = ''\n",
    "# sharks[\"Longitude\"] = ''\n",
    " \n",
    "# start_index = 2450\n",
    "# end_index = 4889\n",
    " \n",
    "# for i in range(start_index, end_index + 1):\n",
    "#     location = sharks[\"Full Location\"][i]\n",
    "#     try:\n",
    "#         result = geolocator.geocode(location)\n",
    "#         if result:\n",
    "#             sharks.at[i, \"Latitude\"] = result[0]['geometry']['lat']\n",
    "#             sharks.at[i, \"Longitude\"] = result[0]['geometry']['lng']\n",
    "#     except Exception as e:\n",
    "#         print(f\"Error geocoding {location}: {e}\")\n",
    " \n",
    "#     sleep(1)"
   ]
  },
  {
   "cell_type": "code",
   "execution_count": null,
   "id": "593c85e9",
   "metadata": {},
   "outputs": [],
   "source": [
    "# from opencage.geocoder import OpenCageGeocode\n",
    "# from time import sleep\n",
    " \n",
    "# # Specify your new OpenCage API key\n",
    "# api_key = \"f2cad65d79b342d0a2a4fe5e6360f1b5\"  # Replace with your actual API key\n",
    "# geolocator = OpenCageGeocode(api_key)\n",
    " \n",
    "# # Add new columns for Latitude and Longitude\n",
    "# sharks[\"Latitude\"] = ''\n",
    "# sharks[\"Longitude\"] = ''\n",
    " \n",
    "# start_index = 3420\n",
    "# end_index = 5870\n",
    " \n",
    "# for i in range(start_index, end_index + 1):\n",
    "#     location = sharks[\"Full Location\"][i]\n",
    "#     try:\n",
    "#         result = geolocator.geocode(location)\n",
    "#         if result:\n",
    "#             sharks.at[i, \"Latitude\"] = result[0]['geometry']['lat']\n",
    "#             sharks.at[i, \"Longitude\"] = result[0]['geometry']['lng']\n",
    "#     except Exception as e:\n",
    "#         print(f\"Error geocoding {location}: {e}\")\n",
    " \n",
    "#     sleep(1)"
   ]
  },
  {
   "cell_type": "code",
   "execution_count": null,
   "id": "0a5d77ba",
   "metadata": {},
   "outputs": [],
   "source": [
    "# from opencage.geocoder import OpenCageGeocode\n",
    "# from time import sleep\n",
    " \n",
    "# # Specify your new OpenCage API key\n",
    "# api_key = \"8211d85c4bd5481a9c0cf361d5ddacc8\"  # Replace with your actual API key\n",
    "# geolocator = OpenCageGeocode(api_key)\n",
    " \n",
    "# # Add new columns for Latitude and Longitude\n",
    "# sharks[\"Latitude\"] = ''\n",
    "# sharks[\"Longitude\"] = ''\n",
    " \n",
    "# start_index = 4889\n",
    "# end_index = 6904\n",
    " \n",
    "# for i in range(start_index, end_index + 1):\n",
    "#     location = sharks[\"Full Location\"][i]\n",
    "#     try:\n",
    "#         result = geolocator.geocode(location)\n",
    "#         if result:\n",
    "#             sharks.at[i, \"Latitude\"] = result[0]['geometry']['lat']\n",
    "#             sharks.at[i, \"Longitude\"] = result[0]['geometry']['lng']\n",
    "#     except Exception as e:\n",
    "#         print(f\"Error geocoding {location}: {e}\")\n",
    " \n",
    "#     sleep(1)"
   ]
  },
  {
   "cell_type": "code",
   "execution_count": null,
   "id": "47be1dfb",
   "metadata": {},
   "outputs": [],
   "source": [
    "#all three outputs were concatinated then put into a csv called \"fullsharkmapping\""
   ]
  },
  {
   "cell_type": "code",
   "execution_count": null,
   "id": "ca608fed",
   "metadata": {},
   "outputs": [],
   "source": [
    "#fullsharkmapping = pd.concat([sharkmappy1, sharkmappy2, sharkmappy3], ignore_index=True)\n",
    "#fullsharkmapping"
   ]
  },
  {
   "cell_type": "code",
   "execution_count": null,
   "id": "b7f93adf",
   "metadata": {},
   "outputs": [],
   "source": [
    "# Make sure to read csv, uncomment to see map\n",
    "# fullsharkmapping = pd.read_csv(\"fullsharkmapping.csv\")"
   ]
  },
  {
   "cell_type": "code",
   "execution_count": null,
   "id": "36f532b2",
   "metadata": {},
   "outputs": [],
   "source": [
    "# import folium\n",
    " \n",
    "# def add_marker_species(map, lat, lon, species):\n",
    "#     color = get_color_species(species)\n",
    " \n",
    "#     folium.CircleMarker(\n",
    "#         location=[lat, lon],\n",
    "#         radius=5,\n",
    "#         color='black',\n",
    "#         fill=True,\n",
    "#         fill_color=color,\n",
    "#         fill_opacity=0.6,\n",
    "#         popup=f'Species: {species}',\n",
    "#         fill_opacity_border=0.2,\n",
    "#         weight=1,\n",
    "#     ).add_to(map)\n",
    " \n",
    "# def get_color_species(species):\n",
    "#     # You can customize the color mapping based on your preferences\n",
    "#     species_color_mapping = {\n",
    "#         'White shark': '#FF0000',\n",
    "#         'Tiger shark': '#FFFF00',\n",
    "#         'Bull shark': '#00FF00',\n",
    "#         'Oceanic blacktip shark': '#0000FF',\n",
    "#         'Nurse shark': '#FFA500',\n",
    "#         # Add more species and colors as needed\n",
    "#         'default': '#808080',  # Default color for other species\n",
    "#     }\n",
    "#     return species_color_mapping.get(species, species_color_mapping['default'])\n",
    " \n",
    "# map12 = folium.Map(location=[35.3826, -75.8534], zoom_start=2)  # Adjust zoom level as needed\n",
    " \n",
    "# # Filter data for species excluding 'unidentified', 'false report', 'Non confirmed'\n",
    "# filtered_data_species = fullsharkmapping[\n",
    "#     (~fullsharkmapping['Species'].isin(['unidentified', 'false report', 'Non confirmed']))\n",
    "# ]\n",
    " \n",
    "# # Count occurrences of each species and get the top 5\n",
    "# top_species = filtered_data_species['Species'].value_counts().head(5).index\n",
    " \n",
    "# for index, row in filtered_data_species.iterrows():\n",
    "#     lat, lon = row['Latitude'], row['Longitude']\n",
    "#     species = row['Species']\n",
    "#     add_marker_species(map12, lat, lon, species)\n",
    " \n",
    "# # Legend for the top 5 species\n",
    "# legend_html_species = '''\n",
    "# <div style=\"position: fixed; bottom: 50px; left: 50px; z-index:1000; font-size: 14px;\">\n",
    "# <p style=\"background-color:#FF0000;color:#FFFFFF;\">White shark</p>\n",
    "# <p style=\"background-color:#FFFF00;color:#000000;\">Tiger shark</p>\n",
    "# <p style=\"background-color:#00FF00;color:#000000;\">Bull shark</p>\n",
    "# <p style=\"background-color:#0000FF;color:#FFFFFF;\">Oceanic blacktip shark</p>\n",
    "# <p style=\"background-color:#FFA500;color:#000000;\">Nurse shark</p>\n",
    "# <!-- Add more species and colors as needed -->\n",
    "# <p style=\"background-color:#808080;color:#000000;\">Other</p>\n",
    "# </div>\n",
    "# '''\n",
    "# map12.get_root().html.add_child(folium.Element(legend_html_species))\n",
    " \n",
    "# map12"
   ]
  },
  {
   "cell_type": "code",
   "execution_count": null,
   "id": "0647f5cc",
   "metadata": {},
   "outputs": [],
   "source": [
    "# map12.save(\"shark_Species_map.html\")"
   ]
  },
  {
   "cell_type": "code",
   "execution_count": null,
   "id": "5d06d7c9",
   "metadata": {},
   "outputs": [],
   "source": [
    "# import folium\n",
    " \n",
    "# def add_marker_details(map, row):\n",
    "#     lat, lon = row['Latitude'], row['Longitude']\n",
    " \n",
    "#     # Construct HTML for the popup details without specific columns\n",
    "#     popup_html = f'''\n",
    "# <strong>Type:</strong> {row['Type']}<br>\n",
    "# <strong>Country:</strong> {row['Country']}<br>\n",
    "# <strong>State:</strong> {row['State']}<br>\n",
    "# <strong>Name:</strong> {row['Name']}<br>\n",
    "# <strong>Sex:</strong> {row['Sex']}<br>\n",
    "# <strong>Age:</strong> {row['Age']}<br>\n",
    "# <strong>Injury:</strong> {row['Injury']}<br>\n",
    "# <strong>Fatality:</strong> {row['Fatality']}<br>\n",
    "# <strong>Time:</strong> {row['Time']}<br>\n",
    "# <strong>Species:</strong> {row['Species']}<br>\n",
    "# <strong>Date:</strong> {row['Date']}<br>\n",
    "# <strong>Year:</strong> {row['Year']}<br>\n",
    "# <strong>Month:</strong> {row['Month']}<br>\n",
    "# <strong>Day:</strong> {row['Day']}<br>\n",
    "# <strong>Weekday:</strong> {row['Weekday']}<br>\n",
    "# <strong>Location:</strong> {row['Location']}<br>\n",
    "# <strong>Activities Token Strings:</strong> {row['Activities_token_strings']}<br>\n",
    "#     '''\n",
    " \n",
    "#     folium.CircleMarker(\n",
    "#         location=[lat, lon],\n",
    "#         radius=5,\n",
    "#         color='black',\n",
    "#         fill=True,\n",
    "#         fill_color='red',  \n",
    "#         fill_opacity=0.6,\n",
    "#         popup=folium.Popup(popup_html, max_width=300),\n",
    "#         fill_opacity_border=0.2,\n",
    "#         weight=1,\n",
    "#     ).add_to(map)\n",
    " \n",
    "# map15 = folium.Map(location=[35.3826, -75.8534], zoom_start=2)  \n",
    " \n",
    "# for index, row in fullsharkmapping.iterrows():\n",
    "#     add_marker_details(map15, row)\n",
    " \n",
    "# map15"
   ]
  },
  {
   "cell_type": "code",
   "execution_count": null,
   "id": "8e0ae25b",
   "metadata": {},
   "outputs": [],
   "source": [
    "# map15.save(\"Shark_ALL_map.html\")"
   ]
  }
 ],
 "metadata": {
  "colab": {
   "provenance": []
  },
  "kernelspec": {
   "display_name": "Python 3 (ipykernel)",
   "language": "python",
   "name": "python3"
  },
  "language_info": {
   "codemirror_mode": {
    "name": "ipython",
    "version": 3
   },
   "file_extension": ".py",
   "mimetype": "text/x-python",
   "name": "python",
   "nbconvert_exporter": "python",
   "pygments_lexer": "ipython3",
   "version": "3.11.3"
  },
  "toc": {
   "base_numbering": 1,
   "nav_menu": {},
   "number_sections": true,
   "sideBar": true,
   "skip_h1_title": true,
   "title_cell": "Table of Contents",
   "title_sidebar": "Contents",
   "toc_cell": false,
   "toc_position": {},
   "toc_section_display": true,
   "toc_window_display": false
  }
 },
 "nbformat": 4,
 "nbformat_minor": 5
}
