{
  "nbformat": 4,
  "nbformat_minor": 0,
  "metadata": {
    "colab": {
      "provenance": []
    },
    "kernelspec": {
      "name": "python3",
      "display_name": "Python 3"
    },
    "language_info": {
      "name": "python"
    }
  },
  "cells": [
    {
      "cell_type": "code",
      "execution_count": null,
      "metadata": {
        "colab": {
          "base_uri": "https://localhost:8080/"
        },
        "id": "4AK3rLzD7q8k",
        "outputId": "8f64c18c-6d1c-4fb7-c0ee-cf17f8d2fb47"
      },
      "outputs": [
        {
          "output_type": "stream",
          "name": "stdout",
          "text": [
            "Drive already mounted at /content/drive/; to attempt to forcibly remount, call drive.mount(\"/content/drive/\", force_remount=True).\n"
          ]
        }
      ],
      "source": [
        "import pandas as pd\n",
        "import numpy as np\n",
        "import matplotlib.pyplot as plt\n",
        "from google.colab import drive\n",
        "drive.mount('/content/drive/')\n",
        "import seaborn as sns"
      ]
    },
    {
      "cell_type": "code",
      "source": [
        "from nltk.stem import WordNetLemmatizer\n",
        "import nltk\n",
        "from nltk.corpus import stopwords\n",
        "nltk.download('wordnet')\n",
        "nltk.download('averaged_perceptron_tagger')\n",
        "nltk.download('punkt')\n",
        "nltk.download('stopwords')"
      ],
      "metadata": {
        "colab": {
          "base_uri": "https://localhost:8080/"
        },
        "id": "q9EVxATiAEsl",
        "outputId": "32936886-f962-4ef2-dd91-5d3693d0bf34"
      },
      "execution_count": null,
      "outputs": [
        {
          "output_type": "stream",
          "name": "stderr",
          "text": [
            "[nltk_data] Downloading package wordnet to /root/nltk_data...\n",
            "[nltk_data]   Package wordnet is already up-to-date!\n",
            "[nltk_data] Downloading package averaged_perceptron_tagger to\n",
            "[nltk_data]     /root/nltk_data...\n",
            "[nltk_data]   Package averaged_perceptron_tagger is already up-to-\n",
            "[nltk_data]       date!\n",
            "[nltk_data] Downloading package punkt to /root/nltk_data...\n",
            "[nltk_data]   Package punkt is already up-to-date!\n",
            "[nltk_data] Downloading package stopwords to /root/nltk_data...\n",
            "[nltk_data]   Package stopwords is already up-to-date!\n"
          ]
        },
        {
          "output_type": "execute_result",
          "data": {
            "text/plain": [
              "True"
            ]
          },
          "metadata": {},
          "execution_count": 72
        }
      ]
    },
    {
      "cell_type": "code",
      "source": [
        "import re"
      ],
      "metadata": {
        "id": "f0HJ1NNVEOxf"
      },
      "execution_count": null,
      "outputs": []
    },
    {
      "cell_type": "code",
      "source": [
        "pd.set_option('display.max_columns',None,'display.max_rows',None)"
      ],
      "metadata": {
        "id": "jRYE7SXR_lbe"
      },
      "execution_count": null,
      "outputs": []
    },
    {
      "cell_type": "code",
      "source": [
        "def read_dataframe(path):\n",
        "  df=pd.read_excel(path)\n",
        "  df.drop(['pdf','href formula','href','Case Number','Case Number.1','original order','Unnamed: 21','Unnamed: 22'],axis=1,inplace=True)\n",
        "  df.rename(columns={'Species ':'Species','Unnamed: 11':'Fatality'},inplace=True)\n",
        "  df=df.iloc[:6906]\n",
        "\n",
        "  return df"
      ],
      "metadata": {
        "id": "Q0XPOr5vCG0m"
      },
      "execution_count": null,
      "outputs": []
    },
    {
      "cell_type": "code",
      "source": [
        "def mass_replace(df,column,matches_replacements):\n",
        "  '''\n",
        "  Replaces every key from matches_replacements dict with the corresponding value\n",
        "\n",
        "  '''\n",
        "  if not len(matches_replacements):\n",
        "    raise ValueError('Length of arguments 0. Please give something to replace')\n",
        "\n",
        "  if type(matches_replacements) != dict:\n",
        "    raise TypeError('Matches_replacements must be of type dict')\n",
        "\n",
        "  types=[list,tuple,dict]\n",
        "  for key,value in matches_replacements.items():\n",
        "    if type(key) in types or type(value) in types:\n",
        "      raise TypeError('''When iterating through keys and values, none of the\n",
        "      individual keys or values should be an interable''')\n",
        "\n",
        "    try:\n",
        "      df[column].replace({key:value},regex=True,inplace=True)\n",
        "\n",
        "    except:\n",
        "      print(f'the key, value causing the error are {key},{value}')\n",
        "\n"
      ],
      "metadata": {
        "id": "ubR96QkqqLBN"
      },
      "execution_count": null,
      "outputs": []
    },
    {
      "cell_type": "code",
      "source": [
        "def clean_sex_column(df):\n",
        "  pattern1=r'&|passengers|crew\\b|occupants|males\\b|Occupants|people|men\\b|children|others?\\b|migrants|immigrants|couple\\b|refugees\\b|slaves|poachers|tourists|swimmers'\n",
        "  mask=df.Name.str.contains(pattern1,regex=True)\n",
        "  df.Sex[(mask)&(df.Sex.isnull())]='multiple'\n",
        "\n",
        "  return df"
      ],
      "metadata": {
        "id": "MQt9OspODC37"
      },
      "execution_count": null,
      "outputs": []
    },
    {
      "cell_type": "code",
      "source": [
        "def give_enumerated_dict_from_list(list_of_words):\n",
        "\n",
        "\n",
        "  dictionary_of_word_index={}\n",
        "\n",
        "  for i,word in enumerate(list_of_words):\n",
        "    dictionary_of_word_index[word]=i\n",
        "\n",
        "  return dictionary_of_word_index\n",
        "\n",
        "\n",
        "\n",
        "def remove_stopwords(string):\n",
        "  if pd.isna(string):\n",
        "    string=''\n",
        "  if type(string) != str:\n",
        "    raise ValueError(f'object is of type {type(string)}, object is {string}')\n",
        "\n",
        "  tokenized_list=nltk.word_tokenize(string)\n",
        "\n",
        "  stopwords_dict=give_enumerated_dict_from_list(stopwords.words('english'))\n",
        "  tokenized_dict=give_enumerated_dict_from_list(tokenized_list)\n",
        "\n",
        "  no_stopwords_list=[]\n",
        "  for word in tokenized_dict.keys():\n",
        "    if not stopwords_dict.get(word,False):\n",
        "      no_stopwords_list.append(word)\n",
        "\n",
        "\n",
        "  return no_stopwords_list\n",
        "\n",
        "def pos_tag_verb_selection(string):\n",
        "  string=remove_stopwords(string)\n",
        "\n",
        "  tagged_string=nltk.pos_tag(string)\n",
        "\n",
        "  list_of_only_verbs=[]\n",
        "\n",
        "  for word,pos in dict(tagged_string).items():\n",
        "    if 'V' in pos:\n",
        "      list_of_only_verbs.append(word)\n",
        "\n",
        "  list_of_only_lemma=[]\n",
        "\n",
        "  for word in list_of_only_verbs:\n",
        "    list_of_only_lemma.append(lemmatizer.lemmatize(word.lower(),'v'))\n",
        "\n",
        "  return list_of_only_lemma\n",
        "\n"
      ],
      "metadata": {
        "id": "5xf71X9REJDh"
      },
      "execution_count": null,
      "outputs": []
    },
    {
      "cell_type": "code",
      "source": [
        "def len_detect_before_split(word_list):\n",
        "  if len(word_list)>1:\n",
        "    return ','.join(word_list)\n",
        "  elif len(word_list)==1:\n",
        "    return word_list[0]\n",
        "  else:\n",
        "    return np.nan"
      ],
      "metadata": {
        "id": "dUTlAN7c4Af7"
      },
      "execution_count": null,
      "outputs": []
    },
    {
      "cell_type": "code",
      "source": [
        "def name_cleaner(string):\n",
        "  if type(string)!=str:\n",
        "    return np.nan\n",
        "\n",
        "  try:\n",
        "    string=string.lower()\n",
        "    string= string.split(' ')\n",
        "    return string[0]\n",
        "  except:\n",
        "    print(string)\n",
        "    return np.nan"
      ],
      "metadata": {
        "id": "MC7mnPqr5fWP"
      },
      "execution_count": null,
      "outputs": []
    },
    {
      "cell_type": "code",
      "source": [
        "df=read_dataframe('/content/drive/My Drive/GSAF5.xls')"
      ],
      "metadata": {
        "id": "lD4omQOOCo08"
      },
      "execution_count": null,
      "outputs": []
    },
    {
      "cell_type": "code",
      "source": [
        "mass_replace(df,'Sex',{r'.*M.*':'M','lli':'M',r'\\.': np.nan,'N':'M'})"
      ],
      "metadata": {
        "id": "WHEALHnuz4u8"
      },
      "execution_count": null,
      "outputs": []
    },
    {
      "cell_type": "code",
      "source": [
        "df=clean_sex_column(df)"
      ],
      "metadata": {
        "id": "MiofaqjlDlpg",
        "colab": {
          "base_uri": "https://localhost:8080/"
        },
        "outputId": "e3e67aff-e72d-4c67-a368-d52fb377394a"
      },
      "execution_count": null,
      "outputs": [
        {
          "output_type": "stream",
          "name": "stderr",
          "text": [
            "<ipython-input-79-009b7c963262>:4: SettingWithCopyWarning: \n",
            "A value is trying to be set on a copy of a slice from a DataFrame\n",
            "\n",
            "See the caveats in the documentation: https://pandas.pydata.org/pandas-docs/stable/user_guide/indexing.html#returning-a-view-versus-a-copy\n",
            "  df.Sex[(mask)&(df.Sex.isnull())]='multiple'\n"
          ]
        }
      ]
    },
    {
      "cell_type": "code",
      "source": [
        "lemmatizer=WordNetLemmatizer()"
      ],
      "metadata": {
        "id": "nmIAzl2sPsLl"
      },
      "execution_count": null,
      "outputs": []
    },
    {
      "cell_type": "code",
      "source": [
        "# activity"
      ],
      "metadata": {
        "id": "1lbLgXDk-ZyR"
      },
      "execution_count": null,
      "outputs": []
    },
    {
      "cell_type": "code",
      "source": [
        "df['Activity_tokens']=df.Activity.apply(pos_tag_verb_selection)"
      ],
      "metadata": {
        "id": "vTwWmmHHCurV"
      },
      "execution_count": null,
      "outputs": []
    },
    {
      "cell_type": "code",
      "source": [
        "df['Activities_token_strings']=df.Activity_tokens.apply(len_detect_before_split)"
      ],
      "metadata": {
        "id": "TB6iFf8h4U7M"
      },
      "execution_count": null,
      "outputs": []
    },
    {
      "cell_type": "code",
      "source": [
        "activities_series=df.Activities_token_strings.value_counts()"
      ],
      "metadata": {
        "id": "xrA3ZF3U2sjZ"
      },
      "execution_count": null,
      "outputs": []
    },
    {
      "cell_type": "code",
      "source": [
        "activities_dict={}\n",
        "for index,value in zip(activities_series.index,activities_series.values):\n",
        "  if len(index.split(','))==1:\n",
        "    if activities_dict.get(index,False):\n",
        "      activities_dict[index]+=value\n",
        "    else:\n",
        "      activities_dict[index]=value\n",
        "  if len(index.split(','))>1:\n",
        "    for word in index.split(','):\n",
        "      if activities_dict.get(word,False):\n",
        "        activities_dict[word]+=value\n",
        "      else:\n",
        "        activities_dict[word]=value"
      ],
      "metadata": {
        "id": "USh1G0TLCm-S"
      },
      "execution_count": null,
      "outputs": []
    },
    {
      "cell_type": "code",
      "source": [
        "activities_df=pd.Series(activities_dict).sort_values(ascending=False).reset_index()"
      ],
      "metadata": {
        "id": "VtxcXtpp1olB"
      },
      "execution_count": null,
      "outputs": []
    },
    {
      "cell_type": "code",
      "source": [
        "activities_df=activities_df[activities_df[0]>8]"
      ],
      "metadata": {
        "id": "4h3jCli1A2zk"
      },
      "execution_count": null,
      "outputs": []
    },
    {
      "cell_type": "code",
      "source": [
        "activities_df['index'].iloc[5]='wade'\n",
        "activities_df['index'].iloc[6]='bathe'\n",
        "activities_df[0].iloc[5]+=activities_df[0].iloc[7]\n",
        "activities_df[0].iloc[4]+=activities_df[0].iloc[8]\n",
        "activities_df[0].iloc[0]+=activities_df[0].iloc[9]\n",
        "activities_df[0].iloc[12]+=activities_df[0].iloc[10]\n",
        "activities_df[0].iloc[12]+=activities_df[0].iloc[21]\n",
        "activities_df.drop([7,8,9,10,21,11,15,18,19,20,22,23,24,27,28,29,30,31,33,34,35,37,38,40,41,43,44,45,46,47,51,52],axis=0,inplace=True)\n",
        "\n",
        "\n",
        "\n"
      ],
      "metadata": {
        "colab": {
          "base_uri": "https://localhost:8080/"
        },
        "id": "0sW-DUeBaueX",
        "outputId": "bb463fa7-4b53-4c55-ee05-799332ea314e"
      },
      "execution_count": null,
      "outputs": [
        {
          "output_type": "stream",
          "name": "stderr",
          "text": [
            "<ipython-input-91-4dd2b8b61be4>:2: SettingWithCopyWarning: \n",
            "A value is trying to be set on a copy of a slice from a DataFrame\n",
            "\n",
            "See the caveats in the documentation: https://pandas.pydata.org/pandas-docs/stable/user_guide/indexing.html#returning-a-view-versus-a-copy\n",
            "  activities_df['index'].iloc[6]='bathe'\n",
            "<ipython-input-91-4dd2b8b61be4>:4: SettingWithCopyWarning: \n",
            "A value is trying to be set on a copy of a slice from a DataFrame\n",
            "\n",
            "See the caveats in the documentation: https://pandas.pydata.org/pandas-docs/stable/user_guide/indexing.html#returning-a-view-versus-a-copy\n",
            "  activities_df[0].iloc[4]+=activities_df[0].iloc[8]\n",
            "<ipython-input-91-4dd2b8b61be4>:5: SettingWithCopyWarning: \n",
            "A value is trying to be set on a copy of a slice from a DataFrame\n",
            "\n",
            "See the caveats in the documentation: https://pandas.pydata.org/pandas-docs/stable/user_guide/indexing.html#returning-a-view-versus-a-copy\n",
            "  activities_df[0].iloc[0]+=activities_df[0].iloc[9]\n",
            "<ipython-input-91-4dd2b8b61be4>:6: SettingWithCopyWarning: \n",
            "A value is trying to be set on a copy of a slice from a DataFrame\n",
            "\n",
            "See the caveats in the documentation: https://pandas.pydata.org/pandas-docs/stable/user_guide/indexing.html#returning-a-view-versus-a-copy\n",
            "  activities_df[0].iloc[12]+=activities_df[0].iloc[10]\n",
            "<ipython-input-91-4dd2b8b61be4>:7: SettingWithCopyWarning: \n",
            "A value is trying to be set on a copy of a slice from a DataFrame\n",
            "\n",
            "See the caveats in the documentation: https://pandas.pydata.org/pandas-docs/stable/user_guide/indexing.html#returning-a-view-versus-a-copy\n",
            "  activities_df[0].iloc[12]+=activities_df[0].iloc[21]\n"
          ]
        }
      ]
    },
    {
      "cell_type": "code",
      "source": [
        "activities_df=activities_df.sort_values(by=0,ascending=False).reset_index().drop(['level_0'],axis=1)\n",
        "activities_df.rename(columns={'index':'Activity',0:'Count'},inplace=True)"
      ],
      "metadata": {
        "id": "XKgSS_BIe22q"
      },
      "execution_count": null,
      "outputs": []
    },
    {
      "cell_type": "code",
      "source": [
        "activities_df.drop([16,17,18,19,20],inplace=True)"
      ],
      "metadata": {
        "id": "oOrsuokzD_KP"
      },
      "execution_count": null,
      "outputs": []
    },
    {
      "cell_type": "code",
      "source": [
        "mass_replace(df,'Time',{r'(?i)mid':'',r'(?i)late':'',r'(?i)early':'',\n",
        "                        r' (?i)(Sunset)':'',\n",
        "                        r'(?i)fall':'',\n",
        "                        r'(?i)Morning':'09:50',\n",
        "                        r'(?i)M':'09:50',\n",
        "                        r'(?i)A.M.':'09:50',\n",
        "                        r'(?i)Before ':'',\n",
        "                        r'(?i)shortly ':'',\n",
        "                        r'(?i)Prior to ':'',\n",
        "                        r'(?i)After ':'',\n",
        "                        r'(?i)Just ':'',\n",
        "                        r'(?i)daybreak':'06:00',\n",
        "                        r'(?i)evening':'18:00',\n",
        "                        r'(?i)sundown':'18:00',\n",
        "                        r'(?i)sunset':'18:00',\n",
        "                        r'\" (?i)evening\"':'18:00',\n",
        "                        r'(?i)dusk':'18:00',\n",
        "                        r'(?i)dawn':'06:00',\n",
        "                        r'(?i)Night':'21:00',\n",
        "                        r'(?i)Dark':'21:00',\n",
        "                        r'(?i)h':':',\n",
        "                        r'(?i)Afternoon':'14:00',\n",
        "                        r'(?i)Afternon':'14:00',\n",
        "                        r'(?i)Midday':'12:00',\n",
        "                        r'(?i)noon':'12:00',\n",
        "                        r'(?i)day.':'12:00',\n",
        "                        r'(?i)day':'12:00',\n",
        "                        r'(?i)Between (\\d\\d:\\d\\d) and (\\d\\d:\\d\\d)':'\\\\1',\n",
        "                        r'(?i)Between (\\d\\d:\\d\\d) to (\\d\\d:\\d\\d)':'\\\\1',\n",
        "                        r'(?i)Between (\\d\\d:\\d\\d) & (\\d\\d:\\d\\d)':'\\\\1',\n",
        "                        r'(\\d\\d:\\d\\d)-{1,2}\\d\\d:\\d\\d':'\\\\1',\n",
        "                        r'(\\d\\d:\\d\\d) - \\d\\d:\\d\\d':'\\\\1',\n",
        "                        r'(\\d\\d:\\d\\d) -\\d\\d:\\d\\d':'\\\\1',\n",
        "                        r'(\\d\\d:\\d\\d) -- \\d\\d:\\d\\d':'\\\\1',\n",
        "                        r'(\\d\\d:\\d\\d) or \\d\\d:\\d\\d':'\\\\1',\n",
        "                        r'(\\d\\d:\\d\\d) / \\d\\d:\\d\\d':'\\\\1',\n",
        "                        r'\" ':'',\n",
        "                        r'\"':'',\n",
        "                        r'P\\.':'',\n",
        "                        r'\\.':'',\n",
        "                        r'>':'',\n",
        "                        r'<':'',\n",
        "                        r'j':'',\n",
        "                        r'-':'',\n",
        "                        r'`':''})"
      ],
      "metadata": {
        "id": "z_1KbOpM14M6"
      },
      "execution_count": null,
      "outputs": []
    },
    {
      "cell_type": "code",
      "source": [
        "df.Time.iloc[5600]=np.nan\n",
        "df.Time.iloc[5308]='03:10'\n",
        "df.Time.iloc[5289]='11:01'\n",
        "df.Time.iloc[5208]='18:00'\n",
        "df.Time.iloc[5057]=np.nan\n",
        "df.Time.iloc[4988]='21:00'\n",
        "df.Time.iloc[4187]='13:00'\n",
        "df.Time.iloc[4030]=np.nan\n",
        "df.Time.iloc[3667]='09:50'\n",
        "df.Time.iloc[3291]=np.nan\n",
        "df.Time.iloc[3124]=np.nan\n",
        "df.Time.iloc[2764]=np.nan\n",
        "df.Time.iloc[2603]=np.nan\n",
        "df.Time.iloc[1692]='15:45'\n",
        "df.Time.iloc[1675]='12:00'\n",
        "df.Time.iloc[1535]='09:50'\n",
        "df.Time.iloc[1050]='06:00'\n",
        "df.Time.iloc[613]='19:00'\n",
        "df.Time.iloc[328]='14:15'\n",
        "\n",
        "\n",
        "\n"
      ],
      "metadata": {
        "id": "GydpkWLiFPWE",
        "colab": {
          "base_uri": "https://localhost:8080/"
        },
        "outputId": "76d7ae3d-9ad3-472f-ea56-83b59d9746b8"
      },
      "execution_count": null,
      "outputs": [
        {
          "output_type": "stream",
          "name": "stderr",
          "text": [
            "<ipython-input-95-bacd450ef7f4>:1: SettingWithCopyWarning: \n",
            "A value is trying to be set on a copy of a slice from a DataFrame\n",
            "\n",
            "See the caveats in the documentation: https://pandas.pydata.org/pandas-docs/stable/user_guide/indexing.html#returning-a-view-versus-a-copy\n",
            "  df.Time.iloc[5600]=np.nan\n",
            "<ipython-input-95-bacd450ef7f4>:2: SettingWithCopyWarning: \n",
            "A value is trying to be set on a copy of a slice from a DataFrame\n",
            "\n",
            "See the caveats in the documentation: https://pandas.pydata.org/pandas-docs/stable/user_guide/indexing.html#returning-a-view-versus-a-copy\n",
            "  df.Time.iloc[5308]='03:10'\n",
            "<ipython-input-95-bacd450ef7f4>:3: SettingWithCopyWarning: \n",
            "A value is trying to be set on a copy of a slice from a DataFrame\n",
            "\n",
            "See the caveats in the documentation: https://pandas.pydata.org/pandas-docs/stable/user_guide/indexing.html#returning-a-view-versus-a-copy\n",
            "  df.Time.iloc[5289]='11:01'\n",
            "<ipython-input-95-bacd450ef7f4>:4: SettingWithCopyWarning: \n",
            "A value is trying to be set on a copy of a slice from a DataFrame\n",
            "\n",
            "See the caveats in the documentation: https://pandas.pydata.org/pandas-docs/stable/user_guide/indexing.html#returning-a-view-versus-a-copy\n",
            "  df.Time.iloc[5208]='18:00'\n",
            "<ipython-input-95-bacd450ef7f4>:5: SettingWithCopyWarning: \n",
            "A value is trying to be set on a copy of a slice from a DataFrame\n",
            "\n",
            "See the caveats in the documentation: https://pandas.pydata.org/pandas-docs/stable/user_guide/indexing.html#returning-a-view-versus-a-copy\n",
            "  df.Time.iloc[5057]=np.nan\n",
            "<ipython-input-95-bacd450ef7f4>:6: SettingWithCopyWarning: \n",
            "A value is trying to be set on a copy of a slice from a DataFrame\n",
            "\n",
            "See the caveats in the documentation: https://pandas.pydata.org/pandas-docs/stable/user_guide/indexing.html#returning-a-view-versus-a-copy\n",
            "  df.Time.iloc[4988]='21:00'\n",
            "<ipython-input-95-bacd450ef7f4>:7: SettingWithCopyWarning: \n",
            "A value is trying to be set on a copy of a slice from a DataFrame\n",
            "\n",
            "See the caveats in the documentation: https://pandas.pydata.org/pandas-docs/stable/user_guide/indexing.html#returning-a-view-versus-a-copy\n",
            "  df.Time.iloc[4187]='13:00'\n",
            "<ipython-input-95-bacd450ef7f4>:8: SettingWithCopyWarning: \n",
            "A value is trying to be set on a copy of a slice from a DataFrame\n",
            "\n",
            "See the caveats in the documentation: https://pandas.pydata.org/pandas-docs/stable/user_guide/indexing.html#returning-a-view-versus-a-copy\n",
            "  df.Time.iloc[4030]=np.nan\n",
            "<ipython-input-95-bacd450ef7f4>:9: SettingWithCopyWarning: \n",
            "A value is trying to be set on a copy of a slice from a DataFrame\n",
            "\n",
            "See the caveats in the documentation: https://pandas.pydata.org/pandas-docs/stable/user_guide/indexing.html#returning-a-view-versus-a-copy\n",
            "  df.Time.iloc[3667]='09:50'\n",
            "<ipython-input-95-bacd450ef7f4>:10: SettingWithCopyWarning: \n",
            "A value is trying to be set on a copy of a slice from a DataFrame\n",
            "\n",
            "See the caveats in the documentation: https://pandas.pydata.org/pandas-docs/stable/user_guide/indexing.html#returning-a-view-versus-a-copy\n",
            "  df.Time.iloc[3291]=np.nan\n",
            "<ipython-input-95-bacd450ef7f4>:11: SettingWithCopyWarning: \n",
            "A value is trying to be set on a copy of a slice from a DataFrame\n",
            "\n",
            "See the caveats in the documentation: https://pandas.pydata.org/pandas-docs/stable/user_guide/indexing.html#returning-a-view-versus-a-copy\n",
            "  df.Time.iloc[3124]=np.nan\n",
            "<ipython-input-95-bacd450ef7f4>:12: SettingWithCopyWarning: \n",
            "A value is trying to be set on a copy of a slice from a DataFrame\n",
            "\n",
            "See the caveats in the documentation: https://pandas.pydata.org/pandas-docs/stable/user_guide/indexing.html#returning-a-view-versus-a-copy\n",
            "  df.Time.iloc[2764]=np.nan\n",
            "<ipython-input-95-bacd450ef7f4>:13: SettingWithCopyWarning: \n",
            "A value is trying to be set on a copy of a slice from a DataFrame\n",
            "\n",
            "See the caveats in the documentation: https://pandas.pydata.org/pandas-docs/stable/user_guide/indexing.html#returning-a-view-versus-a-copy\n",
            "  df.Time.iloc[2603]=np.nan\n",
            "<ipython-input-95-bacd450ef7f4>:14: SettingWithCopyWarning: \n",
            "A value is trying to be set on a copy of a slice from a DataFrame\n",
            "\n",
            "See the caveats in the documentation: https://pandas.pydata.org/pandas-docs/stable/user_guide/indexing.html#returning-a-view-versus-a-copy\n",
            "  df.Time.iloc[1692]='15:45'\n",
            "<ipython-input-95-bacd450ef7f4>:15: SettingWithCopyWarning: \n",
            "A value is trying to be set on a copy of a slice from a DataFrame\n",
            "\n",
            "See the caveats in the documentation: https://pandas.pydata.org/pandas-docs/stable/user_guide/indexing.html#returning-a-view-versus-a-copy\n",
            "  df.Time.iloc[1675]='12:00'\n",
            "<ipython-input-95-bacd450ef7f4>:16: SettingWithCopyWarning: \n",
            "A value is trying to be set on a copy of a slice from a DataFrame\n",
            "\n",
            "See the caveats in the documentation: https://pandas.pydata.org/pandas-docs/stable/user_guide/indexing.html#returning-a-view-versus-a-copy\n",
            "  df.Time.iloc[1535]='09:50'\n",
            "<ipython-input-95-bacd450ef7f4>:17: SettingWithCopyWarning: \n",
            "A value is trying to be set on a copy of a slice from a DataFrame\n",
            "\n",
            "See the caveats in the documentation: https://pandas.pydata.org/pandas-docs/stable/user_guide/indexing.html#returning-a-view-versus-a-copy\n",
            "  df.Time.iloc[1050]='06:00'\n",
            "<ipython-input-95-bacd450ef7f4>:18: SettingWithCopyWarning: \n",
            "A value is trying to be set on a copy of a slice from a DataFrame\n",
            "\n",
            "See the caveats in the documentation: https://pandas.pydata.org/pandas-docs/stable/user_guide/indexing.html#returning-a-view-versus-a-copy\n",
            "  df.Time.iloc[613]='19:00'\n",
            "<ipython-input-95-bacd450ef7f4>:19: SettingWithCopyWarning: \n",
            "A value is trying to be set on a copy of a slice from a DataFrame\n",
            "\n",
            "See the caveats in the documentation: https://pandas.pydata.org/pandas-docs/stable/user_guide/indexing.html#returning-a-view-versus-a-copy\n",
            "  df.Time.iloc[328]='14:15'\n"
          ]
        }
      ]
    },
    {
      "cell_type": "code",
      "source": [
        "mass_replace(df,'Age',{r'(\\d{1,2}) or \\d{1,2}':'\\g<1>',\n",
        "        r'(\\d{1,2}) to \\d{1,2}':'\\g<1>',\n",
        "        r'\"?(?i)young\"?':np.nan,\n",
        "        r'\"?(?i)adult\"?':np.nan,\n",
        "        r'\"?(?i)elderly\"?':np.nan,\n",
        "        r\"\\d+'?s\":np.nan,\n",
        "        r'(?i)m':np.nan,\n",
        "        r'(?i)teens?':np.nan,\n",
        "        r'[1-9]{1,2} and [1-9]{1,2}':'-1',\n",
        "        r'.* and .*':'-1',\n",
        "        r'.* & .*':'-1',\n",
        "        r'>':'',\n",
        "        r'<':'',\n",
        "        r'\\d      &    \\d\\d':'-1',\n",
        "        r' ':'',\n",
        "        r'\\?':''})\n"
      ],
      "metadata": {
        "id": "PJL64QldzGLJ"
      },
      "execution_count": null,
      "outputs": []
    },
    {
      "cell_type": "code",
      "source": [
        "df.Age.iloc[6599]=2\n",
        "df.Age.iloc[5775]=2\n",
        "df.Age.iloc[5764]=np.nan\n",
        "df.Age.iloc[5678]=np.nan\n",
        "df.Age.iloc[5655]=np.nan\n",
        "df.Age.iloc[5593]='-1'\n",
        "df.Age.iloc[5394]='-1'\n",
        "df.Age.iloc[5269]=np.nan\n",
        "df.Age.iloc[5180]='-1'\n",
        "df.Age.iloc[4983]=np.nan\n",
        "df.Age.iloc[4803]=1\n",
        "df.Age.iloc[4708]='-1'\n",
        "df.Age.iloc[4668]='-1'\n",
        "df.Age.iloc[4654]=np.nan\n",
        "df.Age.iloc[4642]=np.nan\n",
        "df.Age.iloc[4588]='-1'\n",
        "df.Age.iloc[4576]='-1'\n",
        "df.Age.iloc[4392]=np.nan\n",
        "df.Age.iloc[4236]=np.nan\n",
        "df.Age.iloc[4136]=1\n",
        "df.Age.iloc[4107]='-1'\n",
        "df.Age.iloc[3837]=20\n",
        "df.Age.iloc[3739]=74\n",
        "df.Age.iloc[3740]=45\n",
        "df.Age.iloc[3693]=np.nan\n",
        "df.Age.iloc[3567]=np.nan\n",
        "df.Age.iloc[3550]=np.nan\n",
        "df.Age.iloc[3477]=np.nan\n",
        "df.Age.iloc[3215]=np.nan\n",
        "df.Age.iloc[3216]=np.nan\n",
        "df.Age.iloc[3075]=np.nan\n",
        "df.Age.iloc[2533]=np.nan\n",
        "df.Age.iloc[2479]=6\n",
        "df.Age.iloc[2402]=np.nan\n",
        "df.Age.iloc[2403]=np.nan\n",
        "df.Age.iloc[1023]=1\n",
        "df.Age.iloc[554]=np.nan\n",
        "df.Age.iloc[424]='-1'\n",
        "df.Age.iloc[202]=np.nan\n",
        "df.Age.iloc[198]=6\n",
        "df.Age.iloc[36]=2\n",
        "df.Age.iloc[16]=np.nan\n",
        "\n",
        "\n"
      ],
      "metadata": {
        "id": "rD73F1QU0Tq2",
        "colab": {
          "base_uri": "https://localhost:8080/"
        },
        "outputId": "0ba67fed-289e-4bb5-80d2-1cf9ec6e7e33"
      },
      "execution_count": null,
      "outputs": [
        {
          "output_type": "stream",
          "name": "stderr",
          "text": [
            "<ipython-input-97-521be689f29c>:1: SettingWithCopyWarning: \n",
            "A value is trying to be set on a copy of a slice from a DataFrame\n",
            "\n",
            "See the caveats in the documentation: https://pandas.pydata.org/pandas-docs/stable/user_guide/indexing.html#returning-a-view-versus-a-copy\n",
            "  df.Age.iloc[6599]=2\n",
            "<ipython-input-97-521be689f29c>:2: SettingWithCopyWarning: \n",
            "A value is trying to be set on a copy of a slice from a DataFrame\n",
            "\n",
            "See the caveats in the documentation: https://pandas.pydata.org/pandas-docs/stable/user_guide/indexing.html#returning-a-view-versus-a-copy\n",
            "  df.Age.iloc[5775]=2\n",
            "<ipython-input-97-521be689f29c>:3: SettingWithCopyWarning: \n",
            "A value is trying to be set on a copy of a slice from a DataFrame\n",
            "\n",
            "See the caveats in the documentation: https://pandas.pydata.org/pandas-docs/stable/user_guide/indexing.html#returning-a-view-versus-a-copy\n",
            "  df.Age.iloc[5764]=np.nan\n",
            "<ipython-input-97-521be689f29c>:4: SettingWithCopyWarning: \n",
            "A value is trying to be set on a copy of a slice from a DataFrame\n",
            "\n",
            "See the caveats in the documentation: https://pandas.pydata.org/pandas-docs/stable/user_guide/indexing.html#returning-a-view-versus-a-copy\n",
            "  df.Age.iloc[5678]=np.nan\n",
            "<ipython-input-97-521be689f29c>:5: SettingWithCopyWarning: \n",
            "A value is trying to be set on a copy of a slice from a DataFrame\n",
            "\n",
            "See the caveats in the documentation: https://pandas.pydata.org/pandas-docs/stable/user_guide/indexing.html#returning-a-view-versus-a-copy\n",
            "  df.Age.iloc[5655]=np.nan\n",
            "<ipython-input-97-521be689f29c>:6: SettingWithCopyWarning: \n",
            "A value is trying to be set on a copy of a slice from a DataFrame\n",
            "\n",
            "See the caveats in the documentation: https://pandas.pydata.org/pandas-docs/stable/user_guide/indexing.html#returning-a-view-versus-a-copy\n",
            "  df.Age.iloc[5593]='-1'\n",
            "<ipython-input-97-521be689f29c>:7: SettingWithCopyWarning: \n",
            "A value is trying to be set on a copy of a slice from a DataFrame\n",
            "\n",
            "See the caveats in the documentation: https://pandas.pydata.org/pandas-docs/stable/user_guide/indexing.html#returning-a-view-versus-a-copy\n",
            "  df.Age.iloc[5394]='-1'\n",
            "<ipython-input-97-521be689f29c>:8: SettingWithCopyWarning: \n",
            "A value is trying to be set on a copy of a slice from a DataFrame\n",
            "\n",
            "See the caveats in the documentation: https://pandas.pydata.org/pandas-docs/stable/user_guide/indexing.html#returning-a-view-versus-a-copy\n",
            "  df.Age.iloc[5269]=np.nan\n",
            "<ipython-input-97-521be689f29c>:9: SettingWithCopyWarning: \n",
            "A value is trying to be set on a copy of a slice from a DataFrame\n",
            "\n",
            "See the caveats in the documentation: https://pandas.pydata.org/pandas-docs/stable/user_guide/indexing.html#returning-a-view-versus-a-copy\n",
            "  df.Age.iloc[5180]='-1'\n",
            "<ipython-input-97-521be689f29c>:10: SettingWithCopyWarning: \n",
            "A value is trying to be set on a copy of a slice from a DataFrame\n",
            "\n",
            "See the caveats in the documentation: https://pandas.pydata.org/pandas-docs/stable/user_guide/indexing.html#returning-a-view-versus-a-copy\n",
            "  df.Age.iloc[4983]=np.nan\n",
            "<ipython-input-97-521be689f29c>:11: SettingWithCopyWarning: \n",
            "A value is trying to be set on a copy of a slice from a DataFrame\n",
            "\n",
            "See the caveats in the documentation: https://pandas.pydata.org/pandas-docs/stable/user_guide/indexing.html#returning-a-view-versus-a-copy\n",
            "  df.Age.iloc[4803]=1\n",
            "<ipython-input-97-521be689f29c>:12: SettingWithCopyWarning: \n",
            "A value is trying to be set on a copy of a slice from a DataFrame\n",
            "\n",
            "See the caveats in the documentation: https://pandas.pydata.org/pandas-docs/stable/user_guide/indexing.html#returning-a-view-versus-a-copy\n",
            "  df.Age.iloc[4708]='-1'\n",
            "<ipython-input-97-521be689f29c>:13: SettingWithCopyWarning: \n",
            "A value is trying to be set on a copy of a slice from a DataFrame\n",
            "\n",
            "See the caveats in the documentation: https://pandas.pydata.org/pandas-docs/stable/user_guide/indexing.html#returning-a-view-versus-a-copy\n",
            "  df.Age.iloc[4668]='-1'\n",
            "<ipython-input-97-521be689f29c>:14: SettingWithCopyWarning: \n",
            "A value is trying to be set on a copy of a slice from a DataFrame\n",
            "\n",
            "See the caveats in the documentation: https://pandas.pydata.org/pandas-docs/stable/user_guide/indexing.html#returning-a-view-versus-a-copy\n",
            "  df.Age.iloc[4654]=np.nan\n",
            "<ipython-input-97-521be689f29c>:15: SettingWithCopyWarning: \n",
            "A value is trying to be set on a copy of a slice from a DataFrame\n",
            "\n",
            "See the caveats in the documentation: https://pandas.pydata.org/pandas-docs/stable/user_guide/indexing.html#returning-a-view-versus-a-copy\n",
            "  df.Age.iloc[4642]=np.nan\n",
            "<ipython-input-97-521be689f29c>:16: SettingWithCopyWarning: \n",
            "A value is trying to be set on a copy of a slice from a DataFrame\n",
            "\n",
            "See the caveats in the documentation: https://pandas.pydata.org/pandas-docs/stable/user_guide/indexing.html#returning-a-view-versus-a-copy\n",
            "  df.Age.iloc[4588]='-1'\n",
            "<ipython-input-97-521be689f29c>:17: SettingWithCopyWarning: \n",
            "A value is trying to be set on a copy of a slice from a DataFrame\n",
            "\n",
            "See the caveats in the documentation: https://pandas.pydata.org/pandas-docs/stable/user_guide/indexing.html#returning-a-view-versus-a-copy\n",
            "  df.Age.iloc[4576]='-1'\n",
            "<ipython-input-97-521be689f29c>:18: SettingWithCopyWarning: \n",
            "A value is trying to be set on a copy of a slice from a DataFrame\n",
            "\n",
            "See the caveats in the documentation: https://pandas.pydata.org/pandas-docs/stable/user_guide/indexing.html#returning-a-view-versus-a-copy\n",
            "  df.Age.iloc[4392]=np.nan\n",
            "<ipython-input-97-521be689f29c>:19: SettingWithCopyWarning: \n",
            "A value is trying to be set on a copy of a slice from a DataFrame\n",
            "\n",
            "See the caveats in the documentation: https://pandas.pydata.org/pandas-docs/stable/user_guide/indexing.html#returning-a-view-versus-a-copy\n",
            "  df.Age.iloc[4236]=np.nan\n",
            "<ipython-input-97-521be689f29c>:20: SettingWithCopyWarning: \n",
            "A value is trying to be set on a copy of a slice from a DataFrame\n",
            "\n",
            "See the caveats in the documentation: https://pandas.pydata.org/pandas-docs/stable/user_guide/indexing.html#returning-a-view-versus-a-copy\n",
            "  df.Age.iloc[4136]=1\n",
            "<ipython-input-97-521be689f29c>:21: SettingWithCopyWarning: \n",
            "A value is trying to be set on a copy of a slice from a DataFrame\n",
            "\n",
            "See the caveats in the documentation: https://pandas.pydata.org/pandas-docs/stable/user_guide/indexing.html#returning-a-view-versus-a-copy\n",
            "  df.Age.iloc[4107]='-1'\n",
            "<ipython-input-97-521be689f29c>:22: SettingWithCopyWarning: \n",
            "A value is trying to be set on a copy of a slice from a DataFrame\n",
            "\n",
            "See the caveats in the documentation: https://pandas.pydata.org/pandas-docs/stable/user_guide/indexing.html#returning-a-view-versus-a-copy\n",
            "  df.Age.iloc[3837]=20\n",
            "<ipython-input-97-521be689f29c>:23: SettingWithCopyWarning: \n",
            "A value is trying to be set on a copy of a slice from a DataFrame\n",
            "\n",
            "See the caveats in the documentation: https://pandas.pydata.org/pandas-docs/stable/user_guide/indexing.html#returning-a-view-versus-a-copy\n",
            "  df.Age.iloc[3739]=74\n",
            "<ipython-input-97-521be689f29c>:24: SettingWithCopyWarning: \n",
            "A value is trying to be set on a copy of a slice from a DataFrame\n",
            "\n",
            "See the caveats in the documentation: https://pandas.pydata.org/pandas-docs/stable/user_guide/indexing.html#returning-a-view-versus-a-copy\n",
            "  df.Age.iloc[3740]=45\n",
            "<ipython-input-97-521be689f29c>:25: SettingWithCopyWarning: \n",
            "A value is trying to be set on a copy of a slice from a DataFrame\n",
            "\n",
            "See the caveats in the documentation: https://pandas.pydata.org/pandas-docs/stable/user_guide/indexing.html#returning-a-view-versus-a-copy\n",
            "  df.Age.iloc[3693]=np.nan\n",
            "<ipython-input-97-521be689f29c>:26: SettingWithCopyWarning: \n",
            "A value is trying to be set on a copy of a slice from a DataFrame\n",
            "\n",
            "See the caveats in the documentation: https://pandas.pydata.org/pandas-docs/stable/user_guide/indexing.html#returning-a-view-versus-a-copy\n",
            "  df.Age.iloc[3567]=np.nan\n",
            "<ipython-input-97-521be689f29c>:27: SettingWithCopyWarning: \n",
            "A value is trying to be set on a copy of a slice from a DataFrame\n",
            "\n",
            "See the caveats in the documentation: https://pandas.pydata.org/pandas-docs/stable/user_guide/indexing.html#returning-a-view-versus-a-copy\n",
            "  df.Age.iloc[3550]=np.nan\n",
            "<ipython-input-97-521be689f29c>:28: SettingWithCopyWarning: \n",
            "A value is trying to be set on a copy of a slice from a DataFrame\n",
            "\n",
            "See the caveats in the documentation: https://pandas.pydata.org/pandas-docs/stable/user_guide/indexing.html#returning-a-view-versus-a-copy\n",
            "  df.Age.iloc[3477]=np.nan\n",
            "<ipython-input-97-521be689f29c>:29: SettingWithCopyWarning: \n",
            "A value is trying to be set on a copy of a slice from a DataFrame\n",
            "\n",
            "See the caveats in the documentation: https://pandas.pydata.org/pandas-docs/stable/user_guide/indexing.html#returning-a-view-versus-a-copy\n",
            "  df.Age.iloc[3215]=np.nan\n",
            "<ipython-input-97-521be689f29c>:30: SettingWithCopyWarning: \n",
            "A value is trying to be set on a copy of a slice from a DataFrame\n",
            "\n",
            "See the caveats in the documentation: https://pandas.pydata.org/pandas-docs/stable/user_guide/indexing.html#returning-a-view-versus-a-copy\n",
            "  df.Age.iloc[3216]=np.nan\n",
            "<ipython-input-97-521be689f29c>:31: SettingWithCopyWarning: \n",
            "A value is trying to be set on a copy of a slice from a DataFrame\n",
            "\n",
            "See the caveats in the documentation: https://pandas.pydata.org/pandas-docs/stable/user_guide/indexing.html#returning-a-view-versus-a-copy\n",
            "  df.Age.iloc[3075]=np.nan\n",
            "<ipython-input-97-521be689f29c>:32: SettingWithCopyWarning: \n",
            "A value is trying to be set on a copy of a slice from a DataFrame\n",
            "\n",
            "See the caveats in the documentation: https://pandas.pydata.org/pandas-docs/stable/user_guide/indexing.html#returning-a-view-versus-a-copy\n",
            "  df.Age.iloc[2533]=np.nan\n",
            "<ipython-input-97-521be689f29c>:33: SettingWithCopyWarning: \n",
            "A value is trying to be set on a copy of a slice from a DataFrame\n",
            "\n",
            "See the caveats in the documentation: https://pandas.pydata.org/pandas-docs/stable/user_guide/indexing.html#returning-a-view-versus-a-copy\n",
            "  df.Age.iloc[2479]=6\n",
            "<ipython-input-97-521be689f29c>:34: SettingWithCopyWarning: \n",
            "A value is trying to be set on a copy of a slice from a DataFrame\n",
            "\n",
            "See the caveats in the documentation: https://pandas.pydata.org/pandas-docs/stable/user_guide/indexing.html#returning-a-view-versus-a-copy\n",
            "  df.Age.iloc[2402]=np.nan\n",
            "<ipython-input-97-521be689f29c>:35: SettingWithCopyWarning: \n",
            "A value is trying to be set on a copy of a slice from a DataFrame\n",
            "\n",
            "See the caveats in the documentation: https://pandas.pydata.org/pandas-docs/stable/user_guide/indexing.html#returning-a-view-versus-a-copy\n",
            "  df.Age.iloc[2403]=np.nan\n",
            "<ipython-input-97-521be689f29c>:36: SettingWithCopyWarning: \n",
            "A value is trying to be set on a copy of a slice from a DataFrame\n",
            "\n",
            "See the caveats in the documentation: https://pandas.pydata.org/pandas-docs/stable/user_guide/indexing.html#returning-a-view-versus-a-copy\n",
            "  df.Age.iloc[1023]=1\n",
            "<ipython-input-97-521be689f29c>:37: SettingWithCopyWarning: \n",
            "A value is trying to be set on a copy of a slice from a DataFrame\n",
            "\n",
            "See the caveats in the documentation: https://pandas.pydata.org/pandas-docs/stable/user_guide/indexing.html#returning-a-view-versus-a-copy\n",
            "  df.Age.iloc[554]=np.nan\n",
            "<ipython-input-97-521be689f29c>:38: SettingWithCopyWarning: \n",
            "A value is trying to be set on a copy of a slice from a DataFrame\n",
            "\n",
            "See the caveats in the documentation: https://pandas.pydata.org/pandas-docs/stable/user_guide/indexing.html#returning-a-view-versus-a-copy\n",
            "  df.Age.iloc[424]='-1'\n",
            "<ipython-input-97-521be689f29c>:39: SettingWithCopyWarning: \n",
            "A value is trying to be set on a copy of a slice from a DataFrame\n",
            "\n",
            "See the caveats in the documentation: https://pandas.pydata.org/pandas-docs/stable/user_guide/indexing.html#returning-a-view-versus-a-copy\n",
            "  df.Age.iloc[202]=np.nan\n",
            "<ipython-input-97-521be689f29c>:40: SettingWithCopyWarning: \n",
            "A value is trying to be set on a copy of a slice from a DataFrame\n",
            "\n",
            "See the caveats in the documentation: https://pandas.pydata.org/pandas-docs/stable/user_guide/indexing.html#returning-a-view-versus-a-copy\n",
            "  df.Age.iloc[198]=6\n",
            "<ipython-input-97-521be689f29c>:41: SettingWithCopyWarning: \n",
            "A value is trying to be set on a copy of a slice from a DataFrame\n",
            "\n",
            "See the caveats in the documentation: https://pandas.pydata.org/pandas-docs/stable/user_guide/indexing.html#returning-a-view-versus-a-copy\n",
            "  df.Age.iloc[36]=2\n",
            "<ipython-input-97-521be689f29c>:42: SettingWithCopyWarning: \n",
            "A value is trying to be set on a copy of a slice from a DataFrame\n",
            "\n",
            "See the caveats in the documentation: https://pandas.pydata.org/pandas-docs/stable/user_guide/indexing.html#returning-a-view-versus-a-copy\n",
            "  df.Age.iloc[16]=np.nan\n"
          ]
        }
      ]
    },
    {
      "cell_type": "code",
      "source": [
        "df.Name=df.Name.apply(name_cleaner)"
      ],
      "metadata": {
        "id": "q9l0cpsB5IbL"
      },
      "execution_count": null,
      "outputs": []
    },
    {
      "cell_type": "code",
      "source": [
        "name_counts=df.Name.value_counts().reset_index().drop([0,1,3,7,12,21,22])"
      ],
      "metadata": {
        "id": "cvSUFfXx6MvP"
      },
      "execution_count": null,
      "outputs": []
    },
    {
      "cell_type": "code",
      "source": [
        "name_counts.rename(columns={'index':'name','Name':'count'},inplace=True)"
      ],
      "metadata": {
        "id": "-znh0vS_6rz1"
      },
      "execution_count": null,
      "outputs": []
    },
    {
      "cell_type": "code",
      "source": [
        "name_counts=name_counts[name_counts['count']>28]"
      ],
      "metadata": {
        "id": "Ksa_CUXi6-zl"
      },
      "execution_count": null,
      "outputs": []
    },
    {
      "cell_type": "code",
      "source": [
        "name_counts.shape"
      ],
      "metadata": {
        "colab": {
          "base_uri": "https://localhost:8080/"
        },
        "id": "LJdTih7O7NCL",
        "outputId": "50ef6b20-3c3e-43f4-9fab-c5f81b239284"
      },
      "execution_count": null,
      "outputs": [
        {
          "output_type": "execute_result",
          "data": {
            "text/plain": [
              "(16, 2)"
            ]
          },
          "metadata": {},
          "execution_count": 149
        }
      ]
    },
    {
      "cell_type": "code",
      "source": [
        "df.Age=df.Age.astype(float)"
      ],
      "metadata": {
        "id": "-Bw1fc-wC3tL"
      },
      "execution_count": null,
      "outputs": []
    },
    {
      "cell_type": "code",
      "source": [
        "with sns.axes_style('darkgrid'):\n",
        "  sns.histplot(data=df,x=df.Age[df.Age>-1],stat='count')\n",
        "  plt.title('Count of Shark Attacks by Age')\n",
        "  plt.ylabel('')\n",
        "  plt.xlabel('Age')\n"
      ],
      "metadata": {
        "colab": {
          "base_uri": "https://localhost:8080/",
          "height": 472
        },
        "id": "u0TRElru_nC9",
        "outputId": "e5e08391-34e3-45a9-a13d-d7180ae54877"
      },
      "execution_count": null,
      "outputs": [
        {
          "output_type": "display_data",
          "data": {
            "text/plain": [
              "<Figure size 640x480 with 1 Axes>"
            ],
            "image/png": "[encoded data removed]"
          },
          "metadata": {}
        }
      ]
    },
    {
      "cell_type": "code",
      "source": [
        "with sns.axes_style('darkgrid'):\n",
        "  sns.barplot(activities_df,x='Activity',y='Count',color='crimson')\n",
        "  plt.xticks(rotation=90)\n",
        "  plt.title('Count of Shark Attacks by Activity')"
      ],
      "metadata": {
        "id": "U3WCYlfKsB66",
        "colab": {
          "base_uri": "https://localhost:8080/",
          "height": 543
        },
        "outputId": "509bc268-07de-4f12-ca0a-7021d6fb775f"
      },
      "execution_count": null,
      "outputs": [
        {
          "output_type": "display_data",
          "data": {
            "text/plain": [
              "<Figure size 640x480 with 1 Axes>"
            ],
            "image/png": "[encoded data removed]"
          },
          "metadata": {}
        }
      ]
    },
    {
      "cell_type": "code",
      "source": [
        "with sns.axes_style('darkgrid'):\n",
        "  sns.barplot(data=df,x=df.Sex.value_counts().index,y=df.Sex.value_counts().values,color='purple')\n",
        "  plt.title('Count of Victims by Sex')\n",
        "  plt.xlabel('Sex')\n",
        "  plt.ylabel('Count')"
      ],
      "metadata": {
        "colab": {
          "base_uri": "https://localhost:8080/",
          "height": 472
        },
        "id": "ARwxFqE2EJHV",
        "outputId": "c35eebea-eb04-4b08-883b-26017f066135"
      },
      "execution_count": null,
      "outputs": [
        {
          "output_type": "display_data",
          "data": {
            "text/plain": [
              "<Figure size 640x480 with 1 Axes>"
            ],
            "image/png": "[encoded data removed]"
          },
          "metadata": {}
        }
      ]
    },
    {
      "cell_type": "code",
      "source": [
        "with sns.axes_style('darkgrid'):\n",
        "  sns.barplot(data=name_counts,x='name',y='count',color='steelblue')\n",
        "  plt.title('Count of Victims by Name Listed')\n",
        "  plt.xlabel('Listed Name')\n",
        "  plt.ylabel('Count')\n",
        "  plt.xticks(rotation=90)"
      ],
      "metadata": {
        "colab": {
          "base_uri": "https://localhost:8080/",
          "height": 512
        },
        "id": "vGNorA5K7Zsx",
        "outputId": "cb20ae46-856f-4c84-ee53-8329f9ad3c23"
      },
      "execution_count": null,
      "outputs": [
        {
          "output_type": "display_data",
          "data": {
            "text/plain": [
              "<Figure size 640x480 with 1 Axes>"
            ],
            "image/png": "[encoded data removed]"
          },
          "metadata": {}
        }
      ]
    }
  ]
}